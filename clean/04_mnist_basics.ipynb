{
  "cells": [
    {
      "cell_type": "code",
      "execution_count": 2,
      "metadata": {
        "colab": {
          "base_uri": "https://localhost:8080/"
        },
        "id": "63d5EY65yLOu",
        "outputId": "8e0d4a8a-a621-40df-8d0f-228068003ad9"
      },
      "outputs": [
        {
          "output_type": "stream",
          "name": "stdout",
          "text": [
            "\u001b[K     |████████████████████████████████| 720 kB 5.3 MB/s \n",
            "\u001b[K     |████████████████████████████████| 1.2 MB 39.3 MB/s \n",
            "\u001b[K     |████████████████████████████████| 49 kB 5.2 MB/s \n",
            "\u001b[K     |████████████████████████████████| 187 kB 48.6 MB/s \n",
            "\u001b[K     |████████████████████████████████| 56 kB 4.4 MB/s \n",
            "\u001b[K     |████████████████████████████████| 561 kB 37.5 MB/s \n",
            "\u001b[K     |████████████████████████████████| 51 kB 316 kB/s \n",
            "\u001b[K     |████████████████████████████████| 130 kB 31.9 MB/s \n",
            "\u001b[?25hMounted at /content/gdrive\n"
          ]
        }
      ],
      "source": [
        "#hide\n",
        "!pip install -Uqq fastbook\n",
        "import fastbook\n",
        "fastbook.setup_book()"
      ]
    },
    {
      "cell_type": "code",
      "execution_count": 4,
      "metadata": {
        "id": "zgTebPkGyLOx"
      },
      "outputs": [],
      "source": [
        "#hide\n",
        "from fastai.vision.all import *\n",
        "from fastbook import *\n",
        "\n",
        "matplotlib.rc('image', cmap='Greys')"
      ]
    },
    {
      "cell_type": "markdown",
      "metadata": {
        "id": "mLV94TXvyLOy"
      },
      "source": [
        "# Under the Hood: Training a Digit Classifier"
      ]
    },
    {
      "cell_type": "markdown",
      "metadata": {
        "id": "FAYNvqtsyLO6"
      },
      "source": [
        "## Pixels: The Foundations of Computer Vision"
      ]
    },
    {
      "cell_type": "markdown",
      "metadata": {
        "id": "Uf_bWJA7yLO7"
      },
      "source": [
        "## Sidebar: Tenacity and Deep Learning"
      ]
    },
    {
      "cell_type": "markdown",
      "metadata": {
        "id": "qTSpcWSRyLO8"
      },
      "source": [
        "## End sidebar"
      ]
    },
    {
      "cell_type": "code",
      "source": [
        "path = untar_data(URLs.MNIST_SAMPLE)\n",
        "Path.BASE_PATH = path\n",
        "path.ls()"
      ],
      "metadata": {
        "colab": {
          "base_uri": "https://localhost:8080/",
          "height": 56
        },
        "id": "IMcsA5p_ytnK",
        "outputId": "d50735f8-ae56-4bf9-9f0f-6f459403f81e"
      },
      "execution_count": 5,
      "outputs": [
        {
          "output_type": "display_data",
          "data": {
            "text/plain": [
              "<IPython.core.display.HTML object>"
            ],
            "text/html": [
              "\n",
              "<style>\n",
              "    /* Turns off some styling */\n",
              "    progress {\n",
              "        /* gets rid of default border in Firefox and Opera. */\n",
              "        border: none;\n",
              "        /* Needs to be in here for Safari polyfill so background images work as expected. */\n",
              "        background-size: auto;\n",
              "    }\n",
              "    .progress-bar-interrupted, .progress-bar-interrupted::-webkit-progress-bar {\n",
              "        background: #F44336;\n",
              "    }\n",
              "</style>\n"
            ]
          },
          "metadata": {}
        },
        {
          "output_type": "display_data",
          "data": {
            "text/plain": [
              "<IPython.core.display.HTML object>"
            ],
            "text/html": [
              "\n",
              "    <div>\n",
              "      <progress value='3219456' class='' max='3214948' style='width:300px; height:20px; vertical-align: middle;'></progress>\n",
              "      100.14% [3219456/3214948 00:00<00:00]\n",
              "    </div>\n",
              "    "
            ]
          },
          "metadata": {}
        },
        {
          "output_type": "execute_result",
          "data": {
            "text/plain": [
              "(#3) [Path('train'),Path('valid'),Path('labels.csv')]"
            ]
          },
          "metadata": {},
          "execution_count": 5
        }
      ]
    },
    {
      "cell_type": "code",
      "source": [
        "(path/'valid').ls()"
      ],
      "metadata": {
        "id": "O_sOWu1mz_bV",
        "outputId": "66ed092d-18f9-431d-e87c-3d8ba64c306b",
        "colab": {
          "base_uri": "https://localhost:8080/"
        }
      },
      "execution_count": 6,
      "outputs": [
        {
          "output_type": "execute_result",
          "data": {
            "text/plain": [
              "(#2) [Path('valid/7'),Path('valid/3')]"
            ]
          },
          "metadata": {},
          "execution_count": 6
        }
      ]
    },
    {
      "cell_type": "code",
      "source": [
        "threes = (path/'train'/'3').ls().sorted()\n",
        "sevens = (path/'train'/'7').ls().sorted()\n",
        "sevens"
      ],
      "metadata": {
        "id": "kqaYZSWJ4PCs",
        "outputId": "d02ad452-853f-4569-b3fe-4cec5bef81bb",
        "colab": {
          "base_uri": "https://localhost:8080/"
        }
      },
      "execution_count": 7,
      "outputs": [
        {
          "output_type": "execute_result",
          "data": {
            "text/plain": [
              "(#6265) [Path('train/7/10002.png'),Path('train/7/1001.png'),Path('train/7/10014.png'),Path('train/7/10019.png'),Path('train/7/10039.png'),Path('train/7/10046.png'),Path('train/7/10050.png'),Path('train/7/10063.png'),Path('train/7/10077.png'),Path('train/7/10086.png')...]"
            ]
          },
          "metadata": {},
          "execution_count": 7
        }
      ]
    },
    {
      "cell_type": "code",
      "source": [
        "im7_path = sevens[1]\n",
        "im7 = Image.open(im7_path)\n",
        "im7"
      ],
      "metadata": {
        "id": "o3Y9sxu94gWr",
        "outputId": "51d5d1a7-50d4-4545-fd5e-5b94534f12a9",
        "colab": {
          "base_uri": "https://localhost:8080/",
          "height": 45
        }
      },
      "execution_count": 7,
      "outputs": [
        {
          "output_type": "execute_result",
          "data": {
            "text/plain": [
              "<PIL.PngImagePlugin.PngImageFile image mode=L size=28x28 at 0x7FB31012B6D0>"
            ],
            "image/png": "[encoded data removed]"
          },
          "metadata": {},
          "execution_count": 7
        }
      ]
    },
    {
      "cell_type": "code",
      "source": [
        "array(im7)"
      ],
      "metadata": {
        "id": "7LqRYsv14xJM",
        "outputId": "8044b31e-42ed-4134-d626-d0ccdd407a62",
        "colab": {
          "base_uri": "https://localhost:8080/"
        }
      },
      "execution_count": 8,
      "outputs": [
        {
          "output_type": "execute_result",
          "data": {
            "text/plain": [
              "array([[  0,   0,   0,   0,   0,   0,   0,   0,   0,   0,   0,   0,   0,   0,   0,   0,   0,   0,   0,   0,   0,   0,   0,   0,   0,   0,   0,   0],\n",
              "       [  0,   0,   0,   0,   0,   0,   0,   0,   0,   0,   0,   0,   0,   0,   0,   0,   0,   0,   0,   0,   0,   0,   0,   0,   0,   0,   0,   0],\n",
              "       [  0,   0,   0,   0,   0,   0,   0,   0,   0,   0,   0,   0,   0,   0,   0,   0,   0,   0,   0,   0,   0,   0,   0,   0,   0,   0,   0,   0],\n",
              "       [  0,   0,   0,   0,   0,   0,   0,   0,   0,   0,   0,   0,   0,   0,   0,   0,   0,   0,   0,   0,   0,   0,   0,   0,   0,   0,   0,   0],\n",
              "       [  0,   0,   0,   0,   0,   0,   0,   0,   0,   0,   0,   0,   0,   0,   0,   0,   0,   0,   0,   0,   0,   0,   0,   0,   0,   0,   0,   0],\n",
              "       [  0,   0,   0,   0,   0,   0,   0,   0,   0,   0,   0,   0,   0,   0,   0,   0,   0,   0,   0,   0,   0,   0,   0,   0,   0,   0,   0,   0],\n",
              "       [  0,   0,   0,   0,   0,   0,   0,   0,   0,   0,   0,   1,  13,   7,   0,   0,   0,   0,   0,   0,   2,  93, 244, 207,   8,   0,   0,   0],\n",
              "       [  0,   0,   0,   0,   0,   0,   0,   0,   0,   0,  15, 157, 254, 197,   0,   0,   0,   0,   0,  18, 131, 254, 254, 248,  11,   0,   0,   0],\n",
              "       [  0,   0,   0,   0,   0,   0,   0,   0,   0,   9, 220, 254, 254, 230, 104,   0,   0,   0,  65, 216, 254, 254, 254, 218,   8,   0,   0,   0],\n",
              "       [  0,   0,   0,   0,   0,   0,   0,   0,   0, 169, 254, 254, 231, 126,  40,  11,  70, 180, 254, 254, 254, 254, 254,  90,   0,   0,   0,   0],\n",
              "       [  0,   0,   0,   0,   0,   0,   0,  40, 183, 251, 254, 226,  81,  70, 180, 229, 254, 254, 254, 254, 254, 254, 115,   3,   0,   0,   0,   0],\n",
              "       [  0,   0,   0,   0,   0,   0,   7, 208, 254, 254, 255, 254, 254, 254, 255, 254, 254, 254, 254, 254, 254, 190,   3,   0,   0,   0,   0,   0],\n",
              "       [  0,   0,   0,   0,   0,   0,  53, 254, 254, 254, 254, 254, 253, 250, 212, 169, 125, 167, 254, 254, 241,  35,   0,   0,   0,   0,   0,   0],\n",
              "       [  0,   0,   0,   0,   0,   0, 150, 254, 254, 181,  77,  77,  48,   0,   0,   0, 128, 254, 254, 253,  57,   0,   0,   0,   0,   0,   0,   0],\n",
              "       [  0,   0,   0,   0,   0,   0,  14, 157, 195,  29,   0,   0,   0,   0,   0,  75, 248, 254, 254, 139,   0,   0,   0,   0,   0,   0,   0,   0],\n",
              "       [  0,   0,   0,   0,   0,   0,   0,   0,   0,   0,   0,   0,   0,   0,  59, 217, 254, 254, 170,  15,   0,   0,   0,   0,   0,   0,   0,   0],\n",
              "       [  0,   0,   0,   0,   0,   0,   0,   0,   0,   0,   0,   0,   0,  15, 217, 254, 254, 214,  15,   0,   0,   0,   0,   0,   0,   0,   0,   0],\n",
              "       [  0,   0,   0,   0,   0,   0,   0,   0,   0,   0,   0,   0,   5, 113, 254, 254, 238,  55,   0,   0,   0,   0,   0,   0,   0,   0,   0,   0],\n",
              "       [  0,   0,   0,   0,   0,   0,   0,   0,   0,   0,   0,   2,  89, 254, 254, 239,  81,   0,   0,   0,   0,   0,   0,   0,   0,   0,   0,   0],\n",
              "       [  0,   0,   0,   0,   0,   0,   0,   0,   0,   0,   0, 141, 254, 254, 240, 106,   0,   0,   0,   0,   0,   0,   0,   0,   0,   0,   0,   0],\n",
              "       [  0,   0,   0,   0,   0,   0,   0,   0,   0,   0,  66, 252, 254, 252, 145,   0,   0,   0,   0,   0,   0,   0,   0,   0,   0,   0,   0,   0],\n",
              "       [  0,   0,   0,   0,   0,   0,   0,   0,   0,  68, 250, 254, 252, 171,   0,   0,   0,   0,   0,   0,   0,   0,   0,   0,   0,   0,   0,   0],\n",
              "       [  0,   0,   0,   0,   0,   0,   0,   0,  54, 249, 254, 254, 210,   0,   0,   0,   0,   0,   0,   0,   0,   0,   0,   0,   0,   0,   0,   0],\n",
              "       [  0,   0,   0,   0,   0,   0,   0,  56, 223, 254, 254, 189,  11,   0,   0,   0,   0,   0,   0,   0,   0,   0,   0,   0,   0,   0,   0,   0],\n",
              "       [  0,   0,   0,   0,   0,   0,  63, 231, 254, 254, 211,  11,   0,   0,   0,   0,   0,   0,   0,   0,   0,   0,   0,   0,   0,   0,   0,   0],\n",
              "       [  0,   0,   0,   0,   0,  34, 226, 254, 254, 209,  21,   0,   0,   0,   0,   0,   0,   0,   0,   0,   0,   0,   0,   0,   0,   0,   0,   0],\n",
              "       [  0,   0,   0,   0,   0,   0,   0,   0,   0,   0,   0,   0,   0,   0,   0,   0,   0,   0,   0,   0,   0,   0,   0,   0,   0,   0,   0,   0],\n",
              "       [  0,   0,   0,   0,   0,   0,   0,   0,   0,   0,   0,   0,   0,   0,   0,   0,   0,   0,   0,   0,   0,   0,   0,   0,   0,   0,   0,   0]], dtype=uint8)"
            ]
          },
          "metadata": {},
          "execution_count": 8
        }
      ]
    },
    {
      "cell_type": "code",
      "source": [
        "tensor(im7)"
      ],
      "metadata": {
        "id": "5gapaiYj45re",
        "outputId": "1abd7934-7141-4cf8-815f-47da82e7c000",
        "colab": {
          "base_uri": "https://localhost:8080/"
        }
      },
      "execution_count": 9,
      "outputs": [
        {
          "output_type": "execute_result",
          "data": {
            "text/plain": [
              "tensor([[  0,   0,   0,   0,   0,   0,   0,   0,   0,   0,   0,   0,   0,   0,   0,   0,   0,   0,   0,   0,   0,   0,   0,   0,   0,   0,   0,   0],\n",
              "        [  0,   0,   0,   0,   0,   0,   0,   0,   0,   0,   0,   0,   0,   0,   0,   0,   0,   0,   0,   0,   0,   0,   0,   0,   0,   0,   0,   0],\n",
              "        [  0,   0,   0,   0,   0,   0,   0,   0,   0,   0,   0,   0,   0,   0,   0,   0,   0,   0,   0,   0,   0,   0,   0,   0,   0,   0,   0,   0],\n",
              "        [  0,   0,   0,   0,   0,   0,   0,   0,   0,   0,   0,   0,   0,   0,   0,   0,   0,   0,   0,   0,   0,   0,   0,   0,   0,   0,   0,   0],\n",
              "        [  0,   0,   0,   0,   0,   0,   0,   0,   0,   0,   0,   0,   0,   0,   0,   0,   0,   0,   0,   0,   0,   0,   0,   0,   0,   0,   0,   0],\n",
              "        [  0,   0,   0,   0,   0,   0,   0,   0,   0,   0,   0,   0,   0,   0,   0,   0,   0,   0,   0,   0,   0,   0,   0,   0,   0,   0,   0,   0],\n",
              "        [  0,   0,   0,   0,   0,   0,   0,   0,   0,   0,   0,   1,  13,   7,   0,   0,   0,   0,   0,   0,   2,  93, 244, 207,   8,   0,   0,   0],\n",
              "        [  0,   0,   0,   0,   0,   0,   0,   0,   0,   0,  15, 157, 254, 197,   0,   0,   0,   0,   0,  18, 131, 254, 254, 248,  11,   0,   0,   0],\n",
              "        [  0,   0,   0,   0,   0,   0,   0,   0,   0,   9, 220, 254, 254, 230, 104,   0,   0,   0,  65, 216, 254, 254, 254, 218,   8,   0,   0,   0],\n",
              "        [  0,   0,   0,   0,   0,   0,   0,   0,   0, 169, 254, 254, 231, 126,  40,  11,  70, 180, 254, 254, 254, 254, 254,  90,   0,   0,   0,   0],\n",
              "        [  0,   0,   0,   0,   0,   0,   0,  40, 183, 251, 254, 226,  81,  70, 180, 229, 254, 254, 254, 254, 254, 254, 115,   3,   0,   0,   0,   0],\n",
              "        [  0,   0,   0,   0,   0,   0,   7, 208, 254, 254, 255, 254, 254, 254, 255, 254, 254, 254, 254, 254, 254, 190,   3,   0,   0,   0,   0,   0],\n",
              "        [  0,   0,   0,   0,   0,   0,  53, 254, 254, 254, 254, 254, 253, 250, 212, 169, 125, 167, 254, 254, 241,  35,   0,   0,   0,   0,   0,   0],\n",
              "        [  0,   0,   0,   0,   0,   0, 150, 254, 254, 181,  77,  77,  48,   0,   0,   0, 128, 254, 254, 253,  57,   0,   0,   0,   0,   0,   0,   0],\n",
              "        [  0,   0,   0,   0,   0,   0,  14, 157, 195,  29,   0,   0,   0,   0,   0,  75, 248, 254, 254, 139,   0,   0,   0,   0,   0,   0,   0,   0],\n",
              "        [  0,   0,   0,   0,   0,   0,   0,   0,   0,   0,   0,   0,   0,   0,  59, 217, 254, 254, 170,  15,   0,   0,   0,   0,   0,   0,   0,   0],\n",
              "        [  0,   0,   0,   0,   0,   0,   0,   0,   0,   0,   0,   0,   0,  15, 217, 254, 254, 214,  15,   0,   0,   0,   0,   0,   0,   0,   0,   0],\n",
              "        [  0,   0,   0,   0,   0,   0,   0,   0,   0,   0,   0,   0,   5, 113, 254, 254, 238,  55,   0,   0,   0,   0,   0,   0,   0,   0,   0,   0],\n",
              "        [  0,   0,   0,   0,   0,   0,   0,   0,   0,   0,   0,   2,  89, 254, 254, 239,  81,   0,   0,   0,   0,   0,   0,   0,   0,   0,   0,   0],\n",
              "        [  0,   0,   0,   0,   0,   0,   0,   0,   0,   0,   0, 141, 254, 254, 240, 106,   0,   0,   0,   0,   0,   0,   0,   0,   0,   0,   0,   0],\n",
              "        [  0,   0,   0,   0,   0,   0,   0,   0,   0,   0,  66, 252, 254, 252, 145,   0,   0,   0,   0,   0,   0,   0,   0,   0,   0,   0,   0,   0],\n",
              "        [  0,   0,   0,   0,   0,   0,   0,   0,   0,  68, 250, 254, 252, 171,   0,   0,   0,   0,   0,   0,   0,   0,   0,   0,   0,   0,   0,   0],\n",
              "        [  0,   0,   0,   0,   0,   0,   0,   0,  54, 249, 254, 254, 210,   0,   0,   0,   0,   0,   0,   0,   0,   0,   0,   0,   0,   0,   0,   0],\n",
              "        [  0,   0,   0,   0,   0,   0,   0,  56, 223, 254, 254, 189,  11,   0,   0,   0,   0,   0,   0,   0,   0,   0,   0,   0,   0,   0,   0,   0],\n",
              "        [  0,   0,   0,   0,   0,   0,  63, 231, 254, 254, 211,  11,   0,   0,   0,   0,   0,   0,   0,   0,   0,   0,   0,   0,   0,   0,   0,   0],\n",
              "        [  0,   0,   0,   0,   0,  34, 226, 254, 254, 209,  21,   0,   0,   0,   0,   0,   0,   0,   0,   0,   0,   0,   0,   0,   0,   0,   0,   0],\n",
              "        [  0,   0,   0,   0,   0,   0,   0,   0,   0,   0,   0,   0,   0,   0,   0,   0,   0,   0,   0,   0,   0,   0,   0,   0,   0,   0,   0,   0],\n",
              "        [  0,   0,   0,   0,   0,   0,   0,   0,   0,   0,   0,   0,   0,   0,   0,   0,   0,   0,   0,   0,   0,   0,   0,   0,   0,   0,   0,   0]], dtype=torch.uint8)"
            ]
          },
          "metadata": {},
          "execution_count": 9
        }
      ]
    },
    {
      "cell_type": "code",
      "source": [
        "im7_t = tensor(im7)\n",
        "df = pd.DataFrame(im7_t)\n",
        "df.style.set_properties(**{'font-size':'6pt'}).background_gradient('Greys')"
      ],
      "metadata": {
        "id": "H5rSDzM74-os",
        "outputId": "21970eed-2268-44c1-9c50-942a4d22b329",
        "colab": {
          "base_uri": "https://localhost:8080/",
          "height": 948
        }
      },
      "execution_count": 10,
      "outputs": [
        {
          "output_type": "execute_result",
          "data": {
            "text/plain": [
              "<pandas.io.formats.style.Styler at 0x7fb30ffb2250>"
            ],
            "text/html": [
              "<style type=\"text/css\">\n",
              "#T_aa301_row0_col0, #T_aa301_row0_col1, #T_aa301_row0_col2, #T_aa301_row0_col3, #T_aa301_row0_col4, #T_aa301_row0_col5, #T_aa301_row0_col6, #T_aa301_row0_col7, #T_aa301_row0_col8, #T_aa301_row0_col9, #T_aa301_row0_col10, #T_aa301_row0_col11, #T_aa301_row0_col12, #T_aa301_row0_col13, #T_aa301_row0_col14, #T_aa301_row0_col15, #T_aa301_row0_col16, #T_aa301_row0_col17, #T_aa301_row0_col18, #T_aa301_row0_col19, #T_aa301_row0_col20, #T_aa301_row0_col21, #T_aa301_row0_col22, #T_aa301_row0_col23, #T_aa301_row0_col24, #T_aa301_row0_col25, #T_aa301_row0_col26, #T_aa301_row0_col27, #T_aa301_row1_col0, #T_aa301_row1_col1, #T_aa301_row1_col2, #T_aa301_row1_col3, #T_aa301_row1_col4, #T_aa301_row1_col5, #T_aa301_row1_col6, #T_aa301_row1_col7, #T_aa301_row1_col8, #T_aa301_row1_col9, #T_aa301_row1_col10, #T_aa301_row1_col11, #T_aa301_row1_col12, #T_aa301_row1_col13, #T_aa301_row1_col14, #T_aa301_row1_col15, #T_aa301_row1_col16, #T_aa301_row1_col17, #T_aa301_row1_col18, #T_aa301_row1_col19, #T_aa301_row1_col20, #T_aa301_row1_col21, #T_aa301_row1_col22, #T_aa301_row1_col23, #T_aa301_row1_col24, #T_aa301_row1_col25, #T_aa301_row1_col26, #T_aa301_row1_col27, #T_aa301_row2_col0, #T_aa301_row2_col1, #T_aa301_row2_col2, #T_aa301_row2_col3, #T_aa301_row2_col4, #T_aa301_row2_col5, #T_aa301_row2_col6, #T_aa301_row2_col7, #T_aa301_row2_col8, #T_aa301_row2_col9, #T_aa301_row2_col10, #T_aa301_row2_col11, #T_aa301_row2_col12, #T_aa301_row2_col13, #T_aa301_row2_col14, #T_aa301_row2_col15, #T_aa301_row2_col16, #T_aa301_row2_col17, #T_aa301_row2_col18, #T_aa301_row2_col19, #T_aa301_row2_col20, #T_aa301_row2_col21, #T_aa301_row2_col22, #T_aa301_row2_col23, #T_aa301_row2_col24, #T_aa301_row2_col25, #T_aa301_row2_col26, #T_aa301_row2_col27, #T_aa301_row3_col0, #T_aa301_row3_col1, #T_aa301_row3_col2, #T_aa301_row3_col3, #T_aa301_row3_col4, #T_aa301_row3_col5, #T_aa301_row3_col6, #T_aa301_row3_col7, #T_aa301_row3_col8, #T_aa301_row3_col9, #T_aa301_row3_col10, #T_aa301_row3_col11, #T_aa301_row3_col12, #T_aa301_row3_col13, #T_aa301_row3_col14, #T_aa301_row3_col15, #T_aa301_row3_col16, #T_aa301_row3_col17, #T_aa301_row3_col18, #T_aa301_row3_col19, #T_aa301_row3_col20, #T_aa301_row3_col21, #T_aa301_row3_col22, #T_aa301_row3_col23, #T_aa301_row3_col24, #T_aa301_row3_col25, #T_aa301_row3_col26, #T_aa301_row3_col27, #T_aa301_row4_col0, #T_aa301_row4_col1, #T_aa301_row4_col2, #T_aa301_row4_col3, #T_aa301_row4_col4, #T_aa301_row4_col5, #T_aa301_row4_col6, #T_aa301_row4_col7, #T_aa301_row4_col8, #T_aa301_row4_col9, #T_aa301_row4_col10, #T_aa301_row4_col11, #T_aa301_row4_col12, #T_aa301_row4_col13, #T_aa301_row4_col14, #T_aa301_row4_col15, #T_aa301_row4_col16, #T_aa301_row4_col17, #T_aa301_row4_col18, #T_aa301_row4_col19, #T_aa301_row4_col20, #T_aa301_row4_col21, #T_aa301_row4_col22, #T_aa301_row4_col23, #T_aa301_row4_col24, #T_aa301_row4_col25, #T_aa301_row4_col26, #T_aa301_row4_col27, #T_aa301_row5_col0, #T_aa301_row5_col1, #T_aa301_row5_col2, #T_aa301_row5_col3, #T_aa301_row5_col4, #T_aa301_row5_col5, #T_aa301_row5_col6, #T_aa301_row5_col7, #T_aa301_row5_col8, #T_aa301_row5_col9, #T_aa301_row5_col10, #T_aa301_row5_col11, #T_aa301_row5_col12, #T_aa301_row5_col13, #T_aa301_row5_col14, #T_aa301_row5_col15, #T_aa301_row5_col16, #T_aa301_row5_col17, #T_aa301_row5_col18, #T_aa301_row5_col19, #T_aa301_row5_col20, #T_aa301_row5_col21, #T_aa301_row5_col22, #T_aa301_row5_col23, #T_aa301_row5_col24, #T_aa301_row5_col25, #T_aa301_row5_col26, #T_aa301_row5_col27, #T_aa301_row6_col0, #T_aa301_row6_col1, #T_aa301_row6_col2, #T_aa301_row6_col3, #T_aa301_row6_col4, #T_aa301_row6_col5, #T_aa301_row6_col6, #T_aa301_row6_col7, #T_aa301_row6_col8, #T_aa301_row6_col9, #T_aa301_row6_col10, #T_aa301_row6_col11, #T_aa301_row6_col14, #T_aa301_row6_col15, #T_aa301_row6_col16, #T_aa301_row6_col17, #T_aa301_row6_col18, #T_aa301_row6_col19, #T_aa301_row6_col25, #T_aa301_row6_col26, #T_aa301_row6_col27, #T_aa301_row7_col0, #T_aa301_row7_col1, #T_aa301_row7_col2, #T_aa301_row7_col3, #T_aa301_row7_col4, #T_aa301_row7_col5, #T_aa301_row7_col6, #T_aa301_row7_col7, #T_aa301_row7_col8, #T_aa301_row7_col9, #T_aa301_row7_col14, #T_aa301_row7_col15, #T_aa301_row7_col16, #T_aa301_row7_col17, #T_aa301_row7_col18, #T_aa301_row7_col25, #T_aa301_row7_col26, #T_aa301_row7_col27, #T_aa301_row8_col0, #T_aa301_row8_col1, #T_aa301_row8_col2, #T_aa301_row8_col3, #T_aa301_row8_col4, #T_aa301_row8_col5, #T_aa301_row8_col6, #T_aa301_row8_col7, #T_aa301_row8_col8, #T_aa301_row8_col15, #T_aa301_row8_col16, #T_aa301_row8_col17, #T_aa301_row8_col25, #T_aa301_row8_col26, #T_aa301_row8_col27, #T_aa301_row9_col0, #T_aa301_row9_col1, #T_aa301_row9_col2, #T_aa301_row9_col3, #T_aa301_row9_col4, #T_aa301_row9_col5, #T_aa301_row9_col6, #T_aa301_row9_col7, #T_aa301_row9_col8, #T_aa301_row9_col24, #T_aa301_row9_col25, #T_aa301_row9_col26, #T_aa301_row9_col27, #T_aa301_row10_col0, #T_aa301_row10_col1, #T_aa301_row10_col2, #T_aa301_row10_col3, #T_aa301_row10_col4, #T_aa301_row10_col5, #T_aa301_row10_col6, #T_aa301_row10_col24, #T_aa301_row10_col25, #T_aa301_row10_col26, #T_aa301_row10_col27, #T_aa301_row11_col0, #T_aa301_row11_col1, #T_aa301_row11_col2, #T_aa301_row11_col3, #T_aa301_row11_col4, #T_aa301_row11_col5, #T_aa301_row11_col23, #T_aa301_row11_col24, #T_aa301_row11_col25, #T_aa301_row11_col26, #T_aa301_row11_col27, #T_aa301_row12_col0, #T_aa301_row12_col1, #T_aa301_row12_col2, #T_aa301_row12_col3, #T_aa301_row12_col4, #T_aa301_row12_col5, #T_aa301_row12_col22, #T_aa301_row12_col23, #T_aa301_row12_col24, #T_aa301_row12_col25, #T_aa301_row12_col26, #T_aa301_row12_col27, #T_aa301_row13_col0, #T_aa301_row13_col1, #T_aa301_row13_col2, #T_aa301_row13_col3, #T_aa301_row13_col4, #T_aa301_row13_col5, #T_aa301_row13_col13, #T_aa301_row13_col14, #T_aa301_row13_col15, #T_aa301_row13_col21, #T_aa301_row13_col22, #T_aa301_row13_col23, #T_aa301_row13_col24, #T_aa301_row13_col25, #T_aa301_row13_col26, #T_aa301_row13_col27, #T_aa301_row14_col0, #T_aa301_row14_col1, #T_aa301_row14_col2, #T_aa301_row14_col3, #T_aa301_row14_col4, #T_aa301_row14_col5, #T_aa301_row14_col10, #T_aa301_row14_col11, #T_aa301_row14_col12, #T_aa301_row14_col13, #T_aa301_row14_col14, #T_aa301_row14_col20, #T_aa301_row14_col21, #T_aa301_row14_col22, #T_aa301_row14_col23, #T_aa301_row14_col24, #T_aa301_row14_col25, #T_aa301_row14_col26, #T_aa301_row14_col27, #T_aa301_row15_col0, #T_aa301_row15_col1, #T_aa301_row15_col2, #T_aa301_row15_col3, #T_aa301_row15_col4, #T_aa301_row15_col5, #T_aa301_row15_col6, #T_aa301_row15_col7, #T_aa301_row15_col8, #T_aa301_row15_col9, #T_aa301_row15_col10, #T_aa301_row15_col11, #T_aa301_row15_col12, #T_aa301_row15_col13, #T_aa301_row15_col20, #T_aa301_row15_col21, #T_aa301_row15_col22, #T_aa301_row15_col23, #T_aa301_row15_col24, #T_aa301_row15_col25, #T_aa301_row15_col26, #T_aa301_row15_col27, #T_aa301_row16_col0, #T_aa301_row16_col1, #T_aa301_row16_col2, #T_aa301_row16_col3, #T_aa301_row16_col4, #T_aa301_row16_col5, #T_aa301_row16_col6, #T_aa301_row16_col7, #T_aa301_row16_col8, #T_aa301_row16_col9, #T_aa301_row16_col10, #T_aa301_row16_col11, #T_aa301_row16_col12, #T_aa301_row16_col19, #T_aa301_row16_col20, #T_aa301_row16_col21, #T_aa301_row16_col22, #T_aa301_row16_col23, #T_aa301_row16_col24, #T_aa301_row16_col25, #T_aa301_row16_col26, #T_aa301_row16_col27, #T_aa301_row17_col0, #T_aa301_row17_col1, #T_aa301_row17_col2, #T_aa301_row17_col3, #T_aa301_row17_col4, #T_aa301_row17_col5, #T_aa301_row17_col6, #T_aa301_row17_col7, #T_aa301_row17_col8, #T_aa301_row17_col9, #T_aa301_row17_col10, #T_aa301_row17_col11, #T_aa301_row17_col18, #T_aa301_row17_col19, #T_aa301_row17_col20, #T_aa301_row17_col21, #T_aa301_row17_col22, #T_aa301_row17_col23, #T_aa301_row17_col24, #T_aa301_row17_col25, #T_aa301_row17_col26, #T_aa301_row17_col27, #T_aa301_row18_col0, #T_aa301_row18_col1, #T_aa301_row18_col2, #T_aa301_row18_col3, #T_aa301_row18_col4, #T_aa301_row18_col5, #T_aa301_row18_col6, #T_aa301_row18_col7, #T_aa301_row18_col8, #T_aa301_row18_col9, #T_aa301_row18_col10, #T_aa301_row18_col17, #T_aa301_row18_col18, #T_aa301_row18_col19, #T_aa301_row18_col20, #T_aa301_row18_col21, #T_aa301_row18_col22, #T_aa301_row18_col23, #T_aa301_row18_col24, #T_aa301_row18_col25, #T_aa301_row18_col26, #T_aa301_row18_col27, #T_aa301_row19_col0, #T_aa301_row19_col1, #T_aa301_row19_col2, #T_aa301_row19_col3, #T_aa301_row19_col4, #T_aa301_row19_col5, #T_aa301_row19_col6, #T_aa301_row19_col7, #T_aa301_row19_col8, #T_aa301_row19_col9, #T_aa301_row19_col10, #T_aa301_row19_col16, #T_aa301_row19_col17, #T_aa301_row19_col18, #T_aa301_row19_col19, #T_aa301_row19_col20, #T_aa301_row19_col21, #T_aa301_row19_col22, #T_aa301_row19_col23, #T_aa301_row19_col24, #T_aa301_row19_col25, #T_aa301_row19_col26, #T_aa301_row19_col27, #T_aa301_row20_col0, #T_aa301_row20_col1, #T_aa301_row20_col2, #T_aa301_row20_col3, #T_aa301_row20_col4, #T_aa301_row20_col5, #T_aa301_row20_col6, #T_aa301_row20_col7, #T_aa301_row20_col8, #T_aa301_row20_col9, #T_aa301_row20_col15, #T_aa301_row20_col16, #T_aa301_row20_col17, #T_aa301_row20_col18, #T_aa301_row20_col19, #T_aa301_row20_col20, #T_aa301_row20_col21, #T_aa301_row20_col22, #T_aa301_row20_col23, #T_aa301_row20_col24, #T_aa301_row20_col25, #T_aa301_row20_col26, #T_aa301_row20_col27, #T_aa301_row21_col0, #T_aa301_row21_col1, #T_aa301_row21_col2, #T_aa301_row21_col3, #T_aa301_row21_col4, #T_aa301_row21_col5, #T_aa301_row21_col6, #T_aa301_row21_col7, #T_aa301_row21_col8, #T_aa301_row21_col14, #T_aa301_row21_col15, #T_aa301_row21_col16, #T_aa301_row21_col17, #T_aa301_row21_col18, #T_aa301_row21_col19, #T_aa301_row21_col20, #T_aa301_row21_col21, #T_aa301_row21_col22, #T_aa301_row21_col23, #T_aa301_row21_col24, #T_aa301_row21_col25, #T_aa301_row21_col26, #T_aa301_row21_col27, #T_aa301_row22_col0, #T_aa301_row22_col1, #T_aa301_row22_col2, #T_aa301_row22_col3, #T_aa301_row22_col4, #T_aa301_row22_col5, #T_aa301_row22_col6, #T_aa301_row22_col7, #T_aa301_row22_col13, #T_aa301_row22_col14, #T_aa301_row22_col15, #T_aa301_row22_col16, #T_aa301_row22_col17, #T_aa301_row22_col18, #T_aa301_row22_col19, #T_aa301_row22_col20, #T_aa301_row22_col21, #T_aa301_row22_col22, #T_aa301_row22_col23, #T_aa301_row22_col24, #T_aa301_row22_col25, #T_aa301_row22_col26, #T_aa301_row22_col27, #T_aa301_row23_col0, #T_aa301_row23_col1, #T_aa301_row23_col2, #T_aa301_row23_col3, #T_aa301_row23_col4, #T_aa301_row23_col5, #T_aa301_row23_col6, #T_aa301_row23_col13, #T_aa301_row23_col14, #T_aa301_row23_col15, #T_aa301_row23_col16, #T_aa301_row23_col17, #T_aa301_row23_col18, #T_aa301_row23_col19, #T_aa301_row23_col20, #T_aa301_row23_col21, #T_aa301_row23_col22, #T_aa301_row23_col23, #T_aa301_row23_col24, #T_aa301_row23_col25, #T_aa301_row23_col26, #T_aa301_row23_col27, #T_aa301_row24_col0, #T_aa301_row24_col1, #T_aa301_row24_col2, #T_aa301_row24_col3, #T_aa301_row24_col4, #T_aa301_row24_col5, #T_aa301_row24_col12, #T_aa301_row24_col13, #T_aa301_row24_col14, #T_aa301_row24_col15, #T_aa301_row24_col16, #T_aa301_row24_col17, #T_aa301_row24_col18, #T_aa301_row24_col19, #T_aa301_row24_col20, #T_aa301_row24_col21, #T_aa301_row24_col22, #T_aa301_row24_col23, #T_aa301_row24_col24, #T_aa301_row24_col25, #T_aa301_row24_col26, #T_aa301_row24_col27, #T_aa301_row25_col0, #T_aa301_row25_col1, #T_aa301_row25_col2, #T_aa301_row25_col3, #T_aa301_row25_col4, #T_aa301_row25_col11, #T_aa301_row25_col12, #T_aa301_row25_col13, #T_aa301_row25_col14, #T_aa301_row25_col15, #T_aa301_row25_col16, #T_aa301_row25_col17, #T_aa301_row25_col18, #T_aa301_row25_col19, #T_aa301_row25_col20, #T_aa301_row25_col21, #T_aa301_row25_col22, #T_aa301_row25_col23, #T_aa301_row25_col24, #T_aa301_row25_col25, #T_aa301_row25_col26, #T_aa301_row25_col27, #T_aa301_row26_col0, #T_aa301_row26_col1, #T_aa301_row26_col2, #T_aa301_row26_col3, #T_aa301_row26_col4, #T_aa301_row26_col5, #T_aa301_row26_col6, #T_aa301_row26_col7, #T_aa301_row26_col8, #T_aa301_row26_col9, #T_aa301_row26_col10, #T_aa301_row26_col11, #T_aa301_row26_col12, #T_aa301_row26_col13, #T_aa301_row26_col14, #T_aa301_row26_col15, #T_aa301_row26_col16, #T_aa301_row26_col17, #T_aa301_row26_col18, #T_aa301_row26_col19, #T_aa301_row26_col20, #T_aa301_row26_col21, #T_aa301_row26_col22, #T_aa301_row26_col23, #T_aa301_row26_col24, #T_aa301_row26_col25, #T_aa301_row26_col26, #T_aa301_row26_col27, #T_aa301_row27_col0, #T_aa301_row27_col1, #T_aa301_row27_col2, #T_aa301_row27_col3, #T_aa301_row27_col4, #T_aa301_row27_col5, #T_aa301_row27_col6, #T_aa301_row27_col7, #T_aa301_row27_col8, #T_aa301_row27_col9, #T_aa301_row27_col10, #T_aa301_row27_col11, #T_aa301_row27_col12, #T_aa301_row27_col13, #T_aa301_row27_col14, #T_aa301_row27_col15, #T_aa301_row27_col16, #T_aa301_row27_col17, #T_aa301_row27_col18, #T_aa301_row27_col19, #T_aa301_row27_col20, #T_aa301_row27_col21, #T_aa301_row27_col22, #T_aa301_row27_col23, #T_aa301_row27_col24, #T_aa301_row27_col25, #T_aa301_row27_col26, #T_aa301_row27_col27 {\n",
              "  font-size: 6pt;\n",
              "  background-color: #ffffff;\n",
              "  color: #000000;\n",
              "}\n",
              "#T_aa301_row6_col12 {\n",
              "  font-size: 6pt;\n",
              "  background-color: #f9f9f9;\n",
              "  color: #000000;\n",
              "}\n",
              "#T_aa301_row6_col13, #T_aa301_row11_col6 {\n",
              "  font-size: 6pt;\n",
              "  background-color: #fcfcfc;\n",
              "  color: #000000;\n",
              "}\n",
              "#T_aa301_row6_col20, #T_aa301_row10_col23, #T_aa301_row11_col22, #T_aa301_row18_col11 {\n",
              "  font-size: 6pt;\n",
              "  background-color: #fefefe;\n",
              "  color: #000000;\n",
              "}\n",
              "#T_aa301_row6_col21 {\n",
              "  font-size: 6pt;\n",
              "  background-color: #bfbfbf;\n",
              "  color: #000000;\n",
              "}\n",
              "#T_aa301_row6_col22 {\n",
              "  font-size: 6pt;\n",
              "  background-color: #0c0c0c;\n",
              "  color: #f1f1f1;\n",
              "}\n",
              "#T_aa301_row6_col23 {\n",
              "  font-size: 6pt;\n",
              "  background-color: #333333;\n",
              "  color: #f1f1f1;\n",
              "}\n",
              "#T_aa301_row6_col24, #T_aa301_row8_col24 {\n",
              "  font-size: 6pt;\n",
              "  background-color: #575757;\n",
              "  color: #f1f1f1;\n",
              "}\n",
              "#T_aa301_row7_col10, #T_aa301_row14_col6, #T_aa301_row15_col19, #T_aa301_row16_col13, #T_aa301_row16_col18 {\n",
              "  font-size: 6pt;\n",
              "  background-color: #f8f8f8;\n",
              "  color: #000000;\n",
              "}\n",
              "#T_aa301_row7_col11, #T_aa301_row14_col7 {\n",
              "  font-size: 6pt;\n",
              "  background-color: #757575;\n",
              "  color: #f1f1f1;\n",
              "}\n",
              "#T_aa301_row7_col12, #T_aa301_row7_col21, #T_aa301_row7_col22, #T_aa301_row7_col23, #T_aa301_row7_col24, #T_aa301_row8_col11, #T_aa301_row8_col12, #T_aa301_row8_col20, #T_aa301_row8_col21, #T_aa301_row8_col22, #T_aa301_row9_col11, #T_aa301_row9_col18, #T_aa301_row9_col19, #T_aa301_row9_col20, #T_aa301_row9_col21, #T_aa301_row9_col22, #T_aa301_row10_col16, #T_aa301_row10_col17, #T_aa301_row10_col18, #T_aa301_row10_col19, #T_aa301_row10_col20, #T_aa301_row10_col21, #T_aa301_row11_col8, #T_aa301_row11_col9, #T_aa301_row11_col10, #T_aa301_row11_col11, #T_aa301_row11_col12, #T_aa301_row11_col13, #T_aa301_row11_col14, #T_aa301_row11_col15, #T_aa301_row11_col16, #T_aa301_row11_col17, #T_aa301_row11_col18, #T_aa301_row11_col19, #T_aa301_row11_col20, #T_aa301_row12_col7, #T_aa301_row12_col8, #T_aa301_row12_col9, #T_aa301_row12_col11, #T_aa301_row12_col18, #T_aa301_row12_col19, #T_aa301_row13_col7, #T_aa301_row13_col8, #T_aa301_row13_col17, #T_aa301_row13_col18, #T_aa301_row14_col17, #T_aa301_row14_col18, #T_aa301_row15_col16, #T_aa301_row15_col17, #T_aa301_row16_col15, #T_aa301_row16_col16, #T_aa301_row17_col15, #T_aa301_row18_col13, #T_aa301_row19_col12, #T_aa301_row19_col13, #T_aa301_row20_col12, #T_aa301_row21_col11, #T_aa301_row22_col11, #T_aa301_row23_col9, #T_aa301_row24_col8, #T_aa301_row24_col9, #T_aa301_row25_col5, #T_aa301_row25_col6, #T_aa301_row25_col7, #T_aa301_row25_col8 {\n",
              "  font-size: 6pt;\n",
              "  background-color: #000000;\n",
              "  color: #f1f1f1;\n",
              "}\n",
              "#T_aa301_row7_col13 {\n",
              "  font-size: 6pt;\n",
              "  background-color: #484848;\n",
              "  color: #f1f1f1;\n",
              "}\n",
              "#T_aa301_row7_col19 {\n",
              "  font-size: 6pt;\n",
              "  background-color: #f7f7f7;\n",
              "  color: #000000;\n",
              "}\n",
              "#T_aa301_row7_col20 {\n",
              "  font-size: 6pt;\n",
              "  background-color: #919191;\n",
              "  color: #f1f1f1;\n",
              "}\n",
              "#T_aa301_row8_col9 {\n",
              "  font-size: 6pt;\n",
              "  background-color: #fbfbfb;\n",
              "  color: #000000;\n",
              "}\n",
              "#T_aa301_row8_col10 {\n",
              "  font-size: 6pt;\n",
              "  background-color: #292929;\n",
              "  color: #f1f1f1;\n",
              "}\n",
              "#T_aa301_row8_col13 {\n",
              "  font-size: 6pt;\n",
              "  background-color: #1c1c1c;\n",
              "  color: #f1f1f1;\n",
              "}\n",
              "#T_aa301_row8_col14 {\n",
              "  font-size: 6pt;\n",
              "  background-color: #b3b3b3;\n",
              "  color: #000000;\n",
              "}\n",
              "#T_aa301_row8_col18 {\n",
              "  font-size: 6pt;\n",
              "  background-color: #d8d8d8;\n",
              "  color: #000000;\n",
              "}\n",
              "#T_aa301_row8_col19, #T_aa301_row16_col14 {\n",
              "  font-size: 6pt;\n",
              "  background-color: #2e2e2e;\n",
              "  color: #f1f1f1;\n",
              "}\n",
              "#T_aa301_row8_col23 {\n",
              "  font-size: 6pt;\n",
              "  background-color: #232323;\n",
              "  color: #f1f1f1;\n",
              "}\n",
              "#T_aa301_row9_col9, #T_aa301_row12_col15 {\n",
              "  font-size: 6pt;\n",
              "  background-color: #686868;\n",
              "  color: #f1f1f1;\n",
              "}\n",
              "#T_aa301_row9_col10, #T_aa301_row10_col10, #T_aa301_row12_col10, #T_aa301_row12_col12, #T_aa301_row13_col19, #T_aa301_row17_col14, #T_aa301_row18_col14, #T_aa301_row22_col10, #T_aa301_row23_col10 {\n",
              "  font-size: 6pt;\n",
              "  background-color: #010101;\n",
              "  color: #f1f1f1;\n",
              "}\n",
              "#T_aa301_row9_col12, #T_aa301_row24_col7 {\n",
              "  font-size: 6pt;\n",
              "  background-color: #1b1b1b;\n",
              "  color: #f1f1f1;\n",
              "}\n",
              "#T_aa301_row9_col13 {\n",
              "  font-size: 6pt;\n",
              "  background-color: #989898;\n",
              "  color: #f1f1f1;\n",
              "}\n",
              "#T_aa301_row9_col14, #T_aa301_row10_col7 {\n",
              "  font-size: 6pt;\n",
              "  background-color: #eaeaea;\n",
              "  color: #000000;\n",
              "}\n",
              "#T_aa301_row9_col15, #T_aa301_row23_col12, #T_aa301_row24_col11 {\n",
              "  font-size: 6pt;\n",
              "  background-color: #fafafa;\n",
              "  color: #000000;\n",
              "}\n",
              "#T_aa301_row9_col16, #T_aa301_row10_col13 {\n",
              "  font-size: 6pt;\n",
              "  background-color: #d4d4d4;\n",
              "  color: #000000;\n",
              "}\n",
              "#T_aa301_row9_col17 {\n",
              "  font-size: 6pt;\n",
              "  background-color: #5d5d5d;\n",
              "  color: #f1f1f1;\n",
              "}\n",
              "#T_aa301_row9_col23 {\n",
              "  font-size: 6pt;\n",
              "  background-color: #c0c0c0;\n",
              "  color: #000000;\n",
              "}\n",
              "#T_aa301_row10_col8 {\n",
              "  font-size: 6pt;\n",
              "  background-color: #5a5a5a;\n",
              "  color: #f1f1f1;\n",
              "}\n",
              "#T_aa301_row10_col9 {\n",
              "  font-size: 6pt;\n",
              "  background-color: #030303;\n",
              "  color: #f1f1f1;\n",
              "}\n",
              "#T_aa301_row10_col11 {\n",
              "  font-size: 6pt;\n",
              "  background-color: #212121;\n",
              "  color: #f1f1f1;\n",
              "}\n",
              "#T_aa301_row10_col12, #T_aa301_row18_col16 {\n",
              "  font-size: 6pt;\n",
              "  background-color: #cacaca;\n",
              "  color: #000000;\n",
              "}\n",
              "#T_aa301_row10_col14 {\n",
              "  font-size: 6pt;\n",
              "  background-color: #5e5e5e;\n",
              "  color: #f1f1f1;\n",
              "}\n",
              "#T_aa301_row10_col15 {\n",
              "  font-size: 6pt;\n",
              "  background-color: #1d1d1d;\n",
              "  color: #f1f1f1;\n",
              "}\n",
              "#T_aa301_row10_col22 {\n",
              "  font-size: 6pt;\n",
              "  background-color: #a5a5a5;\n",
              "  color: #f1f1f1;\n",
              "}\n",
              "#T_aa301_row11_col7 {\n",
              "  font-size: 6pt;\n",
              "  background-color: #393939;\n",
              "  color: #f1f1f1;\n",
              "}\n",
              "#T_aa301_row11_col21 {\n",
              "  font-size: 6pt;\n",
              "  background-color: #525252;\n",
              "  color: #f1f1f1;\n",
              "}\n",
              "#T_aa301_row12_col6, #T_aa301_row15_col14 {\n",
              "  font-size: 6pt;\n",
              "  background-color: #dcdcdc;\n",
              "  color: #000000;\n",
              "}\n",
              "#T_aa301_row12_col13 {\n",
              "  font-size: 6pt;\n",
              "  background-color: #050505;\n",
              "  color: #f1f1f1;\n",
              "}\n",
              "#T_aa301_row12_col14 {\n",
              "  font-size: 6pt;\n",
              "  background-color: #353535;\n",
              "  color: #f1f1f1;\n",
              "}\n",
              "#T_aa301_row12_col16 {\n",
              "  font-size: 6pt;\n",
              "  background-color: #999999;\n",
              "  color: #f1f1f1;\n",
              "}\n",
              "#T_aa301_row12_col17 {\n",
              "  font-size: 6pt;\n",
              "  background-color: #6a6a6a;\n",
              "  color: #f1f1f1;\n",
              "}\n",
              "#T_aa301_row12_col20 {\n",
              "  font-size: 6pt;\n",
              "  background-color: #0f0f0f;\n",
              "  color: #f1f1f1;\n",
              "}\n",
              "#T_aa301_row12_col21 {\n",
              "  font-size: 6pt;\n",
              "  background-color: #eeeeee;\n",
              "  color: #000000;\n",
              "}\n",
              "#T_aa301_row13_col6 {\n",
              "  font-size: 6pt;\n",
              "  background-color: #696969;\n",
              "  color: #f1f1f1;\n",
              "}\n",
              "#T_aa301_row13_col9 {\n",
              "  font-size: 6pt;\n",
              "  background-color: #5c5c5c;\n",
              "  color: #f1f1f1;\n",
              "}\n",
              "#T_aa301_row13_col10, #T_aa301_row13_col11 {\n",
              "  font-size: 6pt;\n",
              "  background-color: #cdcdcd;\n",
              "  color: #000000;\n",
              "}\n",
              "#T_aa301_row13_col12 {\n",
              "  font-size: 6pt;\n",
              "  background-color: #e4e4e4;\n",
              "  color: #000000;\n",
              "}\n",
              "#T_aa301_row13_col16 {\n",
              "  font-size: 6pt;\n",
              "  background-color: #949494;\n",
              "  color: #f1f1f1;\n",
              "}\n",
              "#T_aa301_row13_col20 {\n",
              "  font-size: 6pt;\n",
              "  background-color: #dedede;\n",
              "  color: #000000;\n",
              "}\n",
              "#T_aa301_row14_col8 {\n",
              "  font-size: 6pt;\n",
              "  background-color: #4b4b4b;\n",
              "  color: #f1f1f1;\n",
              "}\n",
              "#T_aa301_row14_col9 {\n",
              "  font-size: 6pt;\n",
              "  background-color: #f1f1f1;\n",
              "  color: #000000;\n",
              "}\n",
              "#T_aa301_row14_col15 {\n",
              "  font-size: 6pt;\n",
              "  background-color: #cfcfcf;\n",
              "  color: #000000;\n",
              "}\n",
              "#T_aa301_row14_col16 {\n",
              "  font-size: 6pt;\n",
              "  background-color: #070707;\n",
              "  color: #f1f1f1;\n",
              "}\n",
              "#T_aa301_row14_col19 {\n",
              "  font-size: 6pt;\n",
              "  background-color: #888888;\n",
              "  color: #f1f1f1;\n",
              "}\n",
              "#T_aa301_row15_col15 {\n",
              "  font-size: 6pt;\n",
              "  background-color: #2c2c2c;\n",
              "  color: #f1f1f1;\n",
              "}\n",
              "#T_aa301_row15_col18 {\n",
              "  font-size: 6pt;\n",
              "  background-color: #676767;\n",
              "  color: #f1f1f1;\n",
              "}\n",
              "#T_aa301_row16_col17 {\n",
              "  font-size: 6pt;\n",
              "  background-color: #303030;\n",
              "  color: #f1f1f1;\n",
              "}\n",
              "#T_aa301_row17_col12 {\n",
              "  font-size: 6pt;\n",
              "  background-color: #fdfdfd;\n",
              "  color: #000000;\n",
              "}\n",
              "#T_aa301_row17_col13 {\n",
              "  font-size: 6pt;\n",
              "  background-color: #a8a8a8;\n",
              "  color: #f1f1f1;\n",
              "}\n",
              "#T_aa301_row17_col16 {\n",
              "  font-size: 6pt;\n",
              "  background-color: #131313;\n",
              "  color: #f1f1f1;\n",
              "}\n",
              "#T_aa301_row17_col17, #T_aa301_row23_col7 {\n",
              "  font-size: 6pt;\n",
              "  background-color: #dfdfdf;\n",
              "  color: #000000;\n",
              "}\n",
              "#T_aa301_row18_col12 {\n",
              "  font-size: 6pt;\n",
              "  background-color: #c3c3c3;\n",
              "  color: #000000;\n",
              "}\n",
              "#T_aa301_row18_col15, #T_aa301_row19_col14 {\n",
              "  font-size: 6pt;\n",
              "  background-color: #111111;\n",
              "  color: #f1f1f1;\n",
              "}\n",
              "#T_aa301_row19_col11 {\n",
              "  font-size: 6pt;\n",
              "  background-color: #868686;\n",
              "  color: #f1f1f1;\n",
              "}\n",
              "#T_aa301_row19_col15 {\n",
              "  font-size: 6pt;\n",
              "  background-color: #b0b0b0;\n",
              "  color: #000000;\n",
              "}\n",
              "#T_aa301_row20_col10 {\n",
              "  font-size: 6pt;\n",
              "  background-color: #d7d7d7;\n",
              "  color: #000000;\n",
              "}\n",
              "#T_aa301_row20_col11, #T_aa301_row20_col13, #T_aa301_row21_col12 {\n",
              "  font-size: 6pt;\n",
              "  background-color: #020202;\n",
              "  color: #f1f1f1;\n",
              "}\n",
              "#T_aa301_row20_col14 {\n",
              "  font-size: 6pt;\n",
              "  background-color: #838383;\n",
              "  color: #f1f1f1;\n",
              "}\n",
              "#T_aa301_row21_col9 {\n",
              "  font-size: 6pt;\n",
              "  background-color: #d5d5d5;\n",
              "  color: #000000;\n",
              "}\n",
              "#T_aa301_row21_col10, #T_aa301_row22_col9 {\n",
              "  font-size: 6pt;\n",
              "  background-color: #060606;\n",
              "  color: #f1f1f1;\n",
              "}\n",
              "#T_aa301_row21_col13 {\n",
              "  font-size: 6pt;\n",
              "  background-color: #666666;\n",
              "  color: #f1f1f1;\n",
              "}\n",
              "#T_aa301_row22_col8 {\n",
              "  font-size: 6pt;\n",
              "  background-color: #e0e0e0;\n",
              "  color: #000000;\n",
              "}\n",
              "#T_aa301_row22_col12, #T_aa301_row24_col10 {\n",
              "  font-size: 6pt;\n",
              "  background-color: #363636;\n",
              "  color: #f1f1f1;\n",
              "}\n",
              "#T_aa301_row23_col8 {\n",
              "  font-size: 6pt;\n",
              "  background-color: #242424;\n",
              "  color: #f1f1f1;\n",
              "}\n",
              "#T_aa301_row23_col11 {\n",
              "  font-size: 6pt;\n",
              "  background-color: #535353;\n",
              "  color: #f1f1f1;\n",
              "}\n",
              "#T_aa301_row24_col6 {\n",
              "  font-size: 6pt;\n",
              "  background-color: #d3d3d3;\n",
              "  color: #000000;\n",
              "}\n",
              "#T_aa301_row25_col9 {\n",
              "  font-size: 6pt;\n",
              "  background-color: #383838;\n",
              "  color: #f1f1f1;\n",
              "}\n",
              "#T_aa301_row25_col10 {\n",
              "  font-size: 6pt;\n",
              "  background-color: #f5f5f5;\n",
              "  color: #000000;\n",
              "}\n",
              "</style>\n",
              "<table id=\"T_aa301_\" class=\"dataframe\">\n",
              "  <thead>\n",
              "    <tr>\n",
              "      <th class=\"blank level0\" >&nbsp;</th>\n",
              "      <th class=\"col_heading level0 col0\" >0</th>\n",
              "      <th class=\"col_heading level0 col1\" >1</th>\n",
              "      <th class=\"col_heading level0 col2\" >2</th>\n",
              "      <th class=\"col_heading level0 col3\" >3</th>\n",
              "      <th class=\"col_heading level0 col4\" >4</th>\n",
              "      <th class=\"col_heading level0 col5\" >5</th>\n",
              "      <th class=\"col_heading level0 col6\" >6</th>\n",
              "      <th class=\"col_heading level0 col7\" >7</th>\n",
              "      <th class=\"col_heading level0 col8\" >8</th>\n",
              "      <th class=\"col_heading level0 col9\" >9</th>\n",
              "      <th class=\"col_heading level0 col10\" >10</th>\n",
              "      <th class=\"col_heading level0 col11\" >11</th>\n",
              "      <th class=\"col_heading level0 col12\" >12</th>\n",
              "      <th class=\"col_heading level0 col13\" >13</th>\n",
              "      <th class=\"col_heading level0 col14\" >14</th>\n",
              "      <th class=\"col_heading level0 col15\" >15</th>\n",
              "      <th class=\"col_heading level0 col16\" >16</th>\n",
              "      <th class=\"col_heading level0 col17\" >17</th>\n",
              "      <th class=\"col_heading level0 col18\" >18</th>\n",
              "      <th class=\"col_heading level0 col19\" >19</th>\n",
              "      <th class=\"col_heading level0 col20\" >20</th>\n",
              "      <th class=\"col_heading level0 col21\" >21</th>\n",
              "      <th class=\"col_heading level0 col22\" >22</th>\n",
              "      <th class=\"col_heading level0 col23\" >23</th>\n",
              "      <th class=\"col_heading level0 col24\" >24</th>\n",
              "      <th class=\"col_heading level0 col25\" >25</th>\n",
              "      <th class=\"col_heading level0 col26\" >26</th>\n",
              "      <th class=\"col_heading level0 col27\" >27</th>\n",
              "    </tr>\n",
              "  </thead>\n",
              "  <tbody>\n",
              "    <tr>\n",
              "      <th id=\"T_aa301_level0_row0\" class=\"row_heading level0 row0\" >0</th>\n",
              "      <td id=\"T_aa301_row0_col0\" class=\"data row0 col0\" >0</td>\n",
              "      <td id=\"T_aa301_row0_col1\" class=\"data row0 col1\" >0</td>\n",
              "      <td id=\"T_aa301_row0_col2\" class=\"data row0 col2\" >0</td>\n",
              "      <td id=\"T_aa301_row0_col3\" class=\"data row0 col3\" >0</td>\n",
              "      <td id=\"T_aa301_row0_col4\" class=\"data row0 col4\" >0</td>\n",
              "      <td id=\"T_aa301_row0_col5\" class=\"data row0 col5\" >0</td>\n",
              "      <td id=\"T_aa301_row0_col6\" class=\"data row0 col6\" >0</td>\n",
              "      <td id=\"T_aa301_row0_col7\" class=\"data row0 col7\" >0</td>\n",
              "      <td id=\"T_aa301_row0_col8\" class=\"data row0 col8\" >0</td>\n",
              "      <td id=\"T_aa301_row0_col9\" class=\"data row0 col9\" >0</td>\n",
              "      <td id=\"T_aa301_row0_col10\" class=\"data row0 col10\" >0</td>\n",
              "      <td id=\"T_aa301_row0_col11\" class=\"data row0 col11\" >0</td>\n",
              "      <td id=\"T_aa301_row0_col12\" class=\"data row0 col12\" >0</td>\n",
              "      <td id=\"T_aa301_row0_col13\" class=\"data row0 col13\" >0</td>\n",
              "      <td id=\"T_aa301_row0_col14\" class=\"data row0 col14\" >0</td>\n",
              "      <td id=\"T_aa301_row0_col15\" class=\"data row0 col15\" >0</td>\n",
              "      <td id=\"T_aa301_row0_col16\" class=\"data row0 col16\" >0</td>\n",
              "      <td id=\"T_aa301_row0_col17\" class=\"data row0 col17\" >0</td>\n",
              "      <td id=\"T_aa301_row0_col18\" class=\"data row0 col18\" >0</td>\n",
              "      <td id=\"T_aa301_row0_col19\" class=\"data row0 col19\" >0</td>\n",
              "      <td id=\"T_aa301_row0_col20\" class=\"data row0 col20\" >0</td>\n",
              "      <td id=\"T_aa301_row0_col21\" class=\"data row0 col21\" >0</td>\n",
              "      <td id=\"T_aa301_row0_col22\" class=\"data row0 col22\" >0</td>\n",
              "      <td id=\"T_aa301_row0_col23\" class=\"data row0 col23\" >0</td>\n",
              "      <td id=\"T_aa301_row0_col24\" class=\"data row0 col24\" >0</td>\n",
              "      <td id=\"T_aa301_row0_col25\" class=\"data row0 col25\" >0</td>\n",
              "      <td id=\"T_aa301_row0_col26\" class=\"data row0 col26\" >0</td>\n",
              "      <td id=\"T_aa301_row0_col27\" class=\"data row0 col27\" >0</td>\n",
              "    </tr>\n",
              "    <tr>\n",
              "      <th id=\"T_aa301_level0_row1\" class=\"row_heading level0 row1\" >1</th>\n",
              "      <td id=\"T_aa301_row1_col0\" class=\"data row1 col0\" >0</td>\n",
              "      <td id=\"T_aa301_row1_col1\" class=\"data row1 col1\" >0</td>\n",
              "      <td id=\"T_aa301_row1_col2\" class=\"data row1 col2\" >0</td>\n",
              "      <td id=\"T_aa301_row1_col3\" class=\"data row1 col3\" >0</td>\n",
              "      <td id=\"T_aa301_row1_col4\" class=\"data row1 col4\" >0</td>\n",
              "      <td id=\"T_aa301_row1_col5\" class=\"data row1 col5\" >0</td>\n",
              "      <td id=\"T_aa301_row1_col6\" class=\"data row1 col6\" >0</td>\n",
              "      <td id=\"T_aa301_row1_col7\" class=\"data row1 col7\" >0</td>\n",
              "      <td id=\"T_aa301_row1_col8\" class=\"data row1 col8\" >0</td>\n",
              "      <td id=\"T_aa301_row1_col9\" class=\"data row1 col9\" >0</td>\n",
              "      <td id=\"T_aa301_row1_col10\" class=\"data row1 col10\" >0</td>\n",
              "      <td id=\"T_aa301_row1_col11\" class=\"data row1 col11\" >0</td>\n",
              "      <td id=\"T_aa301_row1_col12\" class=\"data row1 col12\" >0</td>\n",
              "      <td id=\"T_aa301_row1_col13\" class=\"data row1 col13\" >0</td>\n",
              "      <td id=\"T_aa301_row1_col14\" class=\"data row1 col14\" >0</td>\n",
              "      <td id=\"T_aa301_row1_col15\" class=\"data row1 col15\" >0</td>\n",
              "      <td id=\"T_aa301_row1_col16\" class=\"data row1 col16\" >0</td>\n",
              "      <td id=\"T_aa301_row1_col17\" class=\"data row1 col17\" >0</td>\n",
              "      <td id=\"T_aa301_row1_col18\" class=\"data row1 col18\" >0</td>\n",
              "      <td id=\"T_aa301_row1_col19\" class=\"data row1 col19\" >0</td>\n",
              "      <td id=\"T_aa301_row1_col20\" class=\"data row1 col20\" >0</td>\n",
              "      <td id=\"T_aa301_row1_col21\" class=\"data row1 col21\" >0</td>\n",
              "      <td id=\"T_aa301_row1_col22\" class=\"data row1 col22\" >0</td>\n",
              "      <td id=\"T_aa301_row1_col23\" class=\"data row1 col23\" >0</td>\n",
              "      <td id=\"T_aa301_row1_col24\" class=\"data row1 col24\" >0</td>\n",
              "      <td id=\"T_aa301_row1_col25\" class=\"data row1 col25\" >0</td>\n",
              "      <td id=\"T_aa301_row1_col26\" class=\"data row1 col26\" >0</td>\n",
              "      <td id=\"T_aa301_row1_col27\" class=\"data row1 col27\" >0</td>\n",
              "    </tr>\n",
              "    <tr>\n",
              "      <th id=\"T_aa301_level0_row2\" class=\"row_heading level0 row2\" >2</th>\n",
              "      <td id=\"T_aa301_row2_col0\" class=\"data row2 col0\" >0</td>\n",
              "      <td id=\"T_aa301_row2_col1\" class=\"data row2 col1\" >0</td>\n",
              "      <td id=\"T_aa301_row2_col2\" class=\"data row2 col2\" >0</td>\n",
              "      <td id=\"T_aa301_row2_col3\" class=\"data row2 col3\" >0</td>\n",
              "      <td id=\"T_aa301_row2_col4\" class=\"data row2 col4\" >0</td>\n",
              "      <td id=\"T_aa301_row2_col5\" class=\"data row2 col5\" >0</td>\n",
              "      <td id=\"T_aa301_row2_col6\" class=\"data row2 col6\" >0</td>\n",
              "      <td id=\"T_aa301_row2_col7\" class=\"data row2 col7\" >0</td>\n",
              "      <td id=\"T_aa301_row2_col8\" class=\"data row2 col8\" >0</td>\n",
              "      <td id=\"T_aa301_row2_col9\" class=\"data row2 col9\" >0</td>\n",
              "      <td id=\"T_aa301_row2_col10\" class=\"data row2 col10\" >0</td>\n",
              "      <td id=\"T_aa301_row2_col11\" class=\"data row2 col11\" >0</td>\n",
              "      <td id=\"T_aa301_row2_col12\" class=\"data row2 col12\" >0</td>\n",
              "      <td id=\"T_aa301_row2_col13\" class=\"data row2 col13\" >0</td>\n",
              "      <td id=\"T_aa301_row2_col14\" class=\"data row2 col14\" >0</td>\n",
              "      <td id=\"T_aa301_row2_col15\" class=\"data row2 col15\" >0</td>\n",
              "      <td id=\"T_aa301_row2_col16\" class=\"data row2 col16\" >0</td>\n",
              "      <td id=\"T_aa301_row2_col17\" class=\"data row2 col17\" >0</td>\n",
              "      <td id=\"T_aa301_row2_col18\" class=\"data row2 col18\" >0</td>\n",
              "      <td id=\"T_aa301_row2_col19\" class=\"data row2 col19\" >0</td>\n",
              "      <td id=\"T_aa301_row2_col20\" class=\"data row2 col20\" >0</td>\n",
              "      <td id=\"T_aa301_row2_col21\" class=\"data row2 col21\" >0</td>\n",
              "      <td id=\"T_aa301_row2_col22\" class=\"data row2 col22\" >0</td>\n",
              "      <td id=\"T_aa301_row2_col23\" class=\"data row2 col23\" >0</td>\n",
              "      <td id=\"T_aa301_row2_col24\" class=\"data row2 col24\" >0</td>\n",
              "      <td id=\"T_aa301_row2_col25\" class=\"data row2 col25\" >0</td>\n",
              "      <td id=\"T_aa301_row2_col26\" class=\"data row2 col26\" >0</td>\n",
              "      <td id=\"T_aa301_row2_col27\" class=\"data row2 col27\" >0</td>\n",
              "    </tr>\n",
              "    <tr>\n",
              "      <th id=\"T_aa301_level0_row3\" class=\"row_heading level0 row3\" >3</th>\n",
              "      <td id=\"T_aa301_row3_col0\" class=\"data row3 col0\" >0</td>\n",
              "      <td id=\"T_aa301_row3_col1\" class=\"data row3 col1\" >0</td>\n",
              "      <td id=\"T_aa301_row3_col2\" class=\"data row3 col2\" >0</td>\n",
              "      <td id=\"T_aa301_row3_col3\" class=\"data row3 col3\" >0</td>\n",
              "      <td id=\"T_aa301_row3_col4\" class=\"data row3 col4\" >0</td>\n",
              "      <td id=\"T_aa301_row3_col5\" class=\"data row3 col5\" >0</td>\n",
              "      <td id=\"T_aa301_row3_col6\" class=\"data row3 col6\" >0</td>\n",
              "      <td id=\"T_aa301_row3_col7\" class=\"data row3 col7\" >0</td>\n",
              "      <td id=\"T_aa301_row3_col8\" class=\"data row3 col8\" >0</td>\n",
              "      <td id=\"T_aa301_row3_col9\" class=\"data row3 col9\" >0</td>\n",
              "      <td id=\"T_aa301_row3_col10\" class=\"data row3 col10\" >0</td>\n",
              "      <td id=\"T_aa301_row3_col11\" class=\"data row3 col11\" >0</td>\n",
              "      <td id=\"T_aa301_row3_col12\" class=\"data row3 col12\" >0</td>\n",
              "      <td id=\"T_aa301_row3_col13\" class=\"data row3 col13\" >0</td>\n",
              "      <td id=\"T_aa301_row3_col14\" class=\"data row3 col14\" >0</td>\n",
              "      <td id=\"T_aa301_row3_col15\" class=\"data row3 col15\" >0</td>\n",
              "      <td id=\"T_aa301_row3_col16\" class=\"data row3 col16\" >0</td>\n",
              "      <td id=\"T_aa301_row3_col17\" class=\"data row3 col17\" >0</td>\n",
              "      <td id=\"T_aa301_row3_col18\" class=\"data row3 col18\" >0</td>\n",
              "      <td id=\"T_aa301_row3_col19\" class=\"data row3 col19\" >0</td>\n",
              "      <td id=\"T_aa301_row3_col20\" class=\"data row3 col20\" >0</td>\n",
              "      <td id=\"T_aa301_row3_col21\" class=\"data row3 col21\" >0</td>\n",
              "      <td id=\"T_aa301_row3_col22\" class=\"data row3 col22\" >0</td>\n",
              "      <td id=\"T_aa301_row3_col23\" class=\"data row3 col23\" >0</td>\n",
              "      <td id=\"T_aa301_row3_col24\" class=\"data row3 col24\" >0</td>\n",
              "      <td id=\"T_aa301_row3_col25\" class=\"data row3 col25\" >0</td>\n",
              "      <td id=\"T_aa301_row3_col26\" class=\"data row3 col26\" >0</td>\n",
              "      <td id=\"T_aa301_row3_col27\" class=\"data row3 col27\" >0</td>\n",
              "    </tr>\n",
              "    <tr>\n",
              "      <th id=\"T_aa301_level0_row4\" class=\"row_heading level0 row4\" >4</th>\n",
              "      <td id=\"T_aa301_row4_col0\" class=\"data row4 col0\" >0</td>\n",
              "      <td id=\"T_aa301_row4_col1\" class=\"data row4 col1\" >0</td>\n",
              "      <td id=\"T_aa301_row4_col2\" class=\"data row4 col2\" >0</td>\n",
              "      <td id=\"T_aa301_row4_col3\" class=\"data row4 col3\" >0</td>\n",
              "      <td id=\"T_aa301_row4_col4\" class=\"data row4 col4\" >0</td>\n",
              "      <td id=\"T_aa301_row4_col5\" class=\"data row4 col5\" >0</td>\n",
              "      <td id=\"T_aa301_row4_col6\" class=\"data row4 col6\" >0</td>\n",
              "      <td id=\"T_aa301_row4_col7\" class=\"data row4 col7\" >0</td>\n",
              "      <td id=\"T_aa301_row4_col8\" class=\"data row4 col8\" >0</td>\n",
              "      <td id=\"T_aa301_row4_col9\" class=\"data row4 col9\" >0</td>\n",
              "      <td id=\"T_aa301_row4_col10\" class=\"data row4 col10\" >0</td>\n",
              "      <td id=\"T_aa301_row4_col11\" class=\"data row4 col11\" >0</td>\n",
              "      <td id=\"T_aa301_row4_col12\" class=\"data row4 col12\" >0</td>\n",
              "      <td id=\"T_aa301_row4_col13\" class=\"data row4 col13\" >0</td>\n",
              "      <td id=\"T_aa301_row4_col14\" class=\"data row4 col14\" >0</td>\n",
              "      <td id=\"T_aa301_row4_col15\" class=\"data row4 col15\" >0</td>\n",
              "      <td id=\"T_aa301_row4_col16\" class=\"data row4 col16\" >0</td>\n",
              "      <td id=\"T_aa301_row4_col17\" class=\"data row4 col17\" >0</td>\n",
              "      <td id=\"T_aa301_row4_col18\" class=\"data row4 col18\" >0</td>\n",
              "      <td id=\"T_aa301_row4_col19\" class=\"data row4 col19\" >0</td>\n",
              "      <td id=\"T_aa301_row4_col20\" class=\"data row4 col20\" >0</td>\n",
              "      <td id=\"T_aa301_row4_col21\" class=\"data row4 col21\" >0</td>\n",
              "      <td id=\"T_aa301_row4_col22\" class=\"data row4 col22\" >0</td>\n",
              "      <td id=\"T_aa301_row4_col23\" class=\"data row4 col23\" >0</td>\n",
              "      <td id=\"T_aa301_row4_col24\" class=\"data row4 col24\" >0</td>\n",
              "      <td id=\"T_aa301_row4_col25\" class=\"data row4 col25\" >0</td>\n",
              "      <td id=\"T_aa301_row4_col26\" class=\"data row4 col26\" >0</td>\n",
              "      <td id=\"T_aa301_row4_col27\" class=\"data row4 col27\" >0</td>\n",
              "    </tr>\n",
              "    <tr>\n",
              "      <th id=\"T_aa301_level0_row5\" class=\"row_heading level0 row5\" >5</th>\n",
              "      <td id=\"T_aa301_row5_col0\" class=\"data row5 col0\" >0</td>\n",
              "      <td id=\"T_aa301_row5_col1\" class=\"data row5 col1\" >0</td>\n",
              "      <td id=\"T_aa301_row5_col2\" class=\"data row5 col2\" >0</td>\n",
              "      <td id=\"T_aa301_row5_col3\" class=\"data row5 col3\" >0</td>\n",
              "      <td id=\"T_aa301_row5_col4\" class=\"data row5 col4\" >0</td>\n",
              "      <td id=\"T_aa301_row5_col5\" class=\"data row5 col5\" >0</td>\n",
              "      <td id=\"T_aa301_row5_col6\" class=\"data row5 col6\" >0</td>\n",
              "      <td id=\"T_aa301_row5_col7\" class=\"data row5 col7\" >0</td>\n",
              "      <td id=\"T_aa301_row5_col8\" class=\"data row5 col8\" >0</td>\n",
              "      <td id=\"T_aa301_row5_col9\" class=\"data row5 col9\" >0</td>\n",
              "      <td id=\"T_aa301_row5_col10\" class=\"data row5 col10\" >0</td>\n",
              "      <td id=\"T_aa301_row5_col11\" class=\"data row5 col11\" >0</td>\n",
              "      <td id=\"T_aa301_row5_col12\" class=\"data row5 col12\" >0</td>\n",
              "      <td id=\"T_aa301_row5_col13\" class=\"data row5 col13\" >0</td>\n",
              "      <td id=\"T_aa301_row5_col14\" class=\"data row5 col14\" >0</td>\n",
              "      <td id=\"T_aa301_row5_col15\" class=\"data row5 col15\" >0</td>\n",
              "      <td id=\"T_aa301_row5_col16\" class=\"data row5 col16\" >0</td>\n",
              "      <td id=\"T_aa301_row5_col17\" class=\"data row5 col17\" >0</td>\n",
              "      <td id=\"T_aa301_row5_col18\" class=\"data row5 col18\" >0</td>\n",
              "      <td id=\"T_aa301_row5_col19\" class=\"data row5 col19\" >0</td>\n",
              "      <td id=\"T_aa301_row5_col20\" class=\"data row5 col20\" >0</td>\n",
              "      <td id=\"T_aa301_row5_col21\" class=\"data row5 col21\" >0</td>\n",
              "      <td id=\"T_aa301_row5_col22\" class=\"data row5 col22\" >0</td>\n",
              "      <td id=\"T_aa301_row5_col23\" class=\"data row5 col23\" >0</td>\n",
              "      <td id=\"T_aa301_row5_col24\" class=\"data row5 col24\" >0</td>\n",
              "      <td id=\"T_aa301_row5_col25\" class=\"data row5 col25\" >0</td>\n",
              "      <td id=\"T_aa301_row5_col26\" class=\"data row5 col26\" >0</td>\n",
              "      <td id=\"T_aa301_row5_col27\" class=\"data row5 col27\" >0</td>\n",
              "    </tr>\n",
              "    <tr>\n",
              "      <th id=\"T_aa301_level0_row6\" class=\"row_heading level0 row6\" >6</th>\n",
              "      <td id=\"T_aa301_row6_col0\" class=\"data row6 col0\" >0</td>\n",
              "      <td id=\"T_aa301_row6_col1\" class=\"data row6 col1\" >0</td>\n",
              "      <td id=\"T_aa301_row6_col2\" class=\"data row6 col2\" >0</td>\n",
              "      <td id=\"T_aa301_row6_col3\" class=\"data row6 col3\" >0</td>\n",
              "      <td id=\"T_aa301_row6_col4\" class=\"data row6 col4\" >0</td>\n",
              "      <td id=\"T_aa301_row6_col5\" class=\"data row6 col5\" >0</td>\n",
              "      <td id=\"T_aa301_row6_col6\" class=\"data row6 col6\" >0</td>\n",
              "      <td id=\"T_aa301_row6_col7\" class=\"data row6 col7\" >0</td>\n",
              "      <td id=\"T_aa301_row6_col8\" class=\"data row6 col8\" >0</td>\n",
              "      <td id=\"T_aa301_row6_col9\" class=\"data row6 col9\" >0</td>\n",
              "      <td id=\"T_aa301_row6_col10\" class=\"data row6 col10\" >0</td>\n",
              "      <td id=\"T_aa301_row6_col11\" class=\"data row6 col11\" >1</td>\n",
              "      <td id=\"T_aa301_row6_col12\" class=\"data row6 col12\" >13</td>\n",
              "      <td id=\"T_aa301_row6_col13\" class=\"data row6 col13\" >7</td>\n",
              "      <td id=\"T_aa301_row6_col14\" class=\"data row6 col14\" >0</td>\n",
              "      <td id=\"T_aa301_row6_col15\" class=\"data row6 col15\" >0</td>\n",
              "      <td id=\"T_aa301_row6_col16\" class=\"data row6 col16\" >0</td>\n",
              "      <td id=\"T_aa301_row6_col17\" class=\"data row6 col17\" >0</td>\n",
              "      <td id=\"T_aa301_row6_col18\" class=\"data row6 col18\" >0</td>\n",
              "      <td id=\"T_aa301_row6_col19\" class=\"data row6 col19\" >0</td>\n",
              "      <td id=\"T_aa301_row6_col20\" class=\"data row6 col20\" >2</td>\n",
              "      <td id=\"T_aa301_row6_col21\" class=\"data row6 col21\" >93</td>\n",
              "      <td id=\"T_aa301_row6_col22\" class=\"data row6 col22\" >244</td>\n",
              "      <td id=\"T_aa301_row6_col23\" class=\"data row6 col23\" >207</td>\n",
              "      <td id=\"T_aa301_row6_col24\" class=\"data row6 col24\" >8</td>\n",
              "      <td id=\"T_aa301_row6_col25\" class=\"data row6 col25\" >0</td>\n",
              "      <td id=\"T_aa301_row6_col26\" class=\"data row6 col26\" >0</td>\n",
              "      <td id=\"T_aa301_row6_col27\" class=\"data row6 col27\" >0</td>\n",
              "    </tr>\n",
              "    <tr>\n",
              "      <th id=\"T_aa301_level0_row7\" class=\"row_heading level0 row7\" >7</th>\n",
              "      <td id=\"T_aa301_row7_col0\" class=\"data row7 col0\" >0</td>\n",
              "      <td id=\"T_aa301_row7_col1\" class=\"data row7 col1\" >0</td>\n",
              "      <td id=\"T_aa301_row7_col2\" class=\"data row7 col2\" >0</td>\n",
              "      <td id=\"T_aa301_row7_col3\" class=\"data row7 col3\" >0</td>\n",
              "      <td id=\"T_aa301_row7_col4\" class=\"data row7 col4\" >0</td>\n",
              "      <td id=\"T_aa301_row7_col5\" class=\"data row7 col5\" >0</td>\n",
              "      <td id=\"T_aa301_row7_col6\" class=\"data row7 col6\" >0</td>\n",
              "      <td id=\"T_aa301_row7_col7\" class=\"data row7 col7\" >0</td>\n",
              "      <td id=\"T_aa301_row7_col8\" class=\"data row7 col8\" >0</td>\n",
              "      <td id=\"T_aa301_row7_col9\" class=\"data row7 col9\" >0</td>\n",
              "      <td id=\"T_aa301_row7_col10\" class=\"data row7 col10\" >15</td>\n",
              "      <td id=\"T_aa301_row7_col11\" class=\"data row7 col11\" >157</td>\n",
              "      <td id=\"T_aa301_row7_col12\" class=\"data row7 col12\" >254</td>\n",
              "      <td id=\"T_aa301_row7_col13\" class=\"data row7 col13\" >197</td>\n",
              "      <td id=\"T_aa301_row7_col14\" class=\"data row7 col14\" >0</td>\n",
              "      <td id=\"T_aa301_row7_col15\" class=\"data row7 col15\" >0</td>\n",
              "      <td id=\"T_aa301_row7_col16\" class=\"data row7 col16\" >0</td>\n",
              "      <td id=\"T_aa301_row7_col17\" class=\"data row7 col17\" >0</td>\n",
              "      <td id=\"T_aa301_row7_col18\" class=\"data row7 col18\" >0</td>\n",
              "      <td id=\"T_aa301_row7_col19\" class=\"data row7 col19\" >18</td>\n",
              "      <td id=\"T_aa301_row7_col20\" class=\"data row7 col20\" >131</td>\n",
              "      <td id=\"T_aa301_row7_col21\" class=\"data row7 col21\" >254</td>\n",
              "      <td id=\"T_aa301_row7_col22\" class=\"data row7 col22\" >254</td>\n",
              "      <td id=\"T_aa301_row7_col23\" class=\"data row7 col23\" >248</td>\n",
              "      <td id=\"T_aa301_row7_col24\" class=\"data row7 col24\" >11</td>\n",
              "      <td id=\"T_aa301_row7_col25\" class=\"data row7 col25\" >0</td>\n",
              "      <td id=\"T_aa301_row7_col26\" class=\"data row7 col26\" >0</td>\n",
              "      <td id=\"T_aa301_row7_col27\" class=\"data row7 col27\" >0</td>\n",
              "    </tr>\n",
              "    <tr>\n",
              "      <th id=\"T_aa301_level0_row8\" class=\"row_heading level0 row8\" >8</th>\n",
              "      <td id=\"T_aa301_row8_col0\" class=\"data row8 col0\" >0</td>\n",
              "      <td id=\"T_aa301_row8_col1\" class=\"data row8 col1\" >0</td>\n",
              "      <td id=\"T_aa301_row8_col2\" class=\"data row8 col2\" >0</td>\n",
              "      <td id=\"T_aa301_row8_col3\" class=\"data row8 col3\" >0</td>\n",
              "      <td id=\"T_aa301_row8_col4\" class=\"data row8 col4\" >0</td>\n",
              "      <td id=\"T_aa301_row8_col5\" class=\"data row8 col5\" >0</td>\n",
              "      <td id=\"T_aa301_row8_col6\" class=\"data row8 col6\" >0</td>\n",
              "      <td id=\"T_aa301_row8_col7\" class=\"data row8 col7\" >0</td>\n",
              "      <td id=\"T_aa301_row8_col8\" class=\"data row8 col8\" >0</td>\n",
              "      <td id=\"T_aa301_row8_col9\" class=\"data row8 col9\" >9</td>\n",
              "      <td id=\"T_aa301_row8_col10\" class=\"data row8 col10\" >220</td>\n",
              "      <td id=\"T_aa301_row8_col11\" class=\"data row8 col11\" >254</td>\n",
              "      <td id=\"T_aa301_row8_col12\" class=\"data row8 col12\" >254</td>\n",
              "      <td id=\"T_aa301_row8_col13\" class=\"data row8 col13\" >230</td>\n",
              "      <td id=\"T_aa301_row8_col14\" class=\"data row8 col14\" >104</td>\n",
              "      <td id=\"T_aa301_row8_col15\" class=\"data row8 col15\" >0</td>\n",
              "      <td id=\"T_aa301_row8_col16\" class=\"data row8 col16\" >0</td>\n",
              "      <td id=\"T_aa301_row8_col17\" class=\"data row8 col17\" >0</td>\n",
              "      <td id=\"T_aa301_row8_col18\" class=\"data row8 col18\" >65</td>\n",
              "      <td id=\"T_aa301_row8_col19\" class=\"data row8 col19\" >216</td>\n",
              "      <td id=\"T_aa301_row8_col20\" class=\"data row8 col20\" >254</td>\n",
              "      <td id=\"T_aa301_row8_col21\" class=\"data row8 col21\" >254</td>\n",
              "      <td id=\"T_aa301_row8_col22\" class=\"data row8 col22\" >254</td>\n",
              "      <td id=\"T_aa301_row8_col23\" class=\"data row8 col23\" >218</td>\n",
              "      <td id=\"T_aa301_row8_col24\" class=\"data row8 col24\" >8</td>\n",
              "      <td id=\"T_aa301_row8_col25\" class=\"data row8 col25\" >0</td>\n",
              "      <td id=\"T_aa301_row8_col26\" class=\"data row8 col26\" >0</td>\n",
              "      <td id=\"T_aa301_row8_col27\" class=\"data row8 col27\" >0</td>\n",
              "    </tr>\n",
              "    <tr>\n",
              "      <th id=\"T_aa301_level0_row9\" class=\"row_heading level0 row9\" >9</th>\n",
              "      <td id=\"T_aa301_row9_col0\" class=\"data row9 col0\" >0</td>\n",
              "      <td id=\"T_aa301_row9_col1\" class=\"data row9 col1\" >0</td>\n",
              "      <td id=\"T_aa301_row9_col2\" class=\"data row9 col2\" >0</td>\n",
              "      <td id=\"T_aa301_row9_col3\" class=\"data row9 col3\" >0</td>\n",
              "      <td id=\"T_aa301_row9_col4\" class=\"data row9 col4\" >0</td>\n",
              "      <td id=\"T_aa301_row9_col5\" class=\"data row9 col5\" >0</td>\n",
              "      <td id=\"T_aa301_row9_col6\" class=\"data row9 col6\" >0</td>\n",
              "      <td id=\"T_aa301_row9_col7\" class=\"data row9 col7\" >0</td>\n",
              "      <td id=\"T_aa301_row9_col8\" class=\"data row9 col8\" >0</td>\n",
              "      <td id=\"T_aa301_row9_col9\" class=\"data row9 col9\" >169</td>\n",
              "      <td id=\"T_aa301_row9_col10\" class=\"data row9 col10\" >254</td>\n",
              "      <td id=\"T_aa301_row9_col11\" class=\"data row9 col11\" >254</td>\n",
              "      <td id=\"T_aa301_row9_col12\" class=\"data row9 col12\" >231</td>\n",
              "      <td id=\"T_aa301_row9_col13\" class=\"data row9 col13\" >126</td>\n",
              "      <td id=\"T_aa301_row9_col14\" class=\"data row9 col14\" >40</td>\n",
              "      <td id=\"T_aa301_row9_col15\" class=\"data row9 col15\" >11</td>\n",
              "      <td id=\"T_aa301_row9_col16\" class=\"data row9 col16\" >70</td>\n",
              "      <td id=\"T_aa301_row9_col17\" class=\"data row9 col17\" >180</td>\n",
              "      <td id=\"T_aa301_row9_col18\" class=\"data row9 col18\" >254</td>\n",
              "      <td id=\"T_aa301_row9_col19\" class=\"data row9 col19\" >254</td>\n",
              "      <td id=\"T_aa301_row9_col20\" class=\"data row9 col20\" >254</td>\n",
              "      <td id=\"T_aa301_row9_col21\" class=\"data row9 col21\" >254</td>\n",
              "      <td id=\"T_aa301_row9_col22\" class=\"data row9 col22\" >254</td>\n",
              "      <td id=\"T_aa301_row9_col23\" class=\"data row9 col23\" >90</td>\n",
              "      <td id=\"T_aa301_row9_col24\" class=\"data row9 col24\" >0</td>\n",
              "      <td id=\"T_aa301_row9_col25\" class=\"data row9 col25\" >0</td>\n",
              "      <td id=\"T_aa301_row9_col26\" class=\"data row9 col26\" >0</td>\n",
              "      <td id=\"T_aa301_row9_col27\" class=\"data row9 col27\" >0</td>\n",
              "    </tr>\n",
              "    <tr>\n",
              "      <th id=\"T_aa301_level0_row10\" class=\"row_heading level0 row10\" >10</th>\n",
              "      <td id=\"T_aa301_row10_col0\" class=\"data row10 col0\" >0</td>\n",
              "      <td id=\"T_aa301_row10_col1\" class=\"data row10 col1\" >0</td>\n",
              "      <td id=\"T_aa301_row10_col2\" class=\"data row10 col2\" >0</td>\n",
              "      <td id=\"T_aa301_row10_col3\" class=\"data row10 col3\" >0</td>\n",
              "      <td id=\"T_aa301_row10_col4\" class=\"data row10 col4\" >0</td>\n",
              "      <td id=\"T_aa301_row10_col5\" class=\"data row10 col5\" >0</td>\n",
              "      <td id=\"T_aa301_row10_col6\" class=\"data row10 col6\" >0</td>\n",
              "      <td id=\"T_aa301_row10_col7\" class=\"data row10 col7\" >40</td>\n",
              "      <td id=\"T_aa301_row10_col8\" class=\"data row10 col8\" >183</td>\n",
              "      <td id=\"T_aa301_row10_col9\" class=\"data row10 col9\" >251</td>\n",
              "      <td id=\"T_aa301_row10_col10\" class=\"data row10 col10\" >254</td>\n",
              "      <td id=\"T_aa301_row10_col11\" class=\"data row10 col11\" >226</td>\n",
              "      <td id=\"T_aa301_row10_col12\" class=\"data row10 col12\" >81</td>\n",
              "      <td id=\"T_aa301_row10_col13\" class=\"data row10 col13\" >70</td>\n",
              "      <td id=\"T_aa301_row10_col14\" class=\"data row10 col14\" >180</td>\n",
              "      <td id=\"T_aa301_row10_col15\" class=\"data row10 col15\" >229</td>\n",
              "      <td id=\"T_aa301_row10_col16\" class=\"data row10 col16\" >254</td>\n",
              "      <td id=\"T_aa301_row10_col17\" class=\"data row10 col17\" >254</td>\n",
              "      <td id=\"T_aa301_row10_col18\" class=\"data row10 col18\" >254</td>\n",
              "      <td id=\"T_aa301_row10_col19\" class=\"data row10 col19\" >254</td>\n",
              "      <td id=\"T_aa301_row10_col20\" class=\"data row10 col20\" >254</td>\n",
              "      <td id=\"T_aa301_row10_col21\" class=\"data row10 col21\" >254</td>\n",
              "      <td id=\"T_aa301_row10_col22\" class=\"data row10 col22\" >115</td>\n",
              "      <td id=\"T_aa301_row10_col23\" class=\"data row10 col23\" >3</td>\n",
              "      <td id=\"T_aa301_row10_col24\" class=\"data row10 col24\" >0</td>\n",
              "      <td id=\"T_aa301_row10_col25\" class=\"data row10 col25\" >0</td>\n",
              "      <td id=\"T_aa301_row10_col26\" class=\"data row10 col26\" >0</td>\n",
              "      <td id=\"T_aa301_row10_col27\" class=\"data row10 col27\" >0</td>\n",
              "    </tr>\n",
              "    <tr>\n",
              "      <th id=\"T_aa301_level0_row11\" class=\"row_heading level0 row11\" >11</th>\n",
              "      <td id=\"T_aa301_row11_col0\" class=\"data row11 col0\" >0</td>\n",
              "      <td id=\"T_aa301_row11_col1\" class=\"data row11 col1\" >0</td>\n",
              "      <td id=\"T_aa301_row11_col2\" class=\"data row11 col2\" >0</td>\n",
              "      <td id=\"T_aa301_row11_col3\" class=\"data row11 col3\" >0</td>\n",
              "      <td id=\"T_aa301_row11_col4\" class=\"data row11 col4\" >0</td>\n",
              "      <td id=\"T_aa301_row11_col5\" class=\"data row11 col5\" >0</td>\n",
              "      <td id=\"T_aa301_row11_col6\" class=\"data row11 col6\" >7</td>\n",
              "      <td id=\"T_aa301_row11_col7\" class=\"data row11 col7\" >208</td>\n",
              "      <td id=\"T_aa301_row11_col8\" class=\"data row11 col8\" >254</td>\n",
              "      <td id=\"T_aa301_row11_col9\" class=\"data row11 col9\" >254</td>\n",
              "      <td id=\"T_aa301_row11_col10\" class=\"data row11 col10\" >255</td>\n",
              "      <td id=\"T_aa301_row11_col11\" class=\"data row11 col11\" >254</td>\n",
              "      <td id=\"T_aa301_row11_col12\" class=\"data row11 col12\" >254</td>\n",
              "      <td id=\"T_aa301_row11_col13\" class=\"data row11 col13\" >254</td>\n",
              "      <td id=\"T_aa301_row11_col14\" class=\"data row11 col14\" >255</td>\n",
              "      <td id=\"T_aa301_row11_col15\" class=\"data row11 col15\" >254</td>\n",
              "      <td id=\"T_aa301_row11_col16\" class=\"data row11 col16\" >254</td>\n",
              "      <td id=\"T_aa301_row11_col17\" class=\"data row11 col17\" >254</td>\n",
              "      <td id=\"T_aa301_row11_col18\" class=\"data row11 col18\" >254</td>\n",
              "      <td id=\"T_aa301_row11_col19\" class=\"data row11 col19\" >254</td>\n",
              "      <td id=\"T_aa301_row11_col20\" class=\"data row11 col20\" >254</td>\n",
              "      <td id=\"T_aa301_row11_col21\" class=\"data row11 col21\" >190</td>\n",
              "      <td id=\"T_aa301_row11_col22\" class=\"data row11 col22\" >3</td>\n",
              "      <td id=\"T_aa301_row11_col23\" class=\"data row11 col23\" >0</td>\n",
              "      <td id=\"T_aa301_row11_col24\" class=\"data row11 col24\" >0</td>\n",
              "      <td id=\"T_aa301_row11_col25\" class=\"data row11 col25\" >0</td>\n",
              "      <td id=\"T_aa301_row11_col26\" class=\"data row11 col26\" >0</td>\n",
              "      <td id=\"T_aa301_row11_col27\" class=\"data row11 col27\" >0</td>\n",
              "    </tr>\n",
              "    <tr>\n",
              "      <th id=\"T_aa301_level0_row12\" class=\"row_heading level0 row12\" >12</th>\n",
              "      <td id=\"T_aa301_row12_col0\" class=\"data row12 col0\" >0</td>\n",
              "      <td id=\"T_aa301_row12_col1\" class=\"data row12 col1\" >0</td>\n",
              "      <td id=\"T_aa301_row12_col2\" class=\"data row12 col2\" >0</td>\n",
              "      <td id=\"T_aa301_row12_col3\" class=\"data row12 col3\" >0</td>\n",
              "      <td id=\"T_aa301_row12_col4\" class=\"data row12 col4\" >0</td>\n",
              "      <td id=\"T_aa301_row12_col5\" class=\"data row12 col5\" >0</td>\n",
              "      <td id=\"T_aa301_row12_col6\" class=\"data row12 col6\" >53</td>\n",
              "      <td id=\"T_aa301_row12_col7\" class=\"data row12 col7\" >254</td>\n",
              "      <td id=\"T_aa301_row12_col8\" class=\"data row12 col8\" >254</td>\n",
              "      <td id=\"T_aa301_row12_col9\" class=\"data row12 col9\" >254</td>\n",
              "      <td id=\"T_aa301_row12_col10\" class=\"data row12 col10\" >254</td>\n",
              "      <td id=\"T_aa301_row12_col11\" class=\"data row12 col11\" >254</td>\n",
              "      <td id=\"T_aa301_row12_col12\" class=\"data row12 col12\" >253</td>\n",
              "      <td id=\"T_aa301_row12_col13\" class=\"data row12 col13\" >250</td>\n",
              "      <td id=\"T_aa301_row12_col14\" class=\"data row12 col14\" >212</td>\n",
              "      <td id=\"T_aa301_row12_col15\" class=\"data row12 col15\" >169</td>\n",
              "      <td id=\"T_aa301_row12_col16\" class=\"data row12 col16\" >125</td>\n",
              "      <td id=\"T_aa301_row12_col17\" class=\"data row12 col17\" >167</td>\n",
              "      <td id=\"T_aa301_row12_col18\" class=\"data row12 col18\" >254</td>\n",
              "      <td id=\"T_aa301_row12_col19\" class=\"data row12 col19\" >254</td>\n",
              "      <td id=\"T_aa301_row12_col20\" class=\"data row12 col20\" >241</td>\n",
              "      <td id=\"T_aa301_row12_col21\" class=\"data row12 col21\" >35</td>\n",
              "      <td id=\"T_aa301_row12_col22\" class=\"data row12 col22\" >0</td>\n",
              "      <td id=\"T_aa301_row12_col23\" class=\"data row12 col23\" >0</td>\n",
              "      <td id=\"T_aa301_row12_col24\" class=\"data row12 col24\" >0</td>\n",
              "      <td id=\"T_aa301_row12_col25\" class=\"data row12 col25\" >0</td>\n",
              "      <td id=\"T_aa301_row12_col26\" class=\"data row12 col26\" >0</td>\n",
              "      <td id=\"T_aa301_row12_col27\" class=\"data row12 col27\" >0</td>\n",
              "    </tr>\n",
              "    <tr>\n",
              "      <th id=\"T_aa301_level0_row13\" class=\"row_heading level0 row13\" >13</th>\n",
              "      <td id=\"T_aa301_row13_col0\" class=\"data row13 col0\" >0</td>\n",
              "      <td id=\"T_aa301_row13_col1\" class=\"data row13 col1\" >0</td>\n",
              "      <td id=\"T_aa301_row13_col2\" class=\"data row13 col2\" >0</td>\n",
              "      <td id=\"T_aa301_row13_col3\" class=\"data row13 col3\" >0</td>\n",
              "      <td id=\"T_aa301_row13_col4\" class=\"data row13 col4\" >0</td>\n",
              "      <td id=\"T_aa301_row13_col5\" class=\"data row13 col5\" >0</td>\n",
              "      <td id=\"T_aa301_row13_col6\" class=\"data row13 col6\" >150</td>\n",
              "      <td id=\"T_aa301_row13_col7\" class=\"data row13 col7\" >254</td>\n",
              "      <td id=\"T_aa301_row13_col8\" class=\"data row13 col8\" >254</td>\n",
              "      <td id=\"T_aa301_row13_col9\" class=\"data row13 col9\" >181</td>\n",
              "      <td id=\"T_aa301_row13_col10\" class=\"data row13 col10\" >77</td>\n",
              "      <td id=\"T_aa301_row13_col11\" class=\"data row13 col11\" >77</td>\n",
              "      <td id=\"T_aa301_row13_col12\" class=\"data row13 col12\" >48</td>\n",
              "      <td id=\"T_aa301_row13_col13\" class=\"data row13 col13\" >0</td>\n",
              "      <td id=\"T_aa301_row13_col14\" class=\"data row13 col14\" >0</td>\n",
              "      <td id=\"T_aa301_row13_col15\" class=\"data row13 col15\" >0</td>\n",
              "      <td id=\"T_aa301_row13_col16\" class=\"data row13 col16\" >128</td>\n",
              "      <td id=\"T_aa301_row13_col17\" class=\"data row13 col17\" >254</td>\n",
              "      <td id=\"T_aa301_row13_col18\" class=\"data row13 col18\" >254</td>\n",
              "      <td id=\"T_aa301_row13_col19\" class=\"data row13 col19\" >253</td>\n",
              "      <td id=\"T_aa301_row13_col20\" class=\"data row13 col20\" >57</td>\n",
              "      <td id=\"T_aa301_row13_col21\" class=\"data row13 col21\" >0</td>\n",
              "      <td id=\"T_aa301_row13_col22\" class=\"data row13 col22\" >0</td>\n",
              "      <td id=\"T_aa301_row13_col23\" class=\"data row13 col23\" >0</td>\n",
              "      <td id=\"T_aa301_row13_col24\" class=\"data row13 col24\" >0</td>\n",
              "      <td id=\"T_aa301_row13_col25\" class=\"data row13 col25\" >0</td>\n",
              "      <td id=\"T_aa301_row13_col26\" class=\"data row13 col26\" >0</td>\n",
              "      <td id=\"T_aa301_row13_col27\" class=\"data row13 col27\" >0</td>\n",
              "    </tr>\n",
              "    <tr>\n",
              "      <th id=\"T_aa301_level0_row14\" class=\"row_heading level0 row14\" >14</th>\n",
              "      <td id=\"T_aa301_row14_col0\" class=\"data row14 col0\" >0</td>\n",
              "      <td id=\"T_aa301_row14_col1\" class=\"data row14 col1\" >0</td>\n",
              "      <td id=\"T_aa301_row14_col2\" class=\"data row14 col2\" >0</td>\n",
              "      <td id=\"T_aa301_row14_col3\" class=\"data row14 col3\" >0</td>\n",
              "      <td id=\"T_aa301_row14_col4\" class=\"data row14 col4\" >0</td>\n",
              "      <td id=\"T_aa301_row14_col5\" class=\"data row14 col5\" >0</td>\n",
              "      <td id=\"T_aa301_row14_col6\" class=\"data row14 col6\" >14</td>\n",
              "      <td id=\"T_aa301_row14_col7\" class=\"data row14 col7\" >157</td>\n",
              "      <td id=\"T_aa301_row14_col8\" class=\"data row14 col8\" >195</td>\n",
              "      <td id=\"T_aa301_row14_col9\" class=\"data row14 col9\" >29</td>\n",
              "      <td id=\"T_aa301_row14_col10\" class=\"data row14 col10\" >0</td>\n",
              "      <td id=\"T_aa301_row14_col11\" class=\"data row14 col11\" >0</td>\n",
              "      <td id=\"T_aa301_row14_col12\" class=\"data row14 col12\" >0</td>\n",
              "      <td id=\"T_aa301_row14_col13\" class=\"data row14 col13\" >0</td>\n",
              "      <td id=\"T_aa301_row14_col14\" class=\"data row14 col14\" >0</td>\n",
              "      <td id=\"T_aa301_row14_col15\" class=\"data row14 col15\" >75</td>\n",
              "      <td id=\"T_aa301_row14_col16\" class=\"data row14 col16\" >248</td>\n",
              "      <td id=\"T_aa301_row14_col17\" class=\"data row14 col17\" >254</td>\n",
              "      <td id=\"T_aa301_row14_col18\" class=\"data row14 col18\" >254</td>\n",
              "      <td id=\"T_aa301_row14_col19\" class=\"data row14 col19\" >139</td>\n",
              "      <td id=\"T_aa301_row14_col20\" class=\"data row14 col20\" >0</td>\n",
              "      <td id=\"T_aa301_row14_col21\" class=\"data row14 col21\" >0</td>\n",
              "      <td id=\"T_aa301_row14_col22\" class=\"data row14 col22\" >0</td>\n",
              "      <td id=\"T_aa301_row14_col23\" class=\"data row14 col23\" >0</td>\n",
              "      <td id=\"T_aa301_row14_col24\" class=\"data row14 col24\" >0</td>\n",
              "      <td id=\"T_aa301_row14_col25\" class=\"data row14 col25\" >0</td>\n",
              "      <td id=\"T_aa301_row14_col26\" class=\"data row14 col26\" >0</td>\n",
              "      <td id=\"T_aa301_row14_col27\" class=\"data row14 col27\" >0</td>\n",
              "    </tr>\n",
              "    <tr>\n",
              "      <th id=\"T_aa301_level0_row15\" class=\"row_heading level0 row15\" >15</th>\n",
              "      <td id=\"T_aa301_row15_col0\" class=\"data row15 col0\" >0</td>\n",
              "      <td id=\"T_aa301_row15_col1\" class=\"data row15 col1\" >0</td>\n",
              "      <td id=\"T_aa301_row15_col2\" class=\"data row15 col2\" >0</td>\n",
              "      <td id=\"T_aa301_row15_col3\" class=\"data row15 col3\" >0</td>\n",
              "      <td id=\"T_aa301_row15_col4\" class=\"data row15 col4\" >0</td>\n",
              "      <td id=\"T_aa301_row15_col5\" class=\"data row15 col5\" >0</td>\n",
              "      <td id=\"T_aa301_row15_col6\" class=\"data row15 col6\" >0</td>\n",
              "      <td id=\"T_aa301_row15_col7\" class=\"data row15 col7\" >0</td>\n",
              "      <td id=\"T_aa301_row15_col8\" class=\"data row15 col8\" >0</td>\n",
              "      <td id=\"T_aa301_row15_col9\" class=\"data row15 col9\" >0</td>\n",
              "      <td id=\"T_aa301_row15_col10\" class=\"data row15 col10\" >0</td>\n",
              "      <td id=\"T_aa301_row15_col11\" class=\"data row15 col11\" >0</td>\n",
              "      <td id=\"T_aa301_row15_col12\" class=\"data row15 col12\" >0</td>\n",
              "      <td id=\"T_aa301_row15_col13\" class=\"data row15 col13\" >0</td>\n",
              "      <td id=\"T_aa301_row15_col14\" class=\"data row15 col14\" >59</td>\n",
              "      <td id=\"T_aa301_row15_col15\" class=\"data row15 col15\" >217</td>\n",
              "      <td id=\"T_aa301_row15_col16\" class=\"data row15 col16\" >254</td>\n",
              "      <td id=\"T_aa301_row15_col17\" class=\"data row15 col17\" >254</td>\n",
              "      <td id=\"T_aa301_row15_col18\" class=\"data row15 col18\" >170</td>\n",
              "      <td id=\"T_aa301_row15_col19\" class=\"data row15 col19\" >15</td>\n",
              "      <td id=\"T_aa301_row15_col20\" class=\"data row15 col20\" >0</td>\n",
              "      <td id=\"T_aa301_row15_col21\" class=\"data row15 col21\" >0</td>\n",
              "      <td id=\"T_aa301_row15_col22\" class=\"data row15 col22\" >0</td>\n",
              "      <td id=\"T_aa301_row15_col23\" class=\"data row15 col23\" >0</td>\n",
              "      <td id=\"T_aa301_row15_col24\" class=\"data row15 col24\" >0</td>\n",
              "      <td id=\"T_aa301_row15_col25\" class=\"data row15 col25\" >0</td>\n",
              "      <td id=\"T_aa301_row15_col26\" class=\"data row15 col26\" >0</td>\n",
              "      <td id=\"T_aa301_row15_col27\" class=\"data row15 col27\" >0</td>\n",
              "    </tr>\n",
              "    <tr>\n",
              "      <th id=\"T_aa301_level0_row16\" class=\"row_heading level0 row16\" >16</th>\n",
              "      <td id=\"T_aa301_row16_col0\" class=\"data row16 col0\" >0</td>\n",
              "      <td id=\"T_aa301_row16_col1\" class=\"data row16 col1\" >0</td>\n",
              "      <td id=\"T_aa301_row16_col2\" class=\"data row16 col2\" >0</td>\n",
              "      <td id=\"T_aa301_row16_col3\" class=\"data row16 col3\" >0</td>\n",
              "      <td id=\"T_aa301_row16_col4\" class=\"data row16 col4\" >0</td>\n",
              "      <td id=\"T_aa301_row16_col5\" class=\"data row16 col5\" >0</td>\n",
              "      <td id=\"T_aa301_row16_col6\" class=\"data row16 col6\" >0</td>\n",
              "      <td id=\"T_aa301_row16_col7\" class=\"data row16 col7\" >0</td>\n",
              "      <td id=\"T_aa301_row16_col8\" class=\"data row16 col8\" >0</td>\n",
              "      <td id=\"T_aa301_row16_col9\" class=\"data row16 col9\" >0</td>\n",
              "      <td id=\"T_aa301_row16_col10\" class=\"data row16 col10\" >0</td>\n",
              "      <td id=\"T_aa301_row16_col11\" class=\"data row16 col11\" >0</td>\n",
              "      <td id=\"T_aa301_row16_col12\" class=\"data row16 col12\" >0</td>\n",
              "      <td id=\"T_aa301_row16_col13\" class=\"data row16 col13\" >15</td>\n",
              "      <td id=\"T_aa301_row16_col14\" class=\"data row16 col14\" >217</td>\n",
              "      <td id=\"T_aa301_row16_col15\" class=\"data row16 col15\" >254</td>\n",
              "      <td id=\"T_aa301_row16_col16\" class=\"data row16 col16\" >254</td>\n",
              "      <td id=\"T_aa301_row16_col17\" class=\"data row16 col17\" >214</td>\n",
              "      <td id=\"T_aa301_row16_col18\" class=\"data row16 col18\" >15</td>\n",
              "      <td id=\"T_aa301_row16_col19\" class=\"data row16 col19\" >0</td>\n",
              "      <td id=\"T_aa301_row16_col20\" class=\"data row16 col20\" >0</td>\n",
              "      <td id=\"T_aa301_row16_col21\" class=\"data row16 col21\" >0</td>\n",
              "      <td id=\"T_aa301_row16_col22\" class=\"data row16 col22\" >0</td>\n",
              "      <td id=\"T_aa301_row16_col23\" class=\"data row16 col23\" >0</td>\n",
              "      <td id=\"T_aa301_row16_col24\" class=\"data row16 col24\" >0</td>\n",
              "      <td id=\"T_aa301_row16_col25\" class=\"data row16 col25\" >0</td>\n",
              "      <td id=\"T_aa301_row16_col26\" class=\"data row16 col26\" >0</td>\n",
              "      <td id=\"T_aa301_row16_col27\" class=\"data row16 col27\" >0</td>\n",
              "    </tr>\n",
              "    <tr>\n",
              "      <th id=\"T_aa301_level0_row17\" class=\"row_heading level0 row17\" >17</th>\n",
              "      <td id=\"T_aa301_row17_col0\" class=\"data row17 col0\" >0</td>\n",
              "      <td id=\"T_aa301_row17_col1\" class=\"data row17 col1\" >0</td>\n",
              "      <td id=\"T_aa301_row17_col2\" class=\"data row17 col2\" >0</td>\n",
              "      <td id=\"T_aa301_row17_col3\" class=\"data row17 col3\" >0</td>\n",
              "      <td id=\"T_aa301_row17_col4\" class=\"data row17 col4\" >0</td>\n",
              "      <td id=\"T_aa301_row17_col5\" class=\"data row17 col5\" >0</td>\n",
              "      <td id=\"T_aa301_row17_col6\" class=\"data row17 col6\" >0</td>\n",
              "      <td id=\"T_aa301_row17_col7\" class=\"data row17 col7\" >0</td>\n",
              "      <td id=\"T_aa301_row17_col8\" class=\"data row17 col8\" >0</td>\n",
              "      <td id=\"T_aa301_row17_col9\" class=\"data row17 col9\" >0</td>\n",
              "      <td id=\"T_aa301_row17_col10\" class=\"data row17 col10\" >0</td>\n",
              "      <td id=\"T_aa301_row17_col11\" class=\"data row17 col11\" >0</td>\n",
              "      <td id=\"T_aa301_row17_col12\" class=\"data row17 col12\" >5</td>\n",
              "      <td id=\"T_aa301_row17_col13\" class=\"data row17 col13\" >113</td>\n",
              "      <td id=\"T_aa301_row17_col14\" class=\"data row17 col14\" >254</td>\n",
              "      <td id=\"T_aa301_row17_col15\" class=\"data row17 col15\" >254</td>\n",
              "      <td id=\"T_aa301_row17_col16\" class=\"data row17 col16\" >238</td>\n",
              "      <td id=\"T_aa301_row17_col17\" class=\"data row17 col17\" >55</td>\n",
              "      <td id=\"T_aa301_row17_col18\" class=\"data row17 col18\" >0</td>\n",
              "      <td id=\"T_aa301_row17_col19\" class=\"data row17 col19\" >0</td>\n",
              "      <td id=\"T_aa301_row17_col20\" class=\"data row17 col20\" >0</td>\n",
              "      <td id=\"T_aa301_row17_col21\" class=\"data row17 col21\" >0</td>\n",
              "      <td id=\"T_aa301_row17_col22\" class=\"data row17 col22\" >0</td>\n",
              "      <td id=\"T_aa301_row17_col23\" class=\"data row17 col23\" >0</td>\n",
              "      <td id=\"T_aa301_row17_col24\" class=\"data row17 col24\" >0</td>\n",
              "      <td id=\"T_aa301_row17_col25\" class=\"data row17 col25\" >0</td>\n",
              "      <td id=\"T_aa301_row17_col26\" class=\"data row17 col26\" >0</td>\n",
              "      <td id=\"T_aa301_row17_col27\" class=\"data row17 col27\" >0</td>\n",
              "    </tr>\n",
              "    <tr>\n",
              "      <th id=\"T_aa301_level0_row18\" class=\"row_heading level0 row18\" >18</th>\n",
              "      <td id=\"T_aa301_row18_col0\" class=\"data row18 col0\" >0</td>\n",
              "      <td id=\"T_aa301_row18_col1\" class=\"data row18 col1\" >0</td>\n",
              "      <td id=\"T_aa301_row18_col2\" class=\"data row18 col2\" >0</td>\n",
              "      <td id=\"T_aa301_row18_col3\" class=\"data row18 col3\" >0</td>\n",
              "      <td id=\"T_aa301_row18_col4\" class=\"data row18 col4\" >0</td>\n",
              "      <td id=\"T_aa301_row18_col5\" class=\"data row18 col5\" >0</td>\n",
              "      <td id=\"T_aa301_row18_col6\" class=\"data row18 col6\" >0</td>\n",
              "      <td id=\"T_aa301_row18_col7\" class=\"data row18 col7\" >0</td>\n",
              "      <td id=\"T_aa301_row18_col8\" class=\"data row18 col8\" >0</td>\n",
              "      <td id=\"T_aa301_row18_col9\" class=\"data row18 col9\" >0</td>\n",
              "      <td id=\"T_aa301_row18_col10\" class=\"data row18 col10\" >0</td>\n",
              "      <td id=\"T_aa301_row18_col11\" class=\"data row18 col11\" >2</td>\n",
              "      <td id=\"T_aa301_row18_col12\" class=\"data row18 col12\" >89</td>\n",
              "      <td id=\"T_aa301_row18_col13\" class=\"data row18 col13\" >254</td>\n",
              "      <td id=\"T_aa301_row18_col14\" class=\"data row18 col14\" >254</td>\n",
              "      <td id=\"T_aa301_row18_col15\" class=\"data row18 col15\" >239</td>\n",
              "      <td id=\"T_aa301_row18_col16\" class=\"data row18 col16\" >81</td>\n",
              "      <td id=\"T_aa301_row18_col17\" class=\"data row18 col17\" >0</td>\n",
              "      <td id=\"T_aa301_row18_col18\" class=\"data row18 col18\" >0</td>\n",
              "      <td id=\"T_aa301_row18_col19\" class=\"data row18 col19\" >0</td>\n",
              "      <td id=\"T_aa301_row18_col20\" class=\"data row18 col20\" >0</td>\n",
              "      <td id=\"T_aa301_row18_col21\" class=\"data row18 col21\" >0</td>\n",
              "      <td id=\"T_aa301_row18_col22\" class=\"data row18 col22\" >0</td>\n",
              "      <td id=\"T_aa301_row18_col23\" class=\"data row18 col23\" >0</td>\n",
              "      <td id=\"T_aa301_row18_col24\" class=\"data row18 col24\" >0</td>\n",
              "      <td id=\"T_aa301_row18_col25\" class=\"data row18 col25\" >0</td>\n",
              "      <td id=\"T_aa301_row18_col26\" class=\"data row18 col26\" >0</td>\n",
              "      <td id=\"T_aa301_row18_col27\" class=\"data row18 col27\" >0</td>\n",
              "    </tr>\n",
              "    <tr>\n",
              "      <th id=\"T_aa301_level0_row19\" class=\"row_heading level0 row19\" >19</th>\n",
              "      <td id=\"T_aa301_row19_col0\" class=\"data row19 col0\" >0</td>\n",
              "      <td id=\"T_aa301_row19_col1\" class=\"data row19 col1\" >0</td>\n",
              "      <td id=\"T_aa301_row19_col2\" class=\"data row19 col2\" >0</td>\n",
              "      <td id=\"T_aa301_row19_col3\" class=\"data row19 col3\" >0</td>\n",
              "      <td id=\"T_aa301_row19_col4\" class=\"data row19 col4\" >0</td>\n",
              "      <td id=\"T_aa301_row19_col5\" class=\"data row19 col5\" >0</td>\n",
              "      <td id=\"T_aa301_row19_col6\" class=\"data row19 col6\" >0</td>\n",
              "      <td id=\"T_aa301_row19_col7\" class=\"data row19 col7\" >0</td>\n",
              "      <td id=\"T_aa301_row19_col8\" class=\"data row19 col8\" >0</td>\n",
              "      <td id=\"T_aa301_row19_col9\" class=\"data row19 col9\" >0</td>\n",
              "      <td id=\"T_aa301_row19_col10\" class=\"data row19 col10\" >0</td>\n",
              "      <td id=\"T_aa301_row19_col11\" class=\"data row19 col11\" >141</td>\n",
              "      <td id=\"T_aa301_row19_col12\" class=\"data row19 col12\" >254</td>\n",
              "      <td id=\"T_aa301_row19_col13\" class=\"data row19 col13\" >254</td>\n",
              "      <td id=\"T_aa301_row19_col14\" class=\"data row19 col14\" >240</td>\n",
              "      <td id=\"T_aa301_row19_col15\" class=\"data row19 col15\" >106</td>\n",
              "      <td id=\"T_aa301_row19_col16\" class=\"data row19 col16\" >0</td>\n",
              "      <td id=\"T_aa301_row19_col17\" class=\"data row19 col17\" >0</td>\n",
              "      <td id=\"T_aa301_row19_col18\" class=\"data row19 col18\" >0</td>\n",
              "      <td id=\"T_aa301_row19_col19\" class=\"data row19 col19\" >0</td>\n",
              "      <td id=\"T_aa301_row19_col20\" class=\"data row19 col20\" >0</td>\n",
              "      <td id=\"T_aa301_row19_col21\" class=\"data row19 col21\" >0</td>\n",
              "      <td id=\"T_aa301_row19_col22\" class=\"data row19 col22\" >0</td>\n",
              "      <td id=\"T_aa301_row19_col23\" class=\"data row19 col23\" >0</td>\n",
              "      <td id=\"T_aa301_row19_col24\" class=\"data row19 col24\" >0</td>\n",
              "      <td id=\"T_aa301_row19_col25\" class=\"data row19 col25\" >0</td>\n",
              "      <td id=\"T_aa301_row19_col26\" class=\"data row19 col26\" >0</td>\n",
              "      <td id=\"T_aa301_row19_col27\" class=\"data row19 col27\" >0</td>\n",
              "    </tr>\n",
              "    <tr>\n",
              "      <th id=\"T_aa301_level0_row20\" class=\"row_heading level0 row20\" >20</th>\n",
              "      <td id=\"T_aa301_row20_col0\" class=\"data row20 col0\" >0</td>\n",
              "      <td id=\"T_aa301_row20_col1\" class=\"data row20 col1\" >0</td>\n",
              "      <td id=\"T_aa301_row20_col2\" class=\"data row20 col2\" >0</td>\n",
              "      <td id=\"T_aa301_row20_col3\" class=\"data row20 col3\" >0</td>\n",
              "      <td id=\"T_aa301_row20_col4\" class=\"data row20 col4\" >0</td>\n",
              "      <td id=\"T_aa301_row20_col5\" class=\"data row20 col5\" >0</td>\n",
              "      <td id=\"T_aa301_row20_col6\" class=\"data row20 col6\" >0</td>\n",
              "      <td id=\"T_aa301_row20_col7\" class=\"data row20 col7\" >0</td>\n",
              "      <td id=\"T_aa301_row20_col8\" class=\"data row20 col8\" >0</td>\n",
              "      <td id=\"T_aa301_row20_col9\" class=\"data row20 col9\" >0</td>\n",
              "      <td id=\"T_aa301_row20_col10\" class=\"data row20 col10\" >66</td>\n",
              "      <td id=\"T_aa301_row20_col11\" class=\"data row20 col11\" >252</td>\n",
              "      <td id=\"T_aa301_row20_col12\" class=\"data row20 col12\" >254</td>\n",
              "      <td id=\"T_aa301_row20_col13\" class=\"data row20 col13\" >252</td>\n",
              "      <td id=\"T_aa301_row20_col14\" class=\"data row20 col14\" >145</td>\n",
              "      <td id=\"T_aa301_row20_col15\" class=\"data row20 col15\" >0</td>\n",
              "      <td id=\"T_aa301_row20_col16\" class=\"data row20 col16\" >0</td>\n",
              "      <td id=\"T_aa301_row20_col17\" class=\"data row20 col17\" >0</td>\n",
              "      <td id=\"T_aa301_row20_col18\" class=\"data row20 col18\" >0</td>\n",
              "      <td id=\"T_aa301_row20_col19\" class=\"data row20 col19\" >0</td>\n",
              "      <td id=\"T_aa301_row20_col20\" class=\"data row20 col20\" >0</td>\n",
              "      <td id=\"T_aa301_row20_col21\" class=\"data row20 col21\" >0</td>\n",
              "      <td id=\"T_aa301_row20_col22\" class=\"data row20 col22\" >0</td>\n",
              "      <td id=\"T_aa301_row20_col23\" class=\"data row20 col23\" >0</td>\n",
              "      <td id=\"T_aa301_row20_col24\" class=\"data row20 col24\" >0</td>\n",
              "      <td id=\"T_aa301_row20_col25\" class=\"data row20 col25\" >0</td>\n",
              "      <td id=\"T_aa301_row20_col26\" class=\"data row20 col26\" >0</td>\n",
              "      <td id=\"T_aa301_row20_col27\" class=\"data row20 col27\" >0</td>\n",
              "    </tr>\n",
              "    <tr>\n",
              "      <th id=\"T_aa301_level0_row21\" class=\"row_heading level0 row21\" >21</th>\n",
              "      <td id=\"T_aa301_row21_col0\" class=\"data row21 col0\" >0</td>\n",
              "      <td id=\"T_aa301_row21_col1\" class=\"data row21 col1\" >0</td>\n",
              "      <td id=\"T_aa301_row21_col2\" class=\"data row21 col2\" >0</td>\n",
              "      <td id=\"T_aa301_row21_col3\" class=\"data row21 col3\" >0</td>\n",
              "      <td id=\"T_aa301_row21_col4\" class=\"data row21 col4\" >0</td>\n",
              "      <td id=\"T_aa301_row21_col5\" class=\"data row21 col5\" >0</td>\n",
              "      <td id=\"T_aa301_row21_col6\" class=\"data row21 col6\" >0</td>\n",
              "      <td id=\"T_aa301_row21_col7\" class=\"data row21 col7\" >0</td>\n",
              "      <td id=\"T_aa301_row21_col8\" class=\"data row21 col8\" >0</td>\n",
              "      <td id=\"T_aa301_row21_col9\" class=\"data row21 col9\" >68</td>\n",
              "      <td id=\"T_aa301_row21_col10\" class=\"data row21 col10\" >250</td>\n",
              "      <td id=\"T_aa301_row21_col11\" class=\"data row21 col11\" >254</td>\n",
              "      <td id=\"T_aa301_row21_col12\" class=\"data row21 col12\" >252</td>\n",
              "      <td id=\"T_aa301_row21_col13\" class=\"data row21 col13\" >171</td>\n",
              "      <td id=\"T_aa301_row21_col14\" class=\"data row21 col14\" >0</td>\n",
              "      <td id=\"T_aa301_row21_col15\" class=\"data row21 col15\" >0</td>\n",
              "      <td id=\"T_aa301_row21_col16\" class=\"data row21 col16\" >0</td>\n",
              "      <td id=\"T_aa301_row21_col17\" class=\"data row21 col17\" >0</td>\n",
              "      <td id=\"T_aa301_row21_col18\" class=\"data row21 col18\" >0</td>\n",
              "      <td id=\"T_aa301_row21_col19\" class=\"data row21 col19\" >0</td>\n",
              "      <td id=\"T_aa301_row21_col20\" class=\"data row21 col20\" >0</td>\n",
              "      <td id=\"T_aa301_row21_col21\" class=\"data row21 col21\" >0</td>\n",
              "      <td id=\"T_aa301_row21_col22\" class=\"data row21 col22\" >0</td>\n",
              "      <td id=\"T_aa301_row21_col23\" class=\"data row21 col23\" >0</td>\n",
              "      <td id=\"T_aa301_row21_col24\" class=\"data row21 col24\" >0</td>\n",
              "      <td id=\"T_aa301_row21_col25\" class=\"data row21 col25\" >0</td>\n",
              "      <td id=\"T_aa301_row21_col26\" class=\"data row21 col26\" >0</td>\n",
              "      <td id=\"T_aa301_row21_col27\" class=\"data row21 col27\" >0</td>\n",
              "    </tr>\n",
              "    <tr>\n",
              "      <th id=\"T_aa301_level0_row22\" class=\"row_heading level0 row22\" >22</th>\n",
              "      <td id=\"T_aa301_row22_col0\" class=\"data row22 col0\" >0</td>\n",
              "      <td id=\"T_aa301_row22_col1\" class=\"data row22 col1\" >0</td>\n",
              "      <td id=\"T_aa301_row22_col2\" class=\"data row22 col2\" >0</td>\n",
              "      <td id=\"T_aa301_row22_col3\" class=\"data row22 col3\" >0</td>\n",
              "      <td id=\"T_aa301_row22_col4\" class=\"data row22 col4\" >0</td>\n",
              "      <td id=\"T_aa301_row22_col5\" class=\"data row22 col5\" >0</td>\n",
              "      <td id=\"T_aa301_row22_col6\" class=\"data row22 col6\" >0</td>\n",
              "      <td id=\"T_aa301_row22_col7\" class=\"data row22 col7\" >0</td>\n",
              "      <td id=\"T_aa301_row22_col8\" class=\"data row22 col8\" >54</td>\n",
              "      <td id=\"T_aa301_row22_col9\" class=\"data row22 col9\" >249</td>\n",
              "      <td id=\"T_aa301_row22_col10\" class=\"data row22 col10\" >254</td>\n",
              "      <td id=\"T_aa301_row22_col11\" class=\"data row22 col11\" >254</td>\n",
              "      <td id=\"T_aa301_row22_col12\" class=\"data row22 col12\" >210</td>\n",
              "      <td id=\"T_aa301_row22_col13\" class=\"data row22 col13\" >0</td>\n",
              "      <td id=\"T_aa301_row22_col14\" class=\"data row22 col14\" >0</td>\n",
              "      <td id=\"T_aa301_row22_col15\" class=\"data row22 col15\" >0</td>\n",
              "      <td id=\"T_aa301_row22_col16\" class=\"data row22 col16\" >0</td>\n",
              "      <td id=\"T_aa301_row22_col17\" class=\"data row22 col17\" >0</td>\n",
              "      <td id=\"T_aa301_row22_col18\" class=\"data row22 col18\" >0</td>\n",
              "      <td id=\"T_aa301_row22_col19\" class=\"data row22 col19\" >0</td>\n",
              "      <td id=\"T_aa301_row22_col20\" class=\"data row22 col20\" >0</td>\n",
              "      <td id=\"T_aa301_row22_col21\" class=\"data row22 col21\" >0</td>\n",
              "      <td id=\"T_aa301_row22_col22\" class=\"data row22 col22\" >0</td>\n",
              "      <td id=\"T_aa301_row22_col23\" class=\"data row22 col23\" >0</td>\n",
              "      <td id=\"T_aa301_row22_col24\" class=\"data row22 col24\" >0</td>\n",
              "      <td id=\"T_aa301_row22_col25\" class=\"data row22 col25\" >0</td>\n",
              "      <td id=\"T_aa301_row22_col26\" class=\"data row22 col26\" >0</td>\n",
              "      <td id=\"T_aa301_row22_col27\" class=\"data row22 col27\" >0</td>\n",
              "    </tr>\n",
              "    <tr>\n",
              "      <th id=\"T_aa301_level0_row23\" class=\"row_heading level0 row23\" >23</th>\n",
              "      <td id=\"T_aa301_row23_col0\" class=\"data row23 col0\" >0</td>\n",
              "      <td id=\"T_aa301_row23_col1\" class=\"data row23 col1\" >0</td>\n",
              "      <td id=\"T_aa301_row23_col2\" class=\"data row23 col2\" >0</td>\n",
              "      <td id=\"T_aa301_row23_col3\" class=\"data row23 col3\" >0</td>\n",
              "      <td id=\"T_aa301_row23_col4\" class=\"data row23 col4\" >0</td>\n",
              "      <td id=\"T_aa301_row23_col5\" class=\"data row23 col5\" >0</td>\n",
              "      <td id=\"T_aa301_row23_col6\" class=\"data row23 col6\" >0</td>\n",
              "      <td id=\"T_aa301_row23_col7\" class=\"data row23 col7\" >56</td>\n",
              "      <td id=\"T_aa301_row23_col8\" class=\"data row23 col8\" >223</td>\n",
              "      <td id=\"T_aa301_row23_col9\" class=\"data row23 col9\" >254</td>\n",
              "      <td id=\"T_aa301_row23_col10\" class=\"data row23 col10\" >254</td>\n",
              "      <td id=\"T_aa301_row23_col11\" class=\"data row23 col11\" >189</td>\n",
              "      <td id=\"T_aa301_row23_col12\" class=\"data row23 col12\" >11</td>\n",
              "      <td id=\"T_aa301_row23_col13\" class=\"data row23 col13\" >0</td>\n",
              "      <td id=\"T_aa301_row23_col14\" class=\"data row23 col14\" >0</td>\n",
              "      <td id=\"T_aa301_row23_col15\" class=\"data row23 col15\" >0</td>\n",
              "      <td id=\"T_aa301_row23_col16\" class=\"data row23 col16\" >0</td>\n",
              "      <td id=\"T_aa301_row23_col17\" class=\"data row23 col17\" >0</td>\n",
              "      <td id=\"T_aa301_row23_col18\" class=\"data row23 col18\" >0</td>\n",
              "      <td id=\"T_aa301_row23_col19\" class=\"data row23 col19\" >0</td>\n",
              "      <td id=\"T_aa301_row23_col20\" class=\"data row23 col20\" >0</td>\n",
              "      <td id=\"T_aa301_row23_col21\" class=\"data row23 col21\" >0</td>\n",
              "      <td id=\"T_aa301_row23_col22\" class=\"data row23 col22\" >0</td>\n",
              "      <td id=\"T_aa301_row23_col23\" class=\"data row23 col23\" >0</td>\n",
              "      <td id=\"T_aa301_row23_col24\" class=\"data row23 col24\" >0</td>\n",
              "      <td id=\"T_aa301_row23_col25\" class=\"data row23 col25\" >0</td>\n",
              "      <td id=\"T_aa301_row23_col26\" class=\"data row23 col26\" >0</td>\n",
              "      <td id=\"T_aa301_row23_col27\" class=\"data row23 col27\" >0</td>\n",
              "    </tr>\n",
              "    <tr>\n",
              "      <th id=\"T_aa301_level0_row24\" class=\"row_heading level0 row24\" >24</th>\n",
              "      <td id=\"T_aa301_row24_col0\" class=\"data row24 col0\" >0</td>\n",
              "      <td id=\"T_aa301_row24_col1\" class=\"data row24 col1\" >0</td>\n",
              "      <td id=\"T_aa301_row24_col2\" class=\"data row24 col2\" >0</td>\n",
              "      <td id=\"T_aa301_row24_col3\" class=\"data row24 col3\" >0</td>\n",
              "      <td id=\"T_aa301_row24_col4\" class=\"data row24 col4\" >0</td>\n",
              "      <td id=\"T_aa301_row24_col5\" class=\"data row24 col5\" >0</td>\n",
              "      <td id=\"T_aa301_row24_col6\" class=\"data row24 col6\" >63</td>\n",
              "      <td id=\"T_aa301_row24_col7\" class=\"data row24 col7\" >231</td>\n",
              "      <td id=\"T_aa301_row24_col8\" class=\"data row24 col8\" >254</td>\n",
              "      <td id=\"T_aa301_row24_col9\" class=\"data row24 col9\" >254</td>\n",
              "      <td id=\"T_aa301_row24_col10\" class=\"data row24 col10\" >211</td>\n",
              "      <td id=\"T_aa301_row24_col11\" class=\"data row24 col11\" >11</td>\n",
              "      <td id=\"T_aa301_row24_col12\" class=\"data row24 col12\" >0</td>\n",
              "      <td id=\"T_aa301_row24_col13\" class=\"data row24 col13\" >0</td>\n",
              "      <td id=\"T_aa301_row24_col14\" class=\"data row24 col14\" >0</td>\n",
              "      <td id=\"T_aa301_row24_col15\" class=\"data row24 col15\" >0</td>\n",
              "      <td id=\"T_aa301_row24_col16\" class=\"data row24 col16\" >0</td>\n",
              "      <td id=\"T_aa301_row24_col17\" class=\"data row24 col17\" >0</td>\n",
              "      <td id=\"T_aa301_row24_col18\" class=\"data row24 col18\" >0</td>\n",
              "      <td id=\"T_aa301_row24_col19\" class=\"data row24 col19\" >0</td>\n",
              "      <td id=\"T_aa301_row24_col20\" class=\"data row24 col20\" >0</td>\n",
              "      <td id=\"T_aa301_row24_col21\" class=\"data row24 col21\" >0</td>\n",
              "      <td id=\"T_aa301_row24_col22\" class=\"data row24 col22\" >0</td>\n",
              "      <td id=\"T_aa301_row24_col23\" class=\"data row24 col23\" >0</td>\n",
              "      <td id=\"T_aa301_row24_col24\" class=\"data row24 col24\" >0</td>\n",
              "      <td id=\"T_aa301_row24_col25\" class=\"data row24 col25\" >0</td>\n",
              "      <td id=\"T_aa301_row24_col26\" class=\"data row24 col26\" >0</td>\n",
              "      <td id=\"T_aa301_row24_col27\" class=\"data row24 col27\" >0</td>\n",
              "    </tr>\n",
              "    <tr>\n",
              "      <th id=\"T_aa301_level0_row25\" class=\"row_heading level0 row25\" >25</th>\n",
              "      <td id=\"T_aa301_row25_col0\" class=\"data row25 col0\" >0</td>\n",
              "      <td id=\"T_aa301_row25_col1\" class=\"data row25 col1\" >0</td>\n",
              "      <td id=\"T_aa301_row25_col2\" class=\"data row25 col2\" >0</td>\n",
              "      <td id=\"T_aa301_row25_col3\" class=\"data row25 col3\" >0</td>\n",
              "      <td id=\"T_aa301_row25_col4\" class=\"data row25 col4\" >0</td>\n",
              "      <td id=\"T_aa301_row25_col5\" class=\"data row25 col5\" >34</td>\n",
              "      <td id=\"T_aa301_row25_col6\" class=\"data row25 col6\" >226</td>\n",
              "      <td id=\"T_aa301_row25_col7\" class=\"data row25 col7\" >254</td>\n",
              "      <td id=\"T_aa301_row25_col8\" class=\"data row25 col8\" >254</td>\n",
              "      <td id=\"T_aa301_row25_col9\" class=\"data row25 col9\" >209</td>\n",
              "      <td id=\"T_aa301_row25_col10\" class=\"data row25 col10\" >21</td>\n",
              "      <td id=\"T_aa301_row25_col11\" class=\"data row25 col11\" >0</td>\n",
              "      <td id=\"T_aa301_row25_col12\" class=\"data row25 col12\" >0</td>\n",
              "      <td id=\"T_aa301_row25_col13\" class=\"data row25 col13\" >0</td>\n",
              "      <td id=\"T_aa301_row25_col14\" class=\"data row25 col14\" >0</td>\n",
              "      <td id=\"T_aa301_row25_col15\" class=\"data row25 col15\" >0</td>\n",
              "      <td id=\"T_aa301_row25_col16\" class=\"data row25 col16\" >0</td>\n",
              "      <td id=\"T_aa301_row25_col17\" class=\"data row25 col17\" >0</td>\n",
              "      <td id=\"T_aa301_row25_col18\" class=\"data row25 col18\" >0</td>\n",
              "      <td id=\"T_aa301_row25_col19\" class=\"data row25 col19\" >0</td>\n",
              "      <td id=\"T_aa301_row25_col20\" class=\"data row25 col20\" >0</td>\n",
              "      <td id=\"T_aa301_row25_col21\" class=\"data row25 col21\" >0</td>\n",
              "      <td id=\"T_aa301_row25_col22\" class=\"data row25 col22\" >0</td>\n",
              "      <td id=\"T_aa301_row25_col23\" class=\"data row25 col23\" >0</td>\n",
              "      <td id=\"T_aa301_row25_col24\" class=\"data row25 col24\" >0</td>\n",
              "      <td id=\"T_aa301_row25_col25\" class=\"data row25 col25\" >0</td>\n",
              "      <td id=\"T_aa301_row25_col26\" class=\"data row25 col26\" >0</td>\n",
              "      <td id=\"T_aa301_row25_col27\" class=\"data row25 col27\" >0</td>\n",
              "    </tr>\n",
              "    <tr>\n",
              "      <th id=\"T_aa301_level0_row26\" class=\"row_heading level0 row26\" >26</th>\n",
              "      <td id=\"T_aa301_row26_col0\" class=\"data row26 col0\" >0</td>\n",
              "      <td id=\"T_aa301_row26_col1\" class=\"data row26 col1\" >0</td>\n",
              "      <td id=\"T_aa301_row26_col2\" class=\"data row26 col2\" >0</td>\n",
              "      <td id=\"T_aa301_row26_col3\" class=\"data row26 col3\" >0</td>\n",
              "      <td id=\"T_aa301_row26_col4\" class=\"data row26 col4\" >0</td>\n",
              "      <td id=\"T_aa301_row26_col5\" class=\"data row26 col5\" >0</td>\n",
              "      <td id=\"T_aa301_row26_col6\" class=\"data row26 col6\" >0</td>\n",
              "      <td id=\"T_aa301_row26_col7\" class=\"data row26 col7\" >0</td>\n",
              "      <td id=\"T_aa301_row26_col8\" class=\"data row26 col8\" >0</td>\n",
              "      <td id=\"T_aa301_row26_col9\" class=\"data row26 col9\" >0</td>\n",
              "      <td id=\"T_aa301_row26_col10\" class=\"data row26 col10\" >0</td>\n",
              "      <td id=\"T_aa301_row26_col11\" class=\"data row26 col11\" >0</td>\n",
              "      <td id=\"T_aa301_row26_col12\" class=\"data row26 col12\" >0</td>\n",
              "      <td id=\"T_aa301_row26_col13\" class=\"data row26 col13\" >0</td>\n",
              "      <td id=\"T_aa301_row26_col14\" class=\"data row26 col14\" >0</td>\n",
              "      <td id=\"T_aa301_row26_col15\" class=\"data row26 col15\" >0</td>\n",
              "      <td id=\"T_aa301_row26_col16\" class=\"data row26 col16\" >0</td>\n",
              "      <td id=\"T_aa301_row26_col17\" class=\"data row26 col17\" >0</td>\n",
              "      <td id=\"T_aa301_row26_col18\" class=\"data row26 col18\" >0</td>\n",
              "      <td id=\"T_aa301_row26_col19\" class=\"data row26 col19\" >0</td>\n",
              "      <td id=\"T_aa301_row26_col20\" class=\"data row26 col20\" >0</td>\n",
              "      <td id=\"T_aa301_row26_col21\" class=\"data row26 col21\" >0</td>\n",
              "      <td id=\"T_aa301_row26_col22\" class=\"data row26 col22\" >0</td>\n",
              "      <td id=\"T_aa301_row26_col23\" class=\"data row26 col23\" >0</td>\n",
              "      <td id=\"T_aa301_row26_col24\" class=\"data row26 col24\" >0</td>\n",
              "      <td id=\"T_aa301_row26_col25\" class=\"data row26 col25\" >0</td>\n",
              "      <td id=\"T_aa301_row26_col26\" class=\"data row26 col26\" >0</td>\n",
              "      <td id=\"T_aa301_row26_col27\" class=\"data row26 col27\" >0</td>\n",
              "    </tr>\n",
              "    <tr>\n",
              "      <th id=\"T_aa301_level0_row27\" class=\"row_heading level0 row27\" >27</th>\n",
              "      <td id=\"T_aa301_row27_col0\" class=\"data row27 col0\" >0</td>\n",
              "      <td id=\"T_aa301_row27_col1\" class=\"data row27 col1\" >0</td>\n",
              "      <td id=\"T_aa301_row27_col2\" class=\"data row27 col2\" >0</td>\n",
              "      <td id=\"T_aa301_row27_col3\" class=\"data row27 col3\" >0</td>\n",
              "      <td id=\"T_aa301_row27_col4\" class=\"data row27 col4\" >0</td>\n",
              "      <td id=\"T_aa301_row27_col5\" class=\"data row27 col5\" >0</td>\n",
              "      <td id=\"T_aa301_row27_col6\" class=\"data row27 col6\" >0</td>\n",
              "      <td id=\"T_aa301_row27_col7\" class=\"data row27 col7\" >0</td>\n",
              "      <td id=\"T_aa301_row27_col8\" class=\"data row27 col8\" >0</td>\n",
              "      <td id=\"T_aa301_row27_col9\" class=\"data row27 col9\" >0</td>\n",
              "      <td id=\"T_aa301_row27_col10\" class=\"data row27 col10\" >0</td>\n",
              "      <td id=\"T_aa301_row27_col11\" class=\"data row27 col11\" >0</td>\n",
              "      <td id=\"T_aa301_row27_col12\" class=\"data row27 col12\" >0</td>\n",
              "      <td id=\"T_aa301_row27_col13\" class=\"data row27 col13\" >0</td>\n",
              "      <td id=\"T_aa301_row27_col14\" class=\"data row27 col14\" >0</td>\n",
              "      <td id=\"T_aa301_row27_col15\" class=\"data row27 col15\" >0</td>\n",
              "      <td id=\"T_aa301_row27_col16\" class=\"data row27 col16\" >0</td>\n",
              "      <td id=\"T_aa301_row27_col17\" class=\"data row27 col17\" >0</td>\n",
              "      <td id=\"T_aa301_row27_col18\" class=\"data row27 col18\" >0</td>\n",
              "      <td id=\"T_aa301_row27_col19\" class=\"data row27 col19\" >0</td>\n",
              "      <td id=\"T_aa301_row27_col20\" class=\"data row27 col20\" >0</td>\n",
              "      <td id=\"T_aa301_row27_col21\" class=\"data row27 col21\" >0</td>\n",
              "      <td id=\"T_aa301_row27_col22\" class=\"data row27 col22\" >0</td>\n",
              "      <td id=\"T_aa301_row27_col23\" class=\"data row27 col23\" >0</td>\n",
              "      <td id=\"T_aa301_row27_col24\" class=\"data row27 col24\" >0</td>\n",
              "      <td id=\"T_aa301_row27_col25\" class=\"data row27 col25\" >0</td>\n",
              "      <td id=\"T_aa301_row27_col26\" class=\"data row27 col26\" >0</td>\n",
              "      <td id=\"T_aa301_row27_col27\" class=\"data row27 col27\" >0</td>\n",
              "    </tr>\n",
              "  </tbody>\n",
              "</table>\n"
            ]
          },
          "metadata": {},
          "execution_count": 10
        }
      ]
    },
    {
      "cell_type": "code",
      "source": [
        ""
      ],
      "metadata": {
        "id": "D4L-eyLJDndv"
      },
      "execution_count": null,
      "outputs": []
    },
    {
      "cell_type": "markdown",
      "metadata": {
        "id": "_7iHcWk-yLPG"
      },
      "source": [
        "## First Try: Pixel Similarity"
      ]
    },
    {
      "cell_type": "code",
      "source": [
        "three_tensors = [tensor(Image.open(o)) for o in threes]\n",
        "seven_tensors = [tensor(Image.open(o)) for o in sevens]\n",
        "len(three_tensors), len(seven_tensors)"
      ],
      "metadata": {
        "id": "Adre4cvRDujO",
        "outputId": "91f701fb-fab0-4386-ba97-96b76bb8d2ff",
        "colab": {
          "base_uri": "https://localhost:8080/"
        }
      },
      "execution_count": 8,
      "outputs": [
        {
          "output_type": "execute_result",
          "data": {
            "text/plain": [
              "(6131, 6265)"
            ]
          },
          "metadata": {},
          "execution_count": 8
        }
      ]
    },
    {
      "cell_type": "code",
      "source": [
        "show_image(seven_tensors[1])"
      ],
      "metadata": {
        "id": "-R82EiF-EVN4",
        "outputId": "31a61289-2020-48a5-87c3-4ab4924dddac",
        "colab": {
          "base_uri": "https://localhost:8080/",
          "height": 104
        }
      },
      "execution_count": 12,
      "outputs": [
        {
          "output_type": "execute_result",
          "data": {
            "text/plain": [
              "<matplotlib.axes._subplots.AxesSubplot at 0x7fb30c50f490>"
            ]
          },
          "metadata": {},
          "execution_count": 12
        },
        {
          "output_type": "display_data",
          "data": {
            "text/plain": [
              "<Figure size 72x72 with 1 Axes>"
            ],
            "image/png": "[encoded data removed]"
          },
          "metadata": {
            "needs_background": "light"
          }
        }
      ]
    },
    {
      "cell_type": "code",
      "source": [
        "stacked_threes = torch.stack(three_tensors).float()/255\n",
        "stacked_sevens = torch.stack(seven_tensors).float()/255\n",
        "stacked_sevens.shape"
      ],
      "metadata": {
        "id": "OTDaPuzBEdbA",
        "outputId": "8a35316f-f2bc-405e-a343-cea7b71ba71e",
        "colab": {
          "base_uri": "https://localhost:8080/"
        }
      },
      "execution_count": 9,
      "outputs": [
        {
          "output_type": "execute_result",
          "data": {
            "text/plain": [
              "torch.Size([6265, 28, 28])"
            ]
          },
          "metadata": {},
          "execution_count": 9
        }
      ]
    },
    {
      "cell_type": "code",
      "source": [
        "len(stacked_sevens.shape)"
      ],
      "metadata": {
        "id": "XfBXVKAEE-le",
        "outputId": "b7e989d8-b34a-4d58-af94-57f72e15ef61",
        "colab": {
          "base_uri": "https://localhost:8080/"
        }
      },
      "execution_count": 15,
      "outputs": [
        {
          "output_type": "execute_result",
          "data": {
            "text/plain": [
              "3"
            ]
          },
          "metadata": {},
          "execution_count": 15
        }
      ]
    },
    {
      "cell_type": "code",
      "source": [
        "stacked_sevens.ndim"
      ],
      "metadata": {
        "id": "p4WeFOXsFID3",
        "outputId": "40383b55-e2d8-48da-ee8b-3efe49d164bf",
        "colab": {
          "base_uri": "https://localhost:8080/"
        }
      },
      "execution_count": 16,
      "outputs": [
        {
          "output_type": "execute_result",
          "data": {
            "text/plain": [
              "3"
            ]
          },
          "metadata": {},
          "execution_count": 16
        }
      ]
    },
    {
      "cell_type": "code",
      "source": [
        "mean3 = stacked_threes.mean(0)\n",
        "show_image(mean3)"
      ],
      "metadata": {
        "id": "kH2Xl7Y2FQHJ",
        "outputId": "8b0b72bd-24d6-4074-e6cc-d515d08baf77",
        "colab": {
          "base_uri": "https://localhost:8080/",
          "height": 104
        }
      },
      "execution_count": 10,
      "outputs": [
        {
          "output_type": "execute_result",
          "data": {
            "text/plain": [
              "<matplotlib.axes._subplots.AxesSubplot at 0x7ff29584aad0>"
            ]
          },
          "metadata": {},
          "execution_count": 10
        },
        {
          "output_type": "display_data",
          "data": {
            "text/plain": [
              "<Figure size 72x72 with 1 Axes>"
            ],
            "image/png": "[encoded data removed]"
          },
          "metadata": {
            "needs_background": "light"
          }
        }
      ]
    },
    {
      "cell_type": "code",
      "source": [
        "mean7 = stacked_sevens.mean(0)\n",
        "show_image(mean7)"
      ],
      "metadata": {
        "id": "w1LyInEeFfyW",
        "outputId": "0bc2a367-68ef-4b20-c5c2-85d1b4fb14aa",
        "colab": {
          "base_uri": "https://localhost:8080/",
          "height": 104
        }
      },
      "execution_count": 11,
      "outputs": [
        {
          "output_type": "execute_result",
          "data": {
            "text/plain": [
              "<matplotlib.axes._subplots.AxesSubplot at 0x7ff2952dec50>"
            ]
          },
          "metadata": {},
          "execution_count": 11
        },
        {
          "output_type": "display_data",
          "data": {
            "text/plain": [
              "<Figure size 72x72 with 1 Axes>"
            ],
            "image/png": "[encoded data removed]"
          },
          "metadata": {
            "needs_background": "light"
          }
        }
      ]
    },
    {
      "cell_type": "code",
      "source": [
        "a_7 = stacked_sevens[1]\n",
        "show_image(a_7)"
      ],
      "metadata": {
        "id": "gZvhu5w5F31p",
        "outputId": "001c9234-ccc9-41ed-ed06-7b0f48c8ebfb",
        "colab": {
          "base_uri": "https://localhost:8080/",
          "height": 104
        }
      },
      "execution_count": 14,
      "outputs": [
        {
          "output_type": "execute_result",
          "data": {
            "text/plain": [
              "<matplotlib.axes._subplots.AxesSubplot at 0x7ff2952a6d10>"
            ]
          },
          "metadata": {},
          "execution_count": 14
        },
        {
          "output_type": "display_data",
          "data": {
            "text/plain": [
              "<Figure size 72x72 with 1 Axes>"
            ],
            "image/png": "[encoded data removed]"
          },
          "metadata": {
            "needs_background": "light"
          }
        }
      ]
    },
    {
      "cell_type": "code",
      "source": [
        "dist_3_abs = (a_7 - mean3).abs().mean()\n",
        "dist_3_sqrt = ((a_7 - mean3)**2).mean().sqrt()\n",
        "dist_3_abs, dist_3_sqrt"
      ],
      "metadata": {
        "id": "IHariNGnFr0R",
        "outputId": "b4e22fb4-20d9-444d-bd1e-18ab81fbe4d7",
        "colab": {
          "base_uri": "https://localhost:8080/"
        }
      },
      "execution_count": 21,
      "outputs": [
        {
          "output_type": "execute_result",
          "data": {
            "text/plain": [
              "(tensor(0.1854), tensor(0.3271))"
            ]
          },
          "metadata": {},
          "execution_count": 21
        }
      ]
    },
    {
      "cell_type": "code",
      "source": [
        "dist_7_abs = (a_7 - mean7).abs().mean()\n",
        "dist_7_sqrt = ((a_7 - mean7)**2).mean().sqrt()\n",
        "dist_7_abs, dist_7_sqrt"
      ],
      "metadata": {
        "id": "kDmFBELkGsrR",
        "outputId": "f238b0ff-53dd-4f2a-91ea-20ab153e0957",
        "colab": {
          "base_uri": "https://localhost:8080/"
        }
      },
      "execution_count": 23,
      "outputs": [
        {
          "output_type": "execute_result",
          "data": {
            "text/plain": [
              "(tensor(0.1304), tensor(0.2585))"
            ]
          },
          "metadata": {},
          "execution_count": 23
        }
      ]
    },
    {
      "cell_type": "code",
      "source": [
        "F.l1_loss(a_7, mean3), F.mse_loss(a_7, mean3).sqrt()"
      ],
      "metadata": {
        "id": "WpBN7A-rHI_u",
        "outputId": "fbeab36e-de0d-423e-e73e-09576a0cbf74",
        "colab": {
          "base_uri": "https://localhost:8080/"
        }
      },
      "execution_count": 25,
      "outputs": [
        {
          "output_type": "execute_result",
          "data": {
            "text/plain": [
              "(tensor(0.1854), tensor(0.3271))"
            ]
          },
          "metadata": {},
          "execution_count": 25
        }
      ]
    },
    {
      "cell_type": "code",
      "source": [
        "F.l1_loss(a_7, mean7), F.mse_loss(a_7, mean7).sqrt()"
      ],
      "metadata": {
        "id": "YpFgYPZOHhTd",
        "outputId": "824dd1d5-5179-4366-b1a2-59b7cff2aeb5",
        "colab": {
          "base_uri": "https://localhost:8080/"
        }
      },
      "execution_count": 26,
      "outputs": [
        {
          "output_type": "execute_result",
          "data": {
            "text/plain": [
              "(tensor(0.1304), tensor(0.2585))"
            ]
          },
          "metadata": {},
          "execution_count": 26
        }
      ]
    },
    {
      "cell_type": "markdown",
      "metadata": {
        "id": "xlYHzqDsyLPN"
      },
      "source": [
        "### NumPy Arrays and PyTorch Tensors"
      ]
    },
    {
      "cell_type": "code",
      "source": [
        "data = [[1,2,3], [4,5,6]]\n",
        "arr = array(data)\n",
        "tens = tensor(data)"
      ],
      "metadata": {
        "id": "e80ZM5AWDti6"
      },
      "execution_count": 27,
      "outputs": []
    },
    {
      "cell_type": "code",
      "source": [
        "arr"
      ],
      "metadata": {
        "id": "VFkraWO6JFjB",
        "outputId": "d9816f5b-1c48-4d21-bdc9-b175a2275c35",
        "colab": {
          "base_uri": "https://localhost:8080/"
        }
      },
      "execution_count": 28,
      "outputs": [
        {
          "output_type": "execute_result",
          "data": {
            "text/plain": [
              "array([[1, 2, 3],\n",
              "       [4, 5, 6]])"
            ]
          },
          "metadata": {},
          "execution_count": 28
        }
      ]
    },
    {
      "cell_type": "code",
      "source": [
        "tens"
      ],
      "metadata": {
        "id": "lmGoNwNGJHPL",
        "outputId": "88668936-aaef-4493-8357-0d9cbc27d2e9",
        "colab": {
          "base_uri": "https://localhost:8080/"
        }
      },
      "execution_count": 29,
      "outputs": [
        {
          "output_type": "execute_result",
          "data": {
            "text/plain": [
              "tensor([[1, 2, 3],\n",
              "        [4, 5, 6]])"
            ]
          },
          "metadata": {},
          "execution_count": 29
        }
      ]
    },
    {
      "cell_type": "code",
      "source": [
        "tens[:, 1]"
      ],
      "metadata": {
        "id": "p7SWCD2VJJKQ",
        "outputId": "db00dcae-0d97-40de-9ac9-7f30a09faebb",
        "colab": {
          "base_uri": "https://localhost:8080/"
        }
      },
      "execution_count": 30,
      "outputs": [
        {
          "output_type": "execute_result",
          "data": {
            "text/plain": [
              "tensor([2, 5])"
            ]
          },
          "metadata": {},
          "execution_count": 30
        }
      ]
    },
    {
      "cell_type": "code",
      "source": [
        "tens[1, 0:2]"
      ],
      "metadata": {
        "id": "gHWbbHiJJWNh",
        "outputId": "2a9829bd-1966-4596-ed6c-1aadd4444daf",
        "colab": {
          "base_uri": "https://localhost:8080/"
        }
      },
      "execution_count": 31,
      "outputs": [
        {
          "output_type": "execute_result",
          "data": {
            "text/plain": [
              "tensor([4, 5])"
            ]
          },
          "metadata": {},
          "execution_count": 31
        }
      ]
    },
    {
      "cell_type": "code",
      "source": [
        "tens*2"
      ],
      "metadata": {
        "id": "2McfSrziJpHm",
        "outputId": "6bc58399-4e79-420c-91d8-d7e881f4b425",
        "colab": {
          "base_uri": "https://localhost:8080/"
        }
      },
      "execution_count": 32,
      "outputs": [
        {
          "output_type": "execute_result",
          "data": {
            "text/plain": [
              "tensor([[ 2,  4,  6],\n",
              "        [ 8, 10, 12]])"
            ]
          },
          "metadata": {},
          "execution_count": 32
        }
      ]
    },
    {
      "cell_type": "code",
      "source": [
        "tens.type()"
      ],
      "metadata": {
        "id": "rvQmPOFAJwU-",
        "outputId": "3931e349-6772-4cfc-a968-af089fb2b27a",
        "colab": {
          "base_uri": "https://localhost:8080/",
          "height": 36
        }
      },
      "execution_count": 33,
      "outputs": [
        {
          "output_type": "execute_result",
          "data": {
            "text/plain": [
              "'torch.LongTensor'"
            ],
            "application/vnd.google.colaboratory.intrinsic+json": {
              "type": "string"
            }
          },
          "metadata": {},
          "execution_count": 33
        }
      ]
    },
    {
      "cell_type": "code",
      "source": [
        "tens*1.1"
      ],
      "metadata": {
        "id": "--rHEXRBJ28F",
        "outputId": "d2300928-11d5-47fd-879d-c717a28466a3",
        "colab": {
          "base_uri": "https://localhost:8080/"
        }
      },
      "execution_count": 36,
      "outputs": [
        {
          "output_type": "execute_result",
          "data": {
            "text/plain": [
              "tensor([[1.1000, 2.2000, 3.3000],\n",
              "        [4.4000, 5.5000, 6.6000]])"
            ]
          },
          "metadata": {},
          "execution_count": 36
        }
      ]
    },
    {
      "cell_type": "markdown",
      "metadata": {
        "id": "LNr_38FtyLPT"
      },
      "source": [
        "## Computing Metrics Using Broadcasting"
      ]
    },
    {
      "cell_type": "code",
      "source": [
        "valid_3_tens = torch.stack([tensor(Image.open(o)) for o in (path/'valid'/'3').ls()])\n",
        "valid_3_tens = valid_3_tens.float()/255\n",
        "\n",
        "valid_7_tens = torch.stack([tensor(Image.open(o)) for o in (path/'valid'/'7').ls()])\n",
        "valid_7_tens = valid_7_tens.float()/255\n",
        "\n",
        "valid_3_tens.shape, valid_7_tens.shape"
      ],
      "metadata": {
        "id": "Sp2eczJrQxwy",
        "outputId": "775de6f0-fdb2-48f4-f5df-033fd7b12d85",
        "colab": {
          "base_uri": "https://localhost:8080/"
        }
      },
      "execution_count": 12,
      "outputs": [
        {
          "output_type": "execute_result",
          "data": {
            "text/plain": [
              "(torch.Size([1010, 28, 28]), torch.Size([1028, 28, 28]))"
            ]
          },
          "metadata": {},
          "execution_count": 12
        }
      ]
    },
    {
      "cell_type": "code",
      "source": [
        "def mnist_dist(a,b):\n",
        "  return (a-b).abs().mean((-1,-2))\n",
        "\n",
        "mnist_dist(a_7, mean7)"
      ],
      "metadata": {
        "id": "yg4Gqq4_SYR6",
        "outputId": "bc8b06e8-377c-4c05-aad3-4f1ad5e68da8",
        "colab": {
          "base_uri": "https://localhost:8080/"
        }
      },
      "execution_count": 15,
      "outputs": [
        {
          "output_type": "execute_result",
          "data": {
            "text/plain": [
              "tensor(0.1304)"
            ]
          },
          "metadata": {},
          "execution_count": 15
        }
      ]
    },
    {
      "cell_type": "code",
      "source": [
        "valid_3_dist = mnist_dist(valid_3_tens, mean3)\n",
        "valid_3_dist, valid_3_dist.shape"
      ],
      "metadata": {
        "id": "cm-2BKnlTCPc",
        "outputId": "5cca5856-f0e2-4e5d-c390-b9c1aba82892",
        "colab": {
          "base_uri": "https://localhost:8080/"
        }
      },
      "execution_count": 16,
      "outputs": [
        {
          "output_type": "execute_result",
          "data": {
            "text/plain": [
              "(tensor([0.1555, 0.1460, 0.1075,  ..., 0.1506, 0.1541, 0.1309]),\n",
              " torch.Size([1010]))"
            ]
          },
          "metadata": {},
          "execution_count": 16
        }
      ]
    },
    {
      "cell_type": "code",
      "source": [
        "def is_3(x):\n",
        "  return mnist_dist(x, mean3) < mnist_dist(x, mean7)"
      ],
      "metadata": {
        "id": "AHoeWPj4T8Nq"
      },
      "execution_count": 17,
      "outputs": []
    },
    {
      "cell_type": "code",
      "source": [
        "is_3(a_7)"
      ],
      "metadata": {
        "id": "eWoSkaSDULZm",
        "outputId": "18ec9df1-450d-4847-e502-4f5b05251d26",
        "colab": {
          "base_uri": "https://localhost:8080/"
        }
      },
      "execution_count": 25,
      "outputs": [
        {
          "output_type": "execute_result",
          "data": {
            "text/plain": [
              "tensor(False)"
            ]
          },
          "metadata": {},
          "execution_count": 25
        }
      ]
    },
    {
      "cell_type": "code",
      "source": [
        "accuracy_3s = is_3(valid_3_tens).float().mean()\n",
        "accuracy_7s = (1 - is_3(valid_7_tens).float()).mean()\n",
        "accuracy_3s, accuracy_7s"
      ],
      "metadata": {
        "id": "1NCyqbZBUQXo",
        "outputId": "894cbdcf-f7e5-41b2-e454-096b4308f054",
        "colab": {
          "base_uri": "https://localhost:8080/"
        }
      },
      "execution_count": 24,
      "outputs": [
        {
          "output_type": "execute_result",
          "data": {
            "text/plain": [
              "(tensor(0.9168), tensor(0.9854))"
            ]
          },
          "metadata": {},
          "execution_count": 24
        }
      ]
    },
    {
      "cell_type": "markdown",
      "metadata": {
        "id": "9NgMOt8AyLPW"
      },
      "source": [
        "## Stochastic Gradient Descent (SGD)"
      ]
    },
    {
      "cell_type": "code",
      "execution_count": null,
      "metadata": {
        "id": "u4tKbpZyyLPW"
      },
      "outputs": [],
      "source": [
        "gv('''\n",
        "init->predict->loss->gradient->step->stop\n",
        "step->predict[label=repeat]\n",
        "''')"
      ]
    },
    {
      "cell_type": "code",
      "execution_count": null,
      "metadata": {
        "id": "VfUsDPOuyLPX"
      },
      "outputs": [],
      "source": [
        "def f(x): return x**2"
      ]
    },
    {
      "cell_type": "code",
      "execution_count": null,
      "metadata": {
        "id": "ySFhRVoOyLPX"
      },
      "outputs": [],
      "source": [
        "plot_function(f, 'x', 'x**2')"
      ]
    },
    {
      "cell_type": "code",
      "execution_count": null,
      "metadata": {
        "id": "RqNNo3IDyLPY"
      },
      "outputs": [],
      "source": [
        "plot_function(f, 'x', 'x**2')\n",
        "plt.scatter(-1.5, f(-1.5), color='red');"
      ]
    },
    {
      "cell_type": "markdown",
      "metadata": {
        "id": "Lf9eHrCWyLPY"
      },
      "source": [
        "### Calculating Gradients"
      ]
    },
    {
      "cell_type": "code",
      "execution_count": null,
      "metadata": {
        "id": "xlmeBjpiyLPZ"
      },
      "outputs": [],
      "source": [
        "xt = tensor(3.).requires_grad_()"
      ]
    },
    {
      "cell_type": "code",
      "execution_count": null,
      "metadata": {
        "id": "BklE_RweyLPa"
      },
      "outputs": [],
      "source": [
        "yt = f(xt)\n",
        "yt"
      ]
    },
    {
      "cell_type": "code",
      "execution_count": null,
      "metadata": {
        "id": "EMRg_fvPyLPa"
      },
      "outputs": [],
      "source": [
        "yt.backward()"
      ]
    },
    {
      "cell_type": "code",
      "execution_count": null,
      "metadata": {
        "id": "vJw35vwmyLPb"
      },
      "outputs": [],
      "source": [
        "xt.grad"
      ]
    },
    {
      "cell_type": "code",
      "execution_count": null,
      "metadata": {
        "id": "lYOm9CbeyLPb"
      },
      "outputs": [],
      "source": [
        "xt = tensor([3.,4.,10.]).requires_grad_()\n",
        "xt"
      ]
    },
    {
      "cell_type": "code",
      "execution_count": null,
      "metadata": {
        "id": "ARsRD3KsyLPc"
      },
      "outputs": [],
      "source": [
        "def f(x): return (x**2).sum()\n",
        "\n",
        "yt = f(xt)\n",
        "yt"
      ]
    },
    {
      "cell_type": "code",
      "execution_count": null,
      "metadata": {
        "id": "k2OtlS3jyLPc"
      },
      "outputs": [],
      "source": [
        "yt.backward()\n",
        "xt.grad"
      ]
    },
    {
      "cell_type": "markdown",
      "metadata": {
        "id": "eTA0_JZvyLPc"
      },
      "source": [
        "### Stepping With a Learning Rate"
      ]
    },
    {
      "cell_type": "markdown",
      "metadata": {
        "id": "JAV3etBkyLPd"
      },
      "source": [
        "### An End-to-End SGD Example"
      ]
    },
    {
      "cell_type": "code",
      "execution_count": null,
      "metadata": {
        "id": "-6WYS44iyLPd"
      },
      "outputs": [],
      "source": [
        "time = torch.arange(0,20).float(); time"
      ]
    },
    {
      "cell_type": "code",
      "execution_count": null,
      "metadata": {
        "id": "xMYHLN2vyLPk"
      },
      "outputs": [],
      "source": [
        "speed = torch.randn(20)*3 + 0.75*(time-9.5)**2 + 1\n",
        "plt.scatter(time,speed);"
      ]
    },
    {
      "cell_type": "code",
      "execution_count": null,
      "metadata": {
        "id": "_7lZed-6yLPk"
      },
      "outputs": [],
      "source": [
        "def f(t, params):\n",
        "    a,b,c = params\n",
        "    return a*(t**2) + (b*t) + c"
      ]
    },
    {
      "cell_type": "code",
      "execution_count": null,
      "metadata": {
        "id": "9FuZDouayLPl"
      },
      "outputs": [],
      "source": [
        "def mse(preds, targets): return ((preds-targets)**2).mean().sqrt()"
      ]
    },
    {
      "cell_type": "markdown",
      "metadata": {
        "id": "jVqszGsNyLPl"
      },
      "source": [
        "#### Step 1: Initialize the parameters"
      ]
    },
    {
      "cell_type": "code",
      "execution_count": null,
      "metadata": {
        "id": "zmi-xgdoyLPl"
      },
      "outputs": [],
      "source": [
        "params = torch.randn(3).requires_grad_()"
      ]
    },
    {
      "cell_type": "code",
      "execution_count": null,
      "metadata": {
        "id": "6XKQXIcdyLPl"
      },
      "outputs": [],
      "source": [
        "#hide\n",
        "orig_params = params.clone()"
      ]
    },
    {
      "cell_type": "markdown",
      "metadata": {
        "id": "v3fE_8rAyLPm"
      },
      "source": [
        "#### Step 2: Calculate the predictions"
      ]
    },
    {
      "cell_type": "code",
      "execution_count": null,
      "metadata": {
        "id": "sumBBjL5yLPm"
      },
      "outputs": [],
      "source": [
        "preds = f(time, params)"
      ]
    },
    {
      "cell_type": "code",
      "execution_count": null,
      "metadata": {
        "id": "oZzlcivryLPm"
      },
      "outputs": [],
      "source": [
        "def show_preds(preds, ax=None):\n",
        "    if ax is None: ax=plt.subplots()[1]\n",
        "    ax.scatter(time, speed)\n",
        "    ax.scatter(time, to_np(preds), color='red')\n",
        "    ax.set_ylim(-300,100)"
      ]
    },
    {
      "cell_type": "code",
      "execution_count": null,
      "metadata": {
        "id": "FQNCx8oCyLPn"
      },
      "outputs": [],
      "source": [
        "show_preds(preds)"
      ]
    },
    {
      "cell_type": "markdown",
      "metadata": {
        "id": "VMQZ2yXMyLPn"
      },
      "source": [
        "#### Step 3: Calculate the loss"
      ]
    },
    {
      "cell_type": "code",
      "execution_count": null,
      "metadata": {
        "id": "zexlB6WOyLPn"
      },
      "outputs": [],
      "source": [
        "loss = mse(preds, speed)\n",
        "loss"
      ]
    },
    {
      "cell_type": "markdown",
      "metadata": {
        "id": "1eEA7CGiyLPo"
      },
      "source": [
        "#### Step 4: Calculate the gradients"
      ]
    },
    {
      "cell_type": "code",
      "execution_count": null,
      "metadata": {
        "id": "G6bgdhFcyLPo"
      },
      "outputs": [],
      "source": [
        "loss.backward()\n",
        "params.grad"
      ]
    },
    {
      "cell_type": "code",
      "execution_count": null,
      "metadata": {
        "id": "ieN5cv5iyLPp"
      },
      "outputs": [],
      "source": [
        "params.grad * 1e-5"
      ]
    },
    {
      "cell_type": "code",
      "execution_count": null,
      "metadata": {
        "id": "T5eoVnBPyLPp"
      },
      "outputs": [],
      "source": [
        "params"
      ]
    },
    {
      "cell_type": "markdown",
      "metadata": {
        "id": "A6cbTle_yLPq"
      },
      "source": [
        "#### Step 5: Step the weights. "
      ]
    },
    {
      "cell_type": "code",
      "execution_count": null,
      "metadata": {
        "id": "_w59JipiyLPq"
      },
      "outputs": [],
      "source": [
        "lr = 1e-5\n",
        "params.data -= lr * params.grad.data\n",
        "params.grad = None"
      ]
    },
    {
      "cell_type": "code",
      "execution_count": null,
      "metadata": {
        "id": "ULTrG6lByLPq"
      },
      "outputs": [],
      "source": [
        "preds = f(time,params)\n",
        "mse(preds, speed)"
      ]
    },
    {
      "cell_type": "code",
      "execution_count": null,
      "metadata": {
        "id": "7I5q02U_yLPr"
      },
      "outputs": [],
      "source": [
        "show_preds(preds)"
      ]
    },
    {
      "cell_type": "code",
      "execution_count": null,
      "metadata": {
        "id": "y4uh63x2yLPr"
      },
      "outputs": [],
      "source": [
        "def apply_step(params, prn=True):\n",
        "    preds = f(time, params)\n",
        "    loss = mse(preds, speed)\n",
        "    loss.backward()\n",
        "    params.data -= lr * params.grad.data\n",
        "    params.grad = None\n",
        "    if prn: print(loss.item())\n",
        "    return preds"
      ]
    },
    {
      "cell_type": "markdown",
      "metadata": {
        "id": "P2HnBxF3yLPs"
      },
      "source": [
        "#### Step 6: Repeat the process "
      ]
    },
    {
      "cell_type": "code",
      "execution_count": null,
      "metadata": {
        "id": "Pq9iVM9xyLPs"
      },
      "outputs": [],
      "source": [
        "for i in range(10): apply_step(params)"
      ]
    },
    {
      "cell_type": "code",
      "execution_count": null,
      "metadata": {
        "id": "jDXQY2PoyLPs"
      },
      "outputs": [],
      "source": [
        "#hide\n",
        "params = orig_params.detach().requires_grad_()"
      ]
    },
    {
      "cell_type": "code",
      "execution_count": null,
      "metadata": {
        "id": "BtDPFzkgyLPt"
      },
      "outputs": [],
      "source": [
        "_,axs = plt.subplots(1,4,figsize=(12,3))\n",
        "for ax in axs: show_preds(apply_step(params, False), ax)\n",
        "plt.tight_layout()"
      ]
    },
    {
      "cell_type": "markdown",
      "metadata": {
        "id": "YKbaA8pvyLPt"
      },
      "source": [
        "#### Step 7: stop"
      ]
    },
    {
      "cell_type": "markdown",
      "metadata": {
        "id": "JywA5KO7yLPt"
      },
      "source": [
        "### Summarizing Gradient Descent"
      ]
    },
    {
      "cell_type": "code",
      "execution_count": null,
      "metadata": {
        "id": "Ni6DO0a8yLPu"
      },
      "outputs": [],
      "source": [
        "gv('''\n",
        "init->predict->loss->gradient->step->stop\n",
        "step->predict[label=repeat]\n",
        "''')"
      ]
    },
    {
      "cell_type": "markdown",
      "metadata": {
        "id": "MfyRVlbcyLPu"
      },
      "source": [
        "## The MNIST Loss Function"
      ]
    },
    {
      "cell_type": "code",
      "execution_count": null,
      "metadata": {
        "id": "NYw2ifQvyLPu"
      },
      "outputs": [],
      "source": [
        "train_x = torch.cat([stacked_threes, stacked_sevens]).view(-1, 28*28)"
      ]
    },
    {
      "cell_type": "code",
      "execution_count": null,
      "metadata": {
        "id": "jugJSh6RyLPv"
      },
      "outputs": [],
      "source": [
        "train_y = tensor([1]*len(threes) + [0]*len(sevens)).unsqueeze(1)\n",
        "train_x.shape,train_y.shape"
      ]
    },
    {
      "cell_type": "code",
      "execution_count": null,
      "metadata": {
        "id": "zZk4L5aIyLPv"
      },
      "outputs": [],
      "source": [
        "dset = list(zip(train_x,train_y))\n",
        "x,y = dset[0]\n",
        "x.shape,y"
      ]
    },
    {
      "cell_type": "code",
      "execution_count": null,
      "metadata": {
        "id": "OHHwGZM3yLPv"
      },
      "outputs": [],
      "source": [
        "valid_x = torch.cat([valid_3_tens, valid_7_tens]).view(-1, 28*28)\n",
        "valid_y = tensor([1]*len(valid_3_tens) + [0]*len(valid_7_tens)).unsqueeze(1)\n",
        "valid_dset = list(zip(valid_x,valid_y))"
      ]
    },
    {
      "cell_type": "code",
      "execution_count": null,
      "metadata": {
        "id": "BxL1SHDwyLPw"
      },
      "outputs": [],
      "source": [
        "def init_params(size, std=1.0): return (torch.randn(size)*std).requires_grad_()"
      ]
    },
    {
      "cell_type": "code",
      "execution_count": null,
      "metadata": {
        "id": "XOnf2oAtyLPw"
      },
      "outputs": [],
      "source": [
        "weights = init_params((28*28,1))"
      ]
    },
    {
      "cell_type": "code",
      "execution_count": null,
      "metadata": {
        "id": "7Mw5iWwAyLPz"
      },
      "outputs": [],
      "source": [
        "bias = init_params(1)"
      ]
    },
    {
      "cell_type": "code",
      "execution_count": null,
      "metadata": {
        "id": "P9yOMGFvyLP0"
      },
      "outputs": [],
      "source": [
        "(train_x[0]*weights.T).sum() + bias"
      ]
    },
    {
      "cell_type": "code",
      "execution_count": null,
      "metadata": {
        "id": "nmX-2SVfyLP0"
      },
      "outputs": [],
      "source": [
        "def linear1(xb): return xb@weights + bias\n",
        "preds = linear1(train_x)\n",
        "preds"
      ]
    },
    {
      "cell_type": "code",
      "execution_count": null,
      "metadata": {
        "id": "0tvq8rvCyLP0"
      },
      "outputs": [],
      "source": [
        "corrects = (preds>0.5).float() == train_y\n",
        "corrects"
      ]
    },
    {
      "cell_type": "code",
      "execution_count": null,
      "metadata": {
        "id": "6tks1ja8yLP1"
      },
      "outputs": [],
      "source": [
        "corrects.float().mean().item()"
      ]
    },
    {
      "cell_type": "code",
      "execution_count": null,
      "metadata": {
        "id": "2Bl7Ww3kyLP1"
      },
      "outputs": [],
      "source": [
        "weights[0] *= 1.0001"
      ]
    },
    {
      "cell_type": "code",
      "execution_count": null,
      "metadata": {
        "id": "oi3tYyMHyLP1"
      },
      "outputs": [],
      "source": [
        "preds = linear1(train_x)\n",
        "((preds>0.0).float() == train_y).float().mean().item()"
      ]
    },
    {
      "cell_type": "code",
      "execution_count": null,
      "metadata": {
        "id": "R3d_7btUyLP2"
      },
      "outputs": [],
      "source": [
        "trgts  = tensor([1,0,1])\n",
        "prds   = tensor([0.9, 0.4, 0.2])"
      ]
    },
    {
      "cell_type": "code",
      "execution_count": null,
      "metadata": {
        "id": "SzEeJuLEyLP2"
      },
      "outputs": [],
      "source": [
        "def mnist_loss(predictions, targets):\n",
        "    return torch.where(targets==1, 1-predictions, predictions).mean()"
      ]
    },
    {
      "cell_type": "code",
      "execution_count": null,
      "metadata": {
        "id": "dBtmj6-AyLP3"
      },
      "outputs": [],
      "source": [
        "torch.where(trgts==1, 1-prds, prds)"
      ]
    },
    {
      "cell_type": "code",
      "execution_count": null,
      "metadata": {
        "id": "eZm9zJ1iyLP3"
      },
      "outputs": [],
      "source": [
        "mnist_loss(prds,trgts)"
      ]
    },
    {
      "cell_type": "code",
      "execution_count": null,
      "metadata": {
        "id": "n0dFgUTiyLP3"
      },
      "outputs": [],
      "source": [
        "mnist_loss(tensor([0.9, 0.4, 0.8]),trgts)"
      ]
    },
    {
      "cell_type": "markdown",
      "metadata": {
        "id": "Uuts5bPYyLP3"
      },
      "source": [
        "### Sigmoid"
      ]
    },
    {
      "cell_type": "code",
      "execution_count": null,
      "metadata": {
        "id": "Fu9T-CkDyLP4"
      },
      "outputs": [],
      "source": [
        "def sigmoid(x): return 1/(1+torch.exp(-x))"
      ]
    },
    {
      "cell_type": "code",
      "execution_count": null,
      "metadata": {
        "id": "3aJme0soyLP4"
      },
      "outputs": [],
      "source": [
        "plot_function(torch.sigmoid, title='Sigmoid', min=-4, max=4)"
      ]
    },
    {
      "cell_type": "code",
      "execution_count": null,
      "metadata": {
        "id": "M-UxGMV3yLP4"
      },
      "outputs": [],
      "source": [
        "def mnist_loss(predictions, targets):\n",
        "    predictions = predictions.sigmoid()\n",
        "    return torch.where(targets==1, 1-predictions, predictions).mean()"
      ]
    },
    {
      "cell_type": "markdown",
      "metadata": {
        "id": "lqqJJO4RyLP5"
      },
      "source": [
        "### SGD and Mini-Batches"
      ]
    },
    {
      "cell_type": "code",
      "execution_count": null,
      "metadata": {
        "id": "8I2veLQWyLP5"
      },
      "outputs": [],
      "source": [
        "coll = range(15)\n",
        "dl = DataLoader(coll, batch_size=5, shuffle=True)\n",
        "list(dl)"
      ]
    },
    {
      "cell_type": "code",
      "execution_count": null,
      "metadata": {
        "id": "fUSBC2_zyLP6"
      },
      "outputs": [],
      "source": [
        "ds = L(enumerate(string.ascii_lowercase))\n",
        "ds"
      ]
    },
    {
      "cell_type": "code",
      "execution_count": null,
      "metadata": {
        "id": "AgFioWfcyLP6"
      },
      "outputs": [],
      "source": [
        "dl = DataLoader(ds, batch_size=6, shuffle=True)\n",
        "list(dl)"
      ]
    },
    {
      "cell_type": "markdown",
      "metadata": {
        "id": "8K2c4mhSyLP6"
      },
      "source": [
        "## Putting It All Together"
      ]
    },
    {
      "cell_type": "code",
      "execution_count": null,
      "metadata": {
        "id": "5-sl540ZyLP7"
      },
      "outputs": [],
      "source": [
        "weights = init_params((28*28,1))\n",
        "bias = init_params(1)"
      ]
    },
    {
      "cell_type": "code",
      "execution_count": null,
      "metadata": {
        "id": "Wql6_dtEyLP8"
      },
      "outputs": [],
      "source": [
        "dl = DataLoader(dset, batch_size=256)\n",
        "xb,yb = first(dl)\n",
        "xb.shape,yb.shape"
      ]
    },
    {
      "cell_type": "code",
      "execution_count": null,
      "metadata": {
        "id": "9nqVqC-SyLP8"
      },
      "outputs": [],
      "source": [
        "valid_dl = DataLoader(valid_dset, batch_size=256)"
      ]
    },
    {
      "cell_type": "code",
      "execution_count": null,
      "metadata": {
        "id": "dzRP5UAqyLP9"
      },
      "outputs": [],
      "source": [
        "batch = train_x[:4]\n",
        "batch.shape"
      ]
    },
    {
      "cell_type": "code",
      "execution_count": null,
      "metadata": {
        "id": "uAVbcnBayLP-"
      },
      "outputs": [],
      "source": [
        "preds = linear1(batch)\n",
        "preds"
      ]
    },
    {
      "cell_type": "code",
      "execution_count": null,
      "metadata": {
        "id": "1wwHmn1ryLP-"
      },
      "outputs": [],
      "source": [
        "loss = mnist_loss(preds, train_y[:4])\n",
        "loss"
      ]
    },
    {
      "cell_type": "code",
      "execution_count": null,
      "metadata": {
        "id": "RzUkUmz9yLP-"
      },
      "outputs": [],
      "source": [
        "loss.backward()\n",
        "weights.grad.shape,weights.grad.mean(),bias.grad"
      ]
    },
    {
      "cell_type": "code",
      "execution_count": null,
      "metadata": {
        "id": "nrWiywgJyLP_"
      },
      "outputs": [],
      "source": [
        "def calc_grad(xb, yb, model):\n",
        "    preds = model(xb)\n",
        "    loss = mnist_loss(preds, yb)\n",
        "    loss.backward()"
      ]
    },
    {
      "cell_type": "code",
      "execution_count": null,
      "metadata": {
        "id": "LVkKjSd2yLP_"
      },
      "outputs": [],
      "source": [
        "calc_grad(batch, train_y[:4], linear1)\n",
        "weights.grad.mean(),bias.grad"
      ]
    },
    {
      "cell_type": "code",
      "execution_count": null,
      "metadata": {
        "id": "uXvK0zwByLP_"
      },
      "outputs": [],
      "source": [
        "calc_grad(batch, train_y[:4], linear1)\n",
        "weights.grad.mean(),bias.grad"
      ]
    },
    {
      "cell_type": "code",
      "execution_count": null,
      "metadata": {
        "id": "-Mfvswe3yLQA"
      },
      "outputs": [],
      "source": [
        "weights.grad.zero_()\n",
        "bias.grad.zero_();"
      ]
    },
    {
      "cell_type": "code",
      "execution_count": null,
      "metadata": {
        "id": "b5rTi1MnyLQA"
      },
      "outputs": [],
      "source": [
        "def train_epoch(model, lr, params):\n",
        "    for xb,yb in dl:\n",
        "        calc_grad(xb, yb, model)\n",
        "        for p in params:\n",
        "            p.data -= p.grad*lr\n",
        "            p.grad.zero_()"
      ]
    },
    {
      "cell_type": "code",
      "execution_count": null,
      "metadata": {
        "id": "YEvYe0LtyLQA"
      },
      "outputs": [],
      "source": [
        "(preds>0.0).float() == train_y[:4]"
      ]
    },
    {
      "cell_type": "code",
      "execution_count": null,
      "metadata": {
        "id": "DjDwiqHDyLQA"
      },
      "outputs": [],
      "source": [
        "def batch_accuracy(xb, yb):\n",
        "    preds = xb.sigmoid()\n",
        "    correct = (preds>0.5) == yb\n",
        "    return correct.float().mean()"
      ]
    },
    {
      "cell_type": "code",
      "execution_count": null,
      "metadata": {
        "id": "OXauqIPvyLQA"
      },
      "outputs": [],
      "source": [
        "batch_accuracy(linear1(batch), train_y[:4])"
      ]
    },
    {
      "cell_type": "code",
      "execution_count": null,
      "metadata": {
        "id": "MmPB2FAOyLQB"
      },
      "outputs": [],
      "source": [
        "def validate_epoch(model):\n",
        "    accs = [batch_accuracy(model(xb), yb) for xb,yb in valid_dl]\n",
        "    return round(torch.stack(accs).mean().item(), 4)"
      ]
    },
    {
      "cell_type": "code",
      "execution_count": null,
      "metadata": {
        "id": "-AYmKqQ9yLQC"
      },
      "outputs": [],
      "source": [
        "validate_epoch(linear1)"
      ]
    },
    {
      "cell_type": "code",
      "execution_count": null,
      "metadata": {
        "id": "XKL1AhSZyLQC"
      },
      "outputs": [],
      "source": [
        "lr = 1.\n",
        "params = weights,bias\n",
        "train_epoch(linear1, lr, params)\n",
        "validate_epoch(linear1)"
      ]
    },
    {
      "cell_type": "code",
      "execution_count": null,
      "metadata": {
        "id": "6wECzCyQyLQC"
      },
      "outputs": [],
      "source": [
        "for i in range(20):\n",
        "    train_epoch(linear1, lr, params)\n",
        "    print(validate_epoch(linear1), end=' ')"
      ]
    },
    {
      "cell_type": "markdown",
      "metadata": {
        "id": "9mqHwFl7yLQC"
      },
      "source": [
        "### Creating an Optimizer"
      ]
    },
    {
      "cell_type": "code",
      "execution_count": null,
      "metadata": {
        "id": "yclvEVWQyLQD"
      },
      "outputs": [],
      "source": [
        "linear_model = nn.Linear(28*28,1)"
      ]
    },
    {
      "cell_type": "code",
      "execution_count": null,
      "metadata": {
        "id": "DTwJIY1pyLQD"
      },
      "outputs": [],
      "source": [
        "w,b = linear_model.parameters()\n",
        "w.shape,b.shape"
      ]
    },
    {
      "cell_type": "code",
      "execution_count": null,
      "metadata": {
        "id": "QkGZw0VqyLQD"
      },
      "outputs": [],
      "source": [
        "class BasicOptim:\n",
        "    def __init__(self,params,lr): self.params,self.lr = list(params),lr\n",
        "\n",
        "    def step(self, *args, **kwargs):\n",
        "        for p in self.params: p.data -= p.grad.data * self.lr\n",
        "\n",
        "    def zero_grad(self, *args, **kwargs):\n",
        "        for p in self.params: p.grad = None"
      ]
    },
    {
      "cell_type": "code",
      "execution_count": null,
      "metadata": {
        "id": "7tUuMBkRyLQD"
      },
      "outputs": [],
      "source": [
        "opt = BasicOptim(linear_model.parameters(), lr)"
      ]
    },
    {
      "cell_type": "code",
      "execution_count": null,
      "metadata": {
        "id": "ZGSnGlJeyLQE"
      },
      "outputs": [],
      "source": [
        "def train_epoch(model):\n",
        "    for xb,yb in dl:\n",
        "        calc_grad(xb, yb, model)\n",
        "        opt.step()\n",
        "        opt.zero_grad()"
      ]
    },
    {
      "cell_type": "code",
      "execution_count": null,
      "metadata": {
        "id": "WXL4fOscyLQE"
      },
      "outputs": [],
      "source": [
        "validate_epoch(linear_model)"
      ]
    },
    {
      "cell_type": "code",
      "execution_count": null,
      "metadata": {
        "id": "IicjqMiVyLQE"
      },
      "outputs": [],
      "source": [
        "def train_model(model, epochs):\n",
        "    for i in range(epochs):\n",
        "        train_epoch(model)\n",
        "        print(validate_epoch(model), end=' ')"
      ]
    },
    {
      "cell_type": "code",
      "execution_count": null,
      "metadata": {
        "id": "COXWXvc3yLQF"
      },
      "outputs": [],
      "source": [
        "train_model(linear_model, 20)"
      ]
    },
    {
      "cell_type": "code",
      "execution_count": null,
      "metadata": {
        "id": "ZQBVMi0AyLQF"
      },
      "outputs": [],
      "source": [
        "linear_model = nn.Linear(28*28,1)\n",
        "opt = SGD(linear_model.parameters(), lr)\n",
        "train_model(linear_model, 20)"
      ]
    },
    {
      "cell_type": "code",
      "execution_count": null,
      "metadata": {
        "id": "3NSlF_i8yLQF"
      },
      "outputs": [],
      "source": [
        "dls = DataLoaders(dl, valid_dl)"
      ]
    },
    {
      "cell_type": "code",
      "execution_count": null,
      "metadata": {
        "id": "4Qq1ujm6yLQF"
      },
      "outputs": [],
      "source": [
        "learn = Learner(dls, nn.Linear(28*28,1), opt_func=SGD,\n",
        "                loss_func=mnist_loss, metrics=batch_accuracy)"
      ]
    },
    {
      "cell_type": "code",
      "execution_count": null,
      "metadata": {
        "id": "FQPE6A_qyLQG"
      },
      "outputs": [],
      "source": [
        "learn.fit(10, lr=lr)"
      ]
    },
    {
      "cell_type": "markdown",
      "metadata": {
        "id": "seLeKcRryLQH"
      },
      "source": [
        "## Adding a Nonlinearity"
      ]
    },
    {
      "cell_type": "code",
      "execution_count": null,
      "metadata": {
        "id": "KG3tLi84yLQH"
      },
      "outputs": [],
      "source": [
        "def simple_net(xb): \n",
        "    res = xb@w1 + b1\n",
        "    res = res.max(tensor(0.0))\n",
        "    res = res@w2 + b2\n",
        "    return res"
      ]
    },
    {
      "cell_type": "code",
      "execution_count": null,
      "metadata": {
        "id": "NdG0JanLyLQI"
      },
      "outputs": [],
      "source": [
        "w1 = init_params((28*28,30))\n",
        "b1 = init_params(30)\n",
        "w2 = init_params((30,1))\n",
        "b2 = init_params(1)"
      ]
    },
    {
      "cell_type": "code",
      "execution_count": null,
      "metadata": {
        "id": "qSt-509DyLQJ"
      },
      "outputs": [],
      "source": [
        "plot_function(F.relu)"
      ]
    },
    {
      "cell_type": "code",
      "execution_count": null,
      "metadata": {
        "id": "YU9zoh9_yLQJ"
      },
      "outputs": [],
      "source": [
        "simple_net = nn.Sequential(\n",
        "    nn.Linear(28*28,30),\n",
        "    nn.ReLU(),\n",
        "    nn.Linear(30,1)\n",
        ")"
      ]
    },
    {
      "cell_type": "code",
      "execution_count": null,
      "metadata": {
        "id": "L-a4iH_jyLQJ"
      },
      "outputs": [],
      "source": [
        "learn = Learner(dls, simple_net, opt_func=SGD,\n",
        "                loss_func=mnist_loss, metrics=batch_accuracy)"
      ]
    },
    {
      "cell_type": "code",
      "execution_count": null,
      "metadata": {
        "id": "KQavct6EyLQK"
      },
      "outputs": [],
      "source": [
        "learn.fit(40, 0.1)"
      ]
    },
    {
      "cell_type": "code",
      "execution_count": null,
      "metadata": {
        "id": "BOIgv9L-yLQK"
      },
      "outputs": [],
      "source": [
        "plt.plot(L(learn.recorder.values).itemgot(2));"
      ]
    },
    {
      "cell_type": "code",
      "execution_count": null,
      "metadata": {
        "id": "44Vio31uyLQK"
      },
      "outputs": [],
      "source": [
        "learn.recorder.values[-1][2]"
      ]
    },
    {
      "cell_type": "markdown",
      "metadata": {
        "id": "FnFoFssIyLQK"
      },
      "source": [
        "### Going Deeper"
      ]
    },
    {
      "cell_type": "code",
      "execution_count": null,
      "metadata": {
        "id": "187UqlIWyLQL"
      },
      "outputs": [],
      "source": [
        "dls = ImageDataLoaders.from_folder(path)\n",
        "learn = cnn_learner(dls, resnet18, pretrained=False,\n",
        "                    loss_func=F.cross_entropy, metrics=accuracy)\n",
        "learn.fit_one_cycle(1, 0.1)"
      ]
    },
    {
      "cell_type": "markdown",
      "metadata": {
        "id": "bdW_rqx_yLQL"
      },
      "source": [
        "## Jargon Recap"
      ]
    },
    {
      "cell_type": "markdown",
      "metadata": {
        "id": "DDxFMbBGyLQL"
      },
      "source": [
        "## Questionnaire"
      ]
    },
    {
      "cell_type": "markdown",
      "metadata": {
        "id": "blkgx29RyLQL"
      },
      "source": [
        "1. How is a grayscale image represented on a computer? How about a color image?\n",
        "1. How are the files and folders in the `MNIST_SAMPLE` dataset structured? Why?\n",
        "1. Explain how the \"pixel similarity\" approach to classifying digits works.\n",
        "1. What is a list comprehension? Create one now that selects odd numbers from a list and doubles them.\n",
        "1. What is a \"rank-3 tensor\"?\n",
        "1. What is the difference between tensor rank and shape? How do you get the rank from the shape?\n",
        "1. What are RMSE and L1 norm?\n",
        "1. How can you apply a calculation on thousands of numbers at once, many thousands of times faster than a Python loop?\n",
        "1. Create a 3×3 tensor or array containing the numbers from 1 to 9. Double it. Select the bottom-right four numbers.\n",
        "1. What is broadcasting?\n",
        "1. Are metrics generally calculated using the training set, or the validation set? Why?\n",
        "1. What is SGD?\n",
        "1. Why does SGD use mini-batches?\n",
        "1. What are the seven steps in SGD for machine learning?\n",
        "1. How do we initialize the weights in a model?\n",
        "1. What is \"loss\"?\n",
        "1. Why can't we always use a high learning rate?\n",
        "1. What is a \"gradient\"?\n",
        "1. Do you need to know how to calculate gradients yourself?\n",
        "1. Why can't we use accuracy as a loss function?\n",
        "1. Draw the sigmoid function. What is special about its shape?\n",
        "1. What is the difference between a loss function and a metric?\n",
        "1. What is the function to calculate new weights using a learning rate?\n",
        "1. What does the `DataLoader` class do?\n",
        "1. Write pseudocode showing the basic steps taken in each epoch for SGD.\n",
        "1. Create a function that, if passed two arguments `[1,2,3,4]` and `'abcd'`, returns `[(1, 'a'), (2, 'b'), (3, 'c'), (4, 'd')]`. What is special about that output data structure?\n",
        "1. What does `view` do in PyTorch?\n",
        "1. What are the \"bias\" parameters in a neural network? Why do we need them?\n",
        "1. What does the `@` operator do in Python?\n",
        "1. What does the `backward` method do?\n",
        "1. Why do we have to zero the gradients?\n",
        "1. What information do we have to pass to `Learner`?\n",
        "1. Show Python or pseudocode for the basic steps of a training loop.\n",
        "1. What is \"ReLU\"? Draw a plot of it for values from `-2` to `+2`.\n",
        "1. What is an \"activation function\"?\n",
        "1. What's the difference between `F.relu` and `nn.ReLU`?\n",
        "1. The universal approximation theorem shows that any function can be approximated as closely as needed using just one nonlinearity. So why do we normally use more?"
      ]
    },
    {
      "cell_type": "markdown",
      "metadata": {
        "id": "av4Ll8-MyLQN"
      },
      "source": [
        "### Further Research"
      ]
    },
    {
      "cell_type": "markdown",
      "metadata": {
        "id": "O-ow2ctSyLQN"
      },
      "source": [
        "1. Create your own implementation of `Learner` from scratch, based on the training loop shown in this chapter.\n",
        "1. Complete all the steps in this chapter using the full MNIST datasets (that is, for all digits, not just 3s and 7s). This is a significant project and will take you quite a bit of time to complete! You'll need to do some of your own research to figure out how to overcome some obstacles you'll meet on the way."
      ]
    },
    {
      "cell_type": "code",
      "execution_count": null,
      "metadata": {
        "id": "v2N-XcdpyLQN"
      },
      "outputs": [],
      "source": [
        ""
      ]
    }
  ],
  "metadata": {
    "jupytext": {
      "split_at_heading": true
    },
    "kernelspec": {
      "display_name": "Python 3 (ipykernel)",
      "language": "python",
      "name": "python3"
    },
    "colab": {
      "name": "04_mnist_basics.ipynb",
      "provenance": []
    },
    "accelerator": "GPU"
  },
  "nbformat": 4,
  "nbformat_minor": 0
}