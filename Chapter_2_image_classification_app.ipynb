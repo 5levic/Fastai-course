{
  "nbformat": 4,
  "nbformat_minor": 0,
  "metadata": {
    "colab": {
      "name": "Chapter 2 - image classification.ipynb",
      "provenance": [],
      "collapsed_sections": [],
      "authorship_tag": "ABX9TyNGAH1P/Grt8NpjtGbYhKiz",
      "include_colab_link": true
    },
    "kernelspec": {
      "name": "python3",
      "display_name": "Python 3"
    },
    "language_info": {
      "name": "python"
    },
    "accelerator": "GPU",
    "widgets": {
      "application/vnd.jupyter.widget-state+json": {
        "f97059b05abd466391e56fd36fde4361": {
          "model_module": "@jupyter-widgets/controls",
          "model_name": "FileUploadModel",
          "model_module_version": "1.5.0",
          "state": {
            "_counter": 1,
            "_dom_classes": [],
            "_model_module": "@jupyter-widgets/controls",
            "_model_module_version": "1.5.0",
            "_model_name": "FileUploadModel",
            "_view_count": null,
            "_view_module": "@jupyter-widgets/controls",
            "_view_module_version": "1.5.0",
            "_view_name": "FileUploadView",
            "accept": "",
            "button_style": "",
            "data": [
              null
            ],
            "description": "Upload",
            "description_tooltip": null,
            "disabled": false,
            "error": "",
            "icon": "upload",
            "layout": "IPY_MODEL_8988e8ed6a464c3e8f1aff5b14d43398",
            "metadata": [
              {
                "name": "Red eagle.jpg",
                "type": "image/jpeg",
                "size": 51951,
                "lastModified": 1647196717999
              }
            ],
            "multiple": false,
            "style": "IPY_MODEL_50ce698e4aab4398b4facdd1786b55f5"
          }
        },
        "8988e8ed6a464c3e8f1aff5b14d43398": {
          "model_module": "@jupyter-widgets/base",
          "model_name": "LayoutModel",
          "model_module_version": "1.2.0",
          "state": {
            "_model_module": "@jupyter-widgets/base",
            "_model_module_version": "1.2.0",
            "_model_name": "LayoutModel",
            "_view_count": null,
            "_view_module": "@jupyter-widgets/base",
            "_view_module_version": "1.2.0",
            "_view_name": "LayoutView",
            "align_content": null,
            "align_items": null,
            "align_self": null,
            "border": null,
            "bottom": null,
            "display": null,
            "flex": null,
            "flex_flow": null,
            "grid_area": null,
            "grid_auto_columns": null,
            "grid_auto_flow": null,
            "grid_auto_rows": null,
            "grid_column": null,
            "grid_gap": null,
            "grid_row": null,
            "grid_template_areas": null,
            "grid_template_columns": null,
            "grid_template_rows": null,
            "height": null,
            "justify_content": null,
            "justify_items": null,
            "left": null,
            "margin": null,
            "max_height": null,
            "max_width": null,
            "min_height": null,
            "min_width": null,
            "object_fit": null,
            "object_position": null,
            "order": null,
            "overflow": null,
            "overflow_x": null,
            "overflow_y": null,
            "padding": null,
            "right": null,
            "top": null,
            "visibility": null,
            "width": null
          }
        },
        "50ce698e4aab4398b4facdd1786b55f5": {
          "model_module": "@jupyter-widgets/controls",
          "model_name": "ButtonStyleModel",
          "model_module_version": "1.5.0",
          "state": {
            "_model_module": "@jupyter-widgets/controls",
            "_model_module_version": "1.5.0",
            "_model_name": "ButtonStyleModel",
            "_view_count": null,
            "_view_module": "@jupyter-widgets/base",
            "_view_module_version": "1.2.0",
            "_view_name": "StyleView",
            "button_color": null,
            "font_weight": ""
          }
        },
        "ad30daf8c62a40458aeda62d90862352": {
          "model_module": "@jupyter-widgets/controls",
          "model_name": "VBoxModel",
          "model_module_version": "1.5.0",
          "state": {
            "_dom_classes": [],
            "_model_module": "@jupyter-widgets/controls",
            "_model_module_version": "1.5.0",
            "_model_name": "VBoxModel",
            "_view_count": null,
            "_view_module": "@jupyter-widgets/controls",
            "_view_module_version": "1.5.0",
            "_view_name": "VBoxView",
            "box_style": "",
            "children": [
              "IPY_MODEL_e8a21c1101b74500a5eb18db897dc5a9",
              "IPY_MODEL_f97059b05abd466391e56fd36fde4361",
              "IPY_MODEL_849777c647414f168ca229416c090aff",
              "IPY_MODEL_8917ca68190642038b96b8ca3fe40754",
              "IPY_MODEL_68e1ddd5d4194eb082c9eefcec2057c1"
            ],
            "layout": "IPY_MODEL_0129cc6511ab44368782a3b9a0ae273e"
          }
        },
        "e8a21c1101b74500a5eb18db897dc5a9": {
          "model_module": "@jupyter-widgets/controls",
          "model_name": "LabelModel",
          "model_module_version": "1.5.0",
          "state": {
            "_dom_classes": [],
            "_model_module": "@jupyter-widgets/controls",
            "_model_module_version": "1.5.0",
            "_model_name": "LabelModel",
            "_view_count": null,
            "_view_module": "@jupyter-widgets/controls",
            "_view_module_version": "1.5.0",
            "_view_name": "LabelView",
            "description": "",
            "description_tooltip": null,
            "layout": "IPY_MODEL_a86680a7ccb240eb90310e7dd93ef303",
            "placeholder": "​",
            "style": "IPY_MODEL_1d7c36e9db5e4fc4a67fd67b8bf0a5f8",
            "value": "Select your flower!"
          }
        },
        "849777c647414f168ca229416c090aff": {
          "model_module": "@jupyter-widgets/controls",
          "model_name": "ButtonModel",
          "model_module_version": "1.5.0",
          "state": {
            "_dom_classes": [],
            "_model_module": "@jupyter-widgets/controls",
            "_model_module_version": "1.5.0",
            "_model_name": "ButtonModel",
            "_view_count": null,
            "_view_module": "@jupyter-widgets/controls",
            "_view_module_version": "1.5.0",
            "_view_name": "ButtonView",
            "button_style": "",
            "description": "Classify",
            "disabled": false,
            "icon": "",
            "layout": "IPY_MODEL_b33f2cc2ff1b454b84c466514a4e6cd1",
            "style": "IPY_MODEL_d6505ba9f2de4493b277d50f53547be2",
            "tooltip": ""
          }
        },
        "8917ca68190642038b96b8ca3fe40754": {
          "model_module": "@jupyter-widgets/output",
          "model_name": "OutputModel",
          "model_module_version": "1.0.0",
          "state": {
            "_dom_classes": [],
            "_model_module": "@jupyter-widgets/output",
            "_model_module_version": "1.0.0",
            "_model_name": "OutputModel",
            "_view_count": null,
            "_view_module": "@jupyter-widgets/output",
            "_view_module_version": "1.0.0",
            "_view_name": "OutputView",
            "layout": "IPY_MODEL_1ebb8f5188864ae09390d64e45a160d2",
            "msg_id": "",
            "outputs": [
              {
                "output_type": "display_data",
                "data": {
                  "text/plain": "<PIL.Image.Image image mode=RGB size=224x224 at 0x7FA613ACE8D0>",
                  "image/png": "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\n"
                },
                "metadata": {}
              }
            ]
          }
        },
        "68e1ddd5d4194eb082c9eefcec2057c1": {
          "model_module": "@jupyter-widgets/controls",
          "model_name": "LabelModel",
          "model_module_version": "1.5.0",
          "state": {
            "_dom_classes": [],
            "_model_module": "@jupyter-widgets/controls",
            "_model_module_version": "1.5.0",
            "_model_name": "LabelModel",
            "_view_count": null,
            "_view_module": "@jupyter-widgets/controls",
            "_view_module_version": "1.5.0",
            "_view_name": "LabelView",
            "description": "",
            "description_tooltip": null,
            "layout": "IPY_MODEL_ce22bc4314ea4a879397bbadcb6d8751",
            "placeholder": "​",
            "style": "IPY_MODEL_b6ca0591647a48a5808d4b58b246ae16",
            "value": "Prediction: rose; Probability: 1.00"
          }
        },
        "0129cc6511ab44368782a3b9a0ae273e": {
          "model_module": "@jupyter-widgets/base",
          "model_name": "LayoutModel",
          "model_module_version": "1.2.0",
          "state": {
            "_model_module": "@jupyter-widgets/base",
            "_model_module_version": "1.2.0",
            "_model_name": "LayoutModel",
            "_view_count": null,
            "_view_module": "@jupyter-widgets/base",
            "_view_module_version": "1.2.0",
            "_view_name": "LayoutView",
            "align_content": null,
            "align_items": null,
            "align_self": null,
            "border": null,
            "bottom": null,
            "display": null,
            "flex": null,
            "flex_flow": null,
            "grid_area": null,
            "grid_auto_columns": null,
            "grid_auto_flow": null,
            "grid_auto_rows": null,
            "grid_column": null,
            "grid_gap": null,
            "grid_row": null,
            "grid_template_areas": null,
            "grid_template_columns": null,
            "grid_template_rows": null,
            "height": null,
            "justify_content": null,
            "justify_items": null,
            "left": null,
            "margin": null,
            "max_height": null,
            "max_width": null,
            "min_height": null,
            "min_width": null,
            "object_fit": null,
            "object_position": null,
            "order": null,
            "overflow": null,
            "overflow_x": null,
            "overflow_y": null,
            "padding": null,
            "right": null,
            "top": null,
            "visibility": null,
            "width": null
          }
        },
        "a86680a7ccb240eb90310e7dd93ef303": {
          "model_module": "@jupyter-widgets/base",
          "model_name": "LayoutModel",
          "model_module_version": "1.2.0",
          "state": {
            "_model_module": "@jupyter-widgets/base",
            "_model_module_version": "1.2.0",
            "_model_name": "LayoutModel",
            "_view_count": null,
            "_view_module": "@jupyter-widgets/base",
            "_view_module_version": "1.2.0",
            "_view_name": "LayoutView",
            "align_content": null,
            "align_items": null,
            "align_self": null,
            "border": null,
            "bottom": null,
            "display": null,
            "flex": null,
            "flex_flow": null,
            "grid_area": null,
            "grid_auto_columns": null,
            "grid_auto_flow": null,
            "grid_auto_rows": null,
            "grid_column": null,
            "grid_gap": null,
            "grid_row": null,
            "grid_template_areas": null,
            "grid_template_columns": null,
            "grid_template_rows": null,
            "height": null,
            "justify_content": null,
            "justify_items": null,
            "left": null,
            "margin": null,
            "max_height": null,
            "max_width": null,
            "min_height": null,
            "min_width": null,
            "object_fit": null,
            "object_position": null,
            "order": null,
            "overflow": null,
            "overflow_x": null,
            "overflow_y": null,
            "padding": null,
            "right": null,
            "top": null,
            "visibility": null,
            "width": null
          }
        },
        "1d7c36e9db5e4fc4a67fd67b8bf0a5f8": {
          "model_module": "@jupyter-widgets/controls",
          "model_name": "DescriptionStyleModel",
          "model_module_version": "1.5.0",
          "state": {
            "_model_module": "@jupyter-widgets/controls",
            "_model_module_version": "1.5.0",
            "_model_name": "DescriptionStyleModel",
            "_view_count": null,
            "_view_module": "@jupyter-widgets/base",
            "_view_module_version": "1.2.0",
            "_view_name": "StyleView",
            "description_width": ""
          }
        },
        "b33f2cc2ff1b454b84c466514a4e6cd1": {
          "model_module": "@jupyter-widgets/base",
          "model_name": "LayoutModel",
          "model_module_version": "1.2.0",
          "state": {
            "_model_module": "@jupyter-widgets/base",
            "_model_module_version": "1.2.0",
            "_model_name": "LayoutModel",
            "_view_count": null,
            "_view_module": "@jupyter-widgets/base",
            "_view_module_version": "1.2.0",
            "_view_name": "LayoutView",
            "align_content": null,
            "align_items": null,
            "align_self": null,
            "border": null,
            "bottom": null,
            "display": null,
            "flex": null,
            "flex_flow": null,
            "grid_area": null,
            "grid_auto_columns": null,
            "grid_auto_flow": null,
            "grid_auto_rows": null,
            "grid_column": null,
            "grid_gap": null,
            "grid_row": null,
            "grid_template_areas": null,
            "grid_template_columns": null,
            "grid_template_rows": null,
            "height": null,
            "justify_content": null,
            "justify_items": null,
            "left": null,
            "margin": null,
            "max_height": null,
            "max_width": null,
            "min_height": null,
            "min_width": null,
            "object_fit": null,
            "object_position": null,
            "order": null,
            "overflow": null,
            "overflow_x": null,
            "overflow_y": null,
            "padding": null,
            "right": null,
            "top": null,
            "visibility": null,
            "width": null
          }
        },
        "d6505ba9f2de4493b277d50f53547be2": {
          "model_module": "@jupyter-widgets/controls",
          "model_name": "ButtonStyleModel",
          "model_module_version": "1.5.0",
          "state": {
            "_model_module": "@jupyter-widgets/controls",
            "_model_module_version": "1.5.0",
            "_model_name": "ButtonStyleModel",
            "_view_count": null,
            "_view_module": "@jupyter-widgets/base",
            "_view_module_version": "1.2.0",
            "_view_name": "StyleView",
            "button_color": null,
            "font_weight": ""
          }
        },
        "ce22bc4314ea4a879397bbadcb6d8751": {
          "model_module": "@jupyter-widgets/base",
          "model_name": "LayoutModel",
          "model_module_version": "1.2.0",
          "state": {
            "_model_module": "@jupyter-widgets/base",
            "_model_module_version": "1.2.0",
            "_model_name": "LayoutModel",
            "_view_count": null,
            "_view_module": "@jupyter-widgets/base",
            "_view_module_version": "1.2.0",
            "_view_name": "LayoutView",
            "align_content": null,
            "align_items": null,
            "align_self": null,
            "border": null,
            "bottom": null,
            "display": null,
            "flex": null,
            "flex_flow": null,
            "grid_area": null,
            "grid_auto_columns": null,
            "grid_auto_flow": null,
            "grid_auto_rows": null,
            "grid_column": null,
            "grid_gap": null,
            "grid_row": null,
            "grid_template_areas": null,
            "grid_template_columns": null,
            "grid_template_rows": null,
            "height": null,
            "justify_content": null,
            "justify_items": null,
            "left": null,
            "margin": null,
            "max_height": null,
            "max_width": null,
            "min_height": null,
            "min_width": null,
            "object_fit": null,
            "object_position": null,
            "order": null,
            "overflow": null,
            "overflow_x": null,
            "overflow_y": null,
            "padding": null,
            "right": null,
            "top": null,
            "visibility": null,
            "width": null
          }
        },
        "b6ca0591647a48a5808d4b58b246ae16": {
          "model_module": "@jupyter-widgets/controls",
          "model_name": "DescriptionStyleModel",
          "model_module_version": "1.5.0",
          "state": {
            "_model_module": "@jupyter-widgets/controls",
            "_model_module_version": "1.5.0",
            "_model_name": "DescriptionStyleModel",
            "_view_count": null,
            "_view_module": "@jupyter-widgets/base",
            "_view_module_version": "1.2.0",
            "_view_name": "StyleView",
            "description_width": ""
          }
        },
        "1ebb8f5188864ae09390d64e45a160d2": {
          "model_module": "@jupyter-widgets/base",
          "model_name": "LayoutModel",
          "model_module_version": "1.2.0",
          "state": {
            "_model_module": "@jupyter-widgets/base",
            "_model_module_version": "1.2.0",
            "_model_name": "LayoutModel",
            "_view_count": null,
            "_view_module": "@jupyter-widgets/base",
            "_view_module_version": "1.2.0",
            "_view_name": "LayoutView",
            "align_content": null,
            "align_items": null,
            "align_self": null,
            "border": null,
            "bottom": null,
            "display": null,
            "flex": null,
            "flex_flow": null,
            "grid_area": null,
            "grid_auto_columns": null,
            "grid_auto_flow": null,
            "grid_auto_rows": null,
            "grid_column": null,
            "grid_gap": null,
            "grid_row": null,
            "grid_template_areas": null,
            "grid_template_columns": null,
            "grid_template_rows": null,
            "height": null,
            "justify_content": null,
            "justify_items": null,
            "left": null,
            "margin": null,
            "max_height": null,
            "max_width": null,
            "min_height": null,
            "min_width": null,
            "object_fit": null,
            "object_position": null,
            "order": null,
            "overflow": null,
            "overflow_x": null,
            "overflow_y": null,
            "padding": null,
            "right": null,
            "top": null,
            "visibility": null,
            "width": null
          }
        }
      }
    }
  },
  "cells": [
    {
      "cell_type": "markdown",
      "metadata": {
        "id": "view-in-github",
        "colab_type": "text"
      },
      "source": [
        "<a href=\"https://colab.research.google.com/github/5levic/Fastai-course/blob/main/Chapter_2_image_classification_app.ipynb\" target=\"_parent\"><img src=\"https://colab.research.google.com/assets/colab-badge.svg\" alt=\"Open In Colab\"/></a>"
      ]
    },
    {
      "cell_type": "markdown",
      "source": [
        "# The amazing flower classifier"
      ],
      "metadata": {
        "id": "62gHyIcL13vc"
      }
    },
    {
      "cell_type": "code",
      "source": [
        "!pip install voila\n",
        "!jupyter serverextension enable --sys-prefix voila\n",
        "from fastai.vision.all import *\n",
        "from fastai.vision.widgets import *\n"
      ],
      "metadata": {
        "colab": {
          "base_uri": "https://localhost:8080/"
        },
        "id": "AJZ8jWm0st-_",
        "outputId": "3d83b1d5-2161-4553-fe70-f9f99417d8ea"
      },
      "execution_count": 1,
      "outputs": [
        {
          "output_type": "stream",
          "name": "stdout",
          "text": [
            "Requirement already satisfied: voila in /usr/local/lib/python3.7/dist-packages (0.3.3)\n",
            "Requirement already satisfied: nbclient<0.6,>=0.4.0 in /usr/local/lib/python3.7/dist-packages (from voila) (0.5.12)\n",
            "Requirement already satisfied: nbconvert<7,>=6.4.2 in /usr/local/lib/python3.7/dist-packages (from voila) (6.4.4)\n",
            "Requirement already satisfied: jupyterlab-server<3,>=2.3.0 in /usr/local/lib/python3.7/dist-packages (from voila) (2.10.3)\n",
            "Requirement already satisfied: traitlets<6,>=5.0.3 in /usr/local/lib/python3.7/dist-packages (from voila) (5.1.1)\n",
            "Requirement already satisfied: websockets>=9.0 in /usr/local/lib/python3.7/dist-packages (from voila) (10.2)\n",
            "Requirement already satisfied: jupyter-server<2.0.0,>=0.3.0 in /usr/local/lib/python3.7/dist-packages (from voila) (1.13.5)\n",
            "Requirement already satisfied: jupyter-client<8,>=6.1.3 in /usr/local/lib/python3.7/dist-packages (from voila) (7.1.2)\n",
            "Requirement already satisfied: jupyter-core>=4.6.0 in /usr/local/lib/python3.7/dist-packages (from jupyter-client<8,>=6.1.3->voila) (4.9.2)\n",
            "Requirement already satisfied: tornado>=4.1 in /usr/local/lib/python3.7/dist-packages (from jupyter-client<8,>=6.1.3->voila) (6.1)\n",
            "Requirement already satisfied: entrypoints in /usr/local/lib/python3.7/dist-packages (from jupyter-client<8,>=6.1.3->voila) (0.4)\n",
            "Requirement already satisfied: python-dateutil>=2.1 in /usr/local/lib/python3.7/dist-packages (from jupyter-client<8,>=6.1.3->voila) (2.8.2)\n",
            "Requirement already satisfied: nest-asyncio>=1.5 in /usr/local/lib/python3.7/dist-packages (from jupyter-client<8,>=6.1.3->voila) (1.5.4)\n",
            "Requirement already satisfied: pyzmq>=13 in /usr/local/lib/python3.7/dist-packages (from jupyter-client<8,>=6.1.3->voila) (22.3.0)\n",
            "Requirement already satisfied: terminado>=0.8.3 in /usr/local/lib/python3.7/dist-packages (from jupyter-server<2.0.0,>=0.3.0->voila) (0.13.3)\n",
            "Requirement already satisfied: websocket-client in /usr/local/lib/python3.7/dist-packages (from jupyter-server<2.0.0,>=0.3.0->voila) (1.3.1)\n",
            "Requirement already satisfied: argon2-cffi in /usr/local/lib/python3.7/dist-packages (from jupyter-server<2.0.0,>=0.3.0->voila) (21.3.0)\n",
            "Requirement already satisfied: ipython-genutils in /usr/local/lib/python3.7/dist-packages (from jupyter-server<2.0.0,>=0.3.0->voila) (0.2.0)\n",
            "Requirement already satisfied: nbformat in /usr/local/lib/python3.7/dist-packages (from jupyter-server<2.0.0,>=0.3.0->voila) (5.1.3)\n",
            "Requirement already satisfied: packaging in /usr/local/lib/python3.7/dist-packages (from jupyter-server<2.0.0,>=0.3.0->voila) (21.3)\n",
            "Requirement already satisfied: prometheus-client in /usr/local/lib/python3.7/dist-packages (from jupyter-server<2.0.0,>=0.3.0->voila) (0.13.1)\n",
            "Requirement already satisfied: jinja2 in /usr/local/lib/python3.7/dist-packages (from jupyter-server<2.0.0,>=0.3.0->voila) (2.11.3)\n",
            "Requirement already satisfied: Send2Trash in /usr/local/lib/python3.7/dist-packages (from jupyter-server<2.0.0,>=0.3.0->voila) (1.8.0)\n",
            "Requirement already satisfied: anyio<4,>=3.1.0 in /usr/local/lib/python3.7/dist-packages (from jupyter-server<2.0.0,>=0.3.0->voila) (3.5.0)\n",
            "Requirement already satisfied: idna>=2.8 in /usr/local/lib/python3.7/dist-packages (from anyio<4,>=3.1.0->jupyter-server<2.0.0,>=0.3.0->voila) (2.10)\n",
            "Requirement already satisfied: typing-extensions in /usr/local/lib/python3.7/dist-packages (from anyio<4,>=3.1.0->jupyter-server<2.0.0,>=0.3.0->voila) (3.10.0.2)\n",
            "Requirement already satisfied: sniffio>=1.1 in /usr/local/lib/python3.7/dist-packages (from anyio<4,>=3.1.0->jupyter-server<2.0.0,>=0.3.0->voila) (1.2.0)\n",
            "Requirement already satisfied: jsonschema>=3.0.1 in /usr/local/lib/python3.7/dist-packages (from jupyterlab-server<3,>=2.3.0->voila) (4.3.3)\n",
            "Requirement already satisfied: requests in /usr/local/lib/python3.7/dist-packages (from jupyterlab-server<3,>=2.3.0->voila) (2.23.0)\n",
            "Requirement already satisfied: json5 in /usr/local/lib/python3.7/dist-packages (from jupyterlab-server<3,>=2.3.0->voila) (0.9.6)\n",
            "Requirement already satisfied: babel in /usr/local/lib/python3.7/dist-packages (from jupyterlab-server<3,>=2.3.0->voila) (2.9.1)\n",
            "Requirement already satisfied: MarkupSafe>=0.23 in /usr/local/lib/python3.7/dist-packages (from jinja2->jupyter-server<2.0.0,>=0.3.0->voila) (2.0.1)\n",
            "Requirement already satisfied: attrs>=17.4.0 in /usr/local/lib/python3.7/dist-packages (from jsonschema>=3.0.1->jupyterlab-server<3,>=2.3.0->voila) (21.4.0)\n",
            "Requirement already satisfied: pyrsistent!=0.17.0,!=0.17.1,!=0.17.2,>=0.14.0 in /usr/local/lib/python3.7/dist-packages (from jsonschema>=3.0.1->jupyterlab-server<3,>=2.3.0->voila) (0.18.1)\n",
            "Requirement already satisfied: importlib-metadata in /usr/local/lib/python3.7/dist-packages (from jsonschema>=3.0.1->jupyterlab-server<3,>=2.3.0->voila) (4.11.2)\n",
            "Requirement already satisfied: importlib-resources>=1.4.0 in /usr/local/lib/python3.7/dist-packages (from jsonschema>=3.0.1->jupyterlab-server<3,>=2.3.0->voila) (5.4.0)\n",
            "Requirement already satisfied: zipp>=3.1.0 in /usr/local/lib/python3.7/dist-packages (from importlib-resources>=1.4.0->jsonschema>=3.0.1->jupyterlab-server<3,>=2.3.0->voila) (3.7.0)\n",
            "Requirement already satisfied: pygments>=2.4.1 in /usr/local/lib/python3.7/dist-packages (from nbconvert<7,>=6.4.2->voila) (2.6.1)\n",
            "Requirement already satisfied: jupyterlab-pygments in /usr/local/lib/python3.7/dist-packages (from nbconvert<7,>=6.4.2->voila) (0.1.2)\n",
            "Requirement already satisfied: pandocfilters>=1.4.1 in /usr/local/lib/python3.7/dist-packages (from nbconvert<7,>=6.4.2->voila) (1.5.0)\n",
            "Requirement already satisfied: bleach in /usr/local/lib/python3.7/dist-packages (from nbconvert<7,>=6.4.2->voila) (4.1.0)\n",
            "Requirement already satisfied: beautifulsoup4 in /usr/local/lib/python3.7/dist-packages (from nbconvert<7,>=6.4.2->voila) (4.6.3)\n",
            "Requirement already satisfied: testpath in /usr/local/lib/python3.7/dist-packages (from nbconvert<7,>=6.4.2->voila) (0.6.0)\n",
            "Requirement already satisfied: defusedxml in /usr/local/lib/python3.7/dist-packages (from nbconvert<7,>=6.4.2->voila) (0.7.1)\n",
            "Requirement already satisfied: mistune<2,>=0.8.1 in /usr/local/lib/python3.7/dist-packages (from nbconvert<7,>=6.4.2->voila) (0.8.4)\n",
            "Requirement already satisfied: six>=1.5 in /usr/local/lib/python3.7/dist-packages (from python-dateutil>=2.1->jupyter-client<8,>=6.1.3->voila) (1.15.0)\n",
            "Requirement already satisfied: ptyprocess in /usr/local/lib/python3.7/dist-packages (from terminado>=0.8.3->jupyter-server<2.0.0,>=0.3.0->voila) (0.7.0)\n",
            "Requirement already satisfied: argon2-cffi-bindings in /usr/local/lib/python3.7/dist-packages (from argon2-cffi->jupyter-server<2.0.0,>=0.3.0->voila) (21.2.0)\n",
            "Requirement already satisfied: cffi>=1.0.1 in /usr/local/lib/python3.7/dist-packages (from argon2-cffi-bindings->argon2-cffi->jupyter-server<2.0.0,>=0.3.0->voila) (1.15.0)\n",
            "Requirement already satisfied: pycparser in /usr/local/lib/python3.7/dist-packages (from cffi>=1.0.1->argon2-cffi-bindings->argon2-cffi->jupyter-server<2.0.0,>=0.3.0->voila) (2.21)\n",
            "Requirement already satisfied: pytz>=2015.7 in /usr/local/lib/python3.7/dist-packages (from babel->jupyterlab-server<3,>=2.3.0->voila) (2018.9)\n",
            "Requirement already satisfied: webencodings in /usr/local/lib/python3.7/dist-packages (from bleach->nbconvert<7,>=6.4.2->voila) (0.5.1)\n",
            "Requirement already satisfied: pyparsing!=3.0.5,>=2.0.2 in /usr/local/lib/python3.7/dist-packages (from packaging->jupyter-server<2.0.0,>=0.3.0->voila) (3.0.7)\n",
            "Requirement already satisfied: chardet<4,>=3.0.2 in /usr/local/lib/python3.7/dist-packages (from requests->jupyterlab-server<3,>=2.3.0->voila) (3.0.4)\n",
            "Requirement already satisfied: certifi>=2017.4.17 in /usr/local/lib/python3.7/dist-packages (from requests->jupyterlab-server<3,>=2.3.0->voila) (2021.10.8)\n",
            "Requirement already satisfied: urllib3!=1.25.0,!=1.25.1,<1.26,>=1.21.1 in /usr/local/lib/python3.7/dist-packages (from requests->jupyterlab-server<3,>=2.3.0->voila) (1.24.3)\n",
            "Enabling: voila\n",
            "- Writing config: /usr/etc/jupyter\n",
            "    - Validating...\n",
            "      voila  \u001b[32mOK\u001b[0m\n"
          ]
        }
      ]
    },
    {
      "cell_type": "code",
      "source": [
        "learn_inf = load_learner('/content/drive/MyDrive/Colab Notebooks/export.pkl')"
      ],
      "metadata": {
        "id": "X6Fhl3m-D_3e"
      },
      "execution_count": 5,
      "outputs": []
    },
    {
      "cell_type": "code",
      "source": [
        "btn = widgets.FileUpload()\n",
        "out = widgets.Output()\n",
        "lbl = widgets.Label()\n",
        "btn_run = widgets.Button(description='Classify')"
      ],
      "metadata": {
        "colab": {
          "base_uri": "https://localhost:8080/",
          "height": 49,
          "referenced_widgets": [
            "f97059b05abd466391e56fd36fde4361",
            "8988e8ed6a464c3e8f1aff5b14d43398",
            "50ce698e4aab4398b4facdd1786b55f5"
          ]
        },
        "id": "CAbIXPtpmNZY",
        "outputId": "7243cbfd-a9a6-4681-ff44-30565c7bf572"
      },
      "execution_count": 27,
      "outputs": [
        {
          "output_type": "display_data",
          "data": {
            "text/plain": [
              "FileUpload(value={}, description='Upload')"
            ],
            "application/vnd.jupyter.widget-view+json": {
              "version_major": 2,
              "version_minor": 0,
              "model_id": "f97059b05abd466391e56fd36fde4361"
            }
          },
          "metadata": {}
        }
      ]
    },
    {
      "cell_type": "code",
      "source": [
        "def on_click_classify(change):\n",
        "  img = PILImage.create(btn.data[-1])\n",
        "  out.clear_output()\n",
        "  with out: display(img.to_thumb(224,224))\n",
        "  pred,pred_idx,probs = learn_inf.predict(img)\n",
        "  lbl.value = f'Prediction: {pred}; Probability: {probs[pred_idx]:.02f}'\n",
        "\n",
        "btn_run.on_click(on_click_classify)"
      ],
      "metadata": {
        "id": "MeH_yDstuZnp"
      },
      "execution_count": 25,
      "outputs": []
    },
    {
      "cell_type": "code",
      "source": [
        "VBox([widgets.Label('Select your flower!'), btn, btn_run, out, lbl])"
      ],
      "metadata": {
        "colab": {
          "base_uri": "https://localhost:8080/",
          "height": 369,
          "referenced_widgets": [
            "ad30daf8c62a40458aeda62d90862352",
            "e8a21c1101b74500a5eb18db897dc5a9",
            "f97059b05abd466391e56fd36fde4361",
            "849777c647414f168ca229416c090aff",
            "8917ca68190642038b96b8ca3fe40754",
            "68e1ddd5d4194eb082c9eefcec2057c1",
            "0129cc6511ab44368782a3b9a0ae273e",
            "a86680a7ccb240eb90310e7dd93ef303",
            "1d7c36e9db5e4fc4a67fd67b8bf0a5f8",
            "8988e8ed6a464c3e8f1aff5b14d43398",
            "50ce698e4aab4398b4facdd1786b55f5",
            "b33f2cc2ff1b454b84c466514a4e6cd1",
            "d6505ba9f2de4493b277d50f53547be2",
            "ce22bc4314ea4a879397bbadcb6d8751",
            "b6ca0591647a48a5808d4b58b246ae16",
            "1ebb8f5188864ae09390d64e45a160d2"
          ]
        },
        "id": "UW77d9Nbvksn",
        "outputId": "f20f0bde-1f1f-4528-9a50-94dddeeffa07"
      },
      "execution_count": 30,
      "outputs": [
        {
          "output_type": "display_data",
          "data": {
            "text/plain": [
              "VBox(children=(Label(value='Select your flower!'), FileUpload(value={}, description='Upload'), Button(descript…"
            ],
            "application/vnd.jupyter.widget-view+json": {
              "version_major": 2,
              "version_minor": 0,
              "model_id": "ad30daf8c62a40458aeda62d90862352"
            }
          },
          "metadata": {}
        }
      ]
    }
  ]
}